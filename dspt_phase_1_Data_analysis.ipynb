{
  "nbformat": 4,
  "nbformat_minor": 0,
  "metadata": {
    "colab": {
      "provenance": [],
      "include_colab_link": true
    },
    "kernelspec": {
      "name": "python3",
      "display_name": "Python 3"
    },
    "language_info": {
      "name": "python"
    }
  },
  "cells": [
    {
      "cell_type": "markdown",
      "metadata": {
        "id": "view-in-github",
        "colab_type": "text"
      },
      "source": [
        "<a href=\"https://colab.research.google.com/github/Carol-Kambura/dsc-data-science-env-config/blob/master/dspt_phase_1_Data_analysis.ipynb\" target=\"_parent\"><img src=\"https://colab.research.google.com/assets/colab-badge.svg\" alt=\"Open In Colab\"/></a>"
      ]
    },
    {
      "cell_type": "markdown",
      "source": [
        "# Data analysis"
      ],
      "metadata": {
        "id": "kteG02AJX0WJ"
      }
    },
    {
      "cell_type": "markdown",
      "source": [
        "**Overview of the Lecture**\n",
        "\n",
        "1. Data analysis with CSV files\n",
        "\n",
        "2. Data analysis with JSON files\n",
        "\n",
        "3. Data analysis in Pandas\n"
      ],
      "metadata": {
        "id": "PCj2XYVfX0Vh"
      }
    },
    {
      "cell_type": "markdown",
      "source": [
        "## Data analysis with CSV files"
      ],
      "metadata": {
        "id": "z6pYNrams5If"
      }
    },
    {
      "cell_type": "markdown",
      "source": [
        "### Recap reading csv files"
      ],
      "metadata": {
        "id": "vk6jMdrTgpbv"
      }
    },
    {
      "cell_type": "code",
      "source": [
        "csv_file_path = \"/content/students_data.csv\""
      ],
      "metadata": {
        "id": "xSs3x2oFs6QZ"
      },
      "execution_count": 3,
      "outputs": []
    },
    {
      "cell_type": "code",
      "source": [
        "# This code prints the first line of the CSV file\n",
        "\n",
        "with open(csv_file_path) as csvfile:\n",
        "    print(csvfile.readline())"
      ],
      "metadata": {
        "id": "qAR25nTetD_i",
        "colab": {
          "base_uri": "https://localhost:8080/"
        },
        "outputId": "b52a4429-a9f9-4cc3-da26-571763affd9a"
      },
      "execution_count": 2,
      "outputs": [
        {
          "output_type": "stream",
          "name": "stdout",
          "text": [
            ",names,admission number,house,balance,english,kiswahili,mathematics,science,sst/cre,Creative Arts,music\n",
            "\n"
          ]
        }
      ]
    },
    {
      "cell_type": "code",
      "source": [
        "import csv"
      ],
      "metadata": {
        "id": "aJGq8nBgtH8o"
      },
      "execution_count": 4,
      "outputs": []
    },
    {
      "cell_type": "code",
      "source": [
        "# Print OrderedDict from first row of CSV file \n",
        "\n",
        "with open(csv_file_path) as csvfile:\n",
        "    reader = csv.DictReader(csvfile)\n",
        "    print(next(reader))"
      ],
      "metadata": {
        "id": "-J6XgKWctKO_",
        "colab": {
          "base_uri": "https://localhost:8080/"
        },
        "outputId": "c528a13d-549f-47d6-b3ca-8d35541432ca"
      },
      "execution_count": 5,
      "outputs": [
        {
          "output_type": "stream",
          "name": "stdout",
          "text": [
            "{'': '0', 'names': 'JERIEL NDEDA, OBURA', 'admission number': '13259.0', 'house': '', 'balance': '', 'english': '81.0', 'kiswahili': '39.0', 'mathematics': '50.0', 'science': '30', 'sst/cre': '59.0', 'Creative Arts': '99%', 'music': '80%'}\n"
          ]
        }
      ]
    },
    {
      "cell_type": "code",
      "source": [
        "students[0]"
      ],
      "metadata": {
        "id": "o9WJB9dHtezl",
        "colab": {
          "base_uri": "https://localhost:8080/",
          "height": 166
        },
        "outputId": "fdfaed1e-e4ff-4077-a56d-177bced0023d"
      },
      "execution_count": 6,
      "outputs": [
        {
          "output_type": "error",
          "ename": "NameError",
          "evalue": "ignored",
          "traceback": [
            "\u001b[0;31m---------------------------------------------------------------------------\u001b[0m",
            "\u001b[0;31mNameError\u001b[0m                                 Traceback (most recent call last)",
            "\u001b[0;32m<ipython-input-6-78d24d99529b>\u001b[0m in \u001b[0;36m<module>\u001b[0;34m\u001b[0m\n\u001b[0;32m----> 1\u001b[0;31m \u001b[0mstudents\u001b[0m\u001b[0;34m[\u001b[0m\u001b[0;36m0\u001b[0m\u001b[0;34m]\u001b[0m\u001b[0;34m\u001b[0m\u001b[0;34m\u001b[0m\u001b[0m\n\u001b[0m",
            "\u001b[0;31mNameError\u001b[0m: name 'students' is not defined"
          ]
        }
      ]
    },
    {
      "cell_type": "code",
      "source": [
        "students = []\n",
        "\n",
        "with open(csv_file_path) as csvfile:\n",
        "    reader = csv.DictReader(csvfile)\n",
        "    for row in reader:\n",
        "        students.append(row)"
      ],
      "metadata": {
        "id": "v3kRvFAYtNzB"
      },
      "execution_count": 7,
      "outputs": []
    },
    {
      "cell_type": "markdown",
      "source": [
        "## Writing csv files"
      ],
      "metadata": {
        "id": "fB_LVUyqg7wN"
      }
    },
    {
      "cell_type": "code",
      "source": [
        "import random\n",
        "import datetime\n",
        "\n",
        "data = [['Name', 'DOB', 'Grade', 'Attitude']]\n",
        "\n",
        "for i in range(150):\n",
        "    name = \"Student \" + str(i+1)\n",
        "    dob = datetime.date(random.randint(1980, 2000), random.randint(1, 12), random.randint(1, 28)).strftime(\"%d/%m/%Y\")\n",
        "    grade = random.randint(0, 100)\n",
        "    attitude = random.choice(['Positive', 'Negative'])\n",
        "    data.append([name, dob, grade, attitude])\n",
        "\n",
        "print(data)"
      ],
      "metadata": {
        "colab": {
          "base_uri": "https://localhost:8080/"
        },
        "id": "u2aOXn85ikkz",
        "outputId": "b70cc71c-b315-416f-ed26-aa0810ce113c"
      },
      "execution_count": 8,
      "outputs": [
        {
          "output_type": "stream",
          "name": "stdout",
          "text": [
            "[['Name', 'DOB', 'Grade', 'Attitude'], ['Student 1', '28/03/1988', 45, 'Positive'], ['Student 2', '04/08/1991', 53, 'Positive'], ['Student 3', '07/06/1983', 28, 'Positive'], ['Student 4', '23/01/1982', 12, 'Positive'], ['Student 5', '02/06/1995', 48, 'Negative'], ['Student 6', '11/02/1990', 32, 'Positive'], ['Student 7', '02/09/1983', 88, 'Positive'], ['Student 8', '08/06/1998', 14, 'Positive'], ['Student 9', '06/09/1980', 9, 'Positive'], ['Student 10', '06/12/1999', 89, 'Positive'], ['Student 11', '22/03/1996', 16, 'Positive'], ['Student 12', '06/09/1986', 78, 'Positive'], ['Student 13', '04/10/1997', 58, 'Positive'], ['Student 14', '01/02/1994', 11, 'Negative'], ['Student 15', '12/04/1992', 71, 'Negative'], ['Student 16', '10/04/1986', 77, 'Positive'], ['Student 17', '09/10/1990', 45, 'Negative'], ['Student 18', '23/10/2000', 37, 'Positive'], ['Student 19', '18/02/1984', 33, 'Positive'], ['Student 20', '05/06/1994', 20, 'Positive'], ['Student 21', '25/04/1981', 100, 'Negative'], ['Student 22', '13/04/1999', 25, 'Negative'], ['Student 23', '25/04/1994', 8, 'Positive'], ['Student 24', '09/09/1984', 38, 'Positive'], ['Student 25', '26/02/2000', 49, 'Negative'], ['Student 26', '13/06/1982', 15, 'Negative'], ['Student 27', '18/07/1982', 30, 'Negative'], ['Student 28', '25/08/1999', 40, 'Positive'], ['Student 29', '06/03/1989', 18, 'Positive'], ['Student 30', '01/06/1982', 72, 'Positive'], ['Student 31', '28/03/1999', 89, 'Negative'], ['Student 32', '16/09/1994', 78, 'Positive'], ['Student 33', '26/12/1989', 88, 'Positive'], ['Student 34', '06/03/1981', 66, 'Negative'], ['Student 35', '02/06/1986', 99, 'Positive'], ['Student 36', '21/06/1988', 60, 'Positive'], ['Student 37', '04/09/1998', 37, 'Negative'], ['Student 38', '24/11/1987', 90, 'Negative'], ['Student 39', '24/07/1981', 43, 'Positive'], ['Student 40', '23/05/1995', 100, 'Negative'], ['Student 41', '24/11/1991', 52, 'Negative'], ['Student 42', '01/09/1988', 53, 'Negative'], ['Student 43', '10/01/1990', 21, 'Negative'], ['Student 44', '05/08/1994', 69, 'Positive'], ['Student 45', '19/05/1992', 17, 'Positive'], ['Student 46', '20/10/1996', 34, 'Positive'], ['Student 47', '12/01/1987', 71, 'Negative'], ['Student 48', '17/03/1989', 11, 'Positive'], ['Student 49', '17/09/1982', 26, 'Positive'], ['Student 50', '04/11/1983', 1, 'Positive'], ['Student 51', '04/11/1987', 20, 'Positive'], ['Student 52', '02/12/1992', 84, 'Positive'], ['Student 53', '08/10/1984', 1, 'Negative'], ['Student 54', '08/09/1986', 88, 'Negative'], ['Student 55', '25/05/1991', 43, 'Positive'], ['Student 56', '18/01/1980', 39, 'Positive'], ['Student 57', '13/07/1984', 77, 'Positive'], ['Student 58', '08/02/1985', 57, 'Positive'], ['Student 59', '18/02/1988', 89, 'Negative'], ['Student 60', '13/02/1983', 29, 'Negative'], ['Student 61', '10/01/1989', 24, 'Positive'], ['Student 62', '13/08/1997', 95, 'Positive'], ['Student 63', '04/01/1996', 6, 'Negative'], ['Student 64', '16/10/1998', 78, 'Negative'], ['Student 65', '05/03/1997', 39, 'Negative'], ['Student 66', '08/02/1981', 92, 'Negative'], ['Student 67', '04/06/2000', 40, 'Positive'], ['Student 68', '02/01/2000', 33, 'Positive'], ['Student 69', '18/08/1990', 70, 'Positive'], ['Student 70', '05/07/1980', 60, 'Negative'], ['Student 71', '16/08/1995', 25, 'Positive'], ['Student 72', '09/09/1982', 96, 'Negative'], ['Student 73', '09/12/1983', 70, 'Negative'], ['Student 74', '15/12/1990', 77, 'Negative'], ['Student 75', '24/10/1998', 20, 'Positive'], ['Student 76', '23/05/1990', 28, 'Positive'], ['Student 77', '02/01/1995', 81, 'Positive'], ['Student 78', '23/08/1996', 67, 'Negative'], ['Student 79', '17/01/1995', 3, 'Negative'], ['Student 80', '04/11/2000', 36, 'Negative'], ['Student 81', '09/06/1983', 13, 'Positive'], ['Student 82', '25/10/1996', 78, 'Negative'], ['Student 83', '20/02/1985', 72, 'Negative'], ['Student 84', '11/04/1996', 83, 'Negative'], ['Student 85', '13/11/1982', 25, 'Negative'], ['Student 86', '21/11/1987', 61, 'Negative'], ['Student 87', '24/11/1980', 38, 'Positive'], ['Student 88', '07/09/1995', 78, 'Negative'], ['Student 89', '03/10/1984', 38, 'Negative'], ['Student 90', '01/01/1982', 10, 'Positive'], ['Student 91', '19/04/1982', 5, 'Negative'], ['Student 92', '05/08/1981', 19, 'Positive'], ['Student 93', '26/07/1992', 7, 'Positive'], ['Student 94', '15/09/1982', 89, 'Negative'], ['Student 95', '02/01/1999', 87, 'Positive'], ['Student 96', '15/06/1980', 74, 'Negative'], ['Student 97', '08/10/1990', 31, 'Positive'], ['Student 98', '01/01/1989', 39, 'Negative'], ['Student 99', '28/07/1996', 96, 'Negative'], ['Student 100', '03/02/1993', 51, 'Positive'], ['Student 101', '03/12/1990', 49, 'Positive'], ['Student 102', '04/10/1998', 21, 'Positive'], ['Student 103', '19/12/1993', 93, 'Negative'], ['Student 104', '01/09/1989', 96, 'Positive'], ['Student 105', '27/10/1984', 86, 'Positive'], ['Student 106', '01/08/1981', 75, 'Negative'], ['Student 107', '25/04/1999', 96, 'Positive'], ['Student 108', '04/12/1981', 27, 'Negative'], ['Student 109', '24/06/1999', 6, 'Negative'], ['Student 110', '13/08/1983', 45, 'Positive'], ['Student 111', '26/06/1989', 26, 'Positive'], ['Student 112', '22/02/1999', 12, 'Positive'], ['Student 113', '03/10/1987', 73, 'Negative'], ['Student 114', '10/06/1988', 77, 'Positive'], ['Student 115', '21/09/1985', 69, 'Negative'], ['Student 116', '26/12/1993', 34, 'Negative'], ['Student 117', '12/12/1981', 95, 'Positive'], ['Student 118', '14/04/1980', 14, 'Negative'], ['Student 119', '03/10/1998', 78, 'Positive'], ['Student 120', '03/05/1995', 72, 'Negative'], ['Student 121', '07/10/1980', 69, 'Negative'], ['Student 122', '23/10/1994', 29, 'Negative'], ['Student 123', '09/07/1995', 27, 'Positive'], ['Student 124', '24/12/1987', 90, 'Negative'], ['Student 125', '10/10/1991', 84, 'Positive'], ['Student 126', '20/06/1995', 93, 'Positive'], ['Student 127', '12/04/1981', 81, 'Negative'], ['Student 128', '16/12/1984', 80, 'Negative'], ['Student 129', '07/05/1989', 69, 'Negative'], ['Student 130', '25/04/1997', 50, 'Negative'], ['Student 131', '04/06/1982', 2, 'Positive'], ['Student 132', '22/05/2000', 68, 'Negative'], ['Student 133', '22/06/1983', 39, 'Positive'], ['Student 134', '11/05/1981', 63, 'Positive'], ['Student 135', '25/09/1991', 1, 'Negative'], ['Student 136', '01/11/1984', 94, 'Negative'], ['Student 137', '13/01/1993', 15, 'Positive'], ['Student 138', '27/05/1984', 37, 'Positive'], ['Student 139', '23/11/1994', 6, 'Negative'], ['Student 140', '23/06/1986', 39, 'Positive'], ['Student 141', '02/07/1987', 18, 'Positive'], ['Student 142', '23/12/1999', 49, 'Negative'], ['Student 143', '19/10/1981', 43, 'Negative'], ['Student 144', '22/09/1985', 69, 'Positive'], ['Student 145', '11/01/1994', 57, 'Positive'], ['Student 146', '17/06/1985', 100, 'Negative'], ['Student 147', '09/05/1990', 100, 'Negative'], ['Student 148', '17/03/1981', 91, 'Negative'], ['Student 149', '15/11/1995', 56, 'Positive'], ['Student 150', '28/01/1987', 96, 'Negative']]\n"
          ]
        }
      ]
    },
    {
      "cell_type": "code",
      "source": [
        "with open('data.csv', 'w', newline='') as file:\n",
        "    writer = csv.writer(file)\n",
        "    writer.writerows(data)"
      ],
      "metadata": {
        "id": "4JYwshnkhAOI"
      },
      "execution_count": 9,
      "outputs": []
    },
    {
      "cell_type": "code",
      "source": [
        "?open"
      ],
      "metadata": {
        "id": "WYNvtYAipIUL"
      },
      "execution_count": 10,
      "outputs": []
    },
    {
      "cell_type": "code",
      "source": [
        "with open('data.csv', 'r') as file:\n",
        "    reader = csv.reader(file)\n",
        "    data = list(reader)\n",
        "\n",
        "print(data)"
      ],
      "metadata": {
        "colab": {
          "base_uri": "https://localhost:8080/"
        },
        "id": "IXcJdtvj0RT6",
        "outputId": "0eb9aba8-8742-4701-be8f-20cfeab4fc82"
      },
      "execution_count": 11,
      "outputs": [
        {
          "output_type": "stream",
          "name": "stdout",
          "text": [
            "[['Name', 'DOB', 'Grade', 'Attitude'], ['Student 1', '28/03/1988', '45', 'Positive'], ['Student 2', '04/08/1991', '53', 'Positive'], ['Student 3', '07/06/1983', '28', 'Positive'], ['Student 4', '23/01/1982', '12', 'Positive'], ['Student 5', '02/06/1995', '48', 'Negative'], ['Student 6', '11/02/1990', '32', 'Positive'], ['Student 7', '02/09/1983', '88', 'Positive'], ['Student 8', '08/06/1998', '14', 'Positive'], ['Student 9', '06/09/1980', '9', 'Positive'], ['Student 10', '06/12/1999', '89', 'Positive'], ['Student 11', '22/03/1996', '16', 'Positive'], ['Student 12', '06/09/1986', '78', 'Positive'], ['Student 13', '04/10/1997', '58', 'Positive'], ['Student 14', '01/02/1994', '11', 'Negative'], ['Student 15', '12/04/1992', '71', 'Negative'], ['Student 16', '10/04/1986', '77', 'Positive'], ['Student 17', '09/10/1990', '45', 'Negative'], ['Student 18', '23/10/2000', '37', 'Positive'], ['Student 19', '18/02/1984', '33', 'Positive'], ['Student 20', '05/06/1994', '20', 'Positive'], ['Student 21', '25/04/1981', '100', 'Negative'], ['Student 22', '13/04/1999', '25', 'Negative'], ['Student 23', '25/04/1994', '8', 'Positive'], ['Student 24', '09/09/1984', '38', 'Positive'], ['Student 25', '26/02/2000', '49', 'Negative'], ['Student 26', '13/06/1982', '15', 'Negative'], ['Student 27', '18/07/1982', '30', 'Negative'], ['Student 28', '25/08/1999', '40', 'Positive'], ['Student 29', '06/03/1989', '18', 'Positive'], ['Student 30', '01/06/1982', '72', 'Positive'], ['Student 31', '28/03/1999', '89', 'Negative'], ['Student 32', '16/09/1994', '78', 'Positive'], ['Student 33', '26/12/1989', '88', 'Positive'], ['Student 34', '06/03/1981', '66', 'Negative'], ['Student 35', '02/06/1986', '99', 'Positive'], ['Student 36', '21/06/1988', '60', 'Positive'], ['Student 37', '04/09/1998', '37', 'Negative'], ['Student 38', '24/11/1987', '90', 'Negative'], ['Student 39', '24/07/1981', '43', 'Positive'], ['Student 40', '23/05/1995', '100', 'Negative'], ['Student 41', '24/11/1991', '52', 'Negative'], ['Student 42', '01/09/1988', '53', 'Negative'], ['Student 43', '10/01/1990', '21', 'Negative'], ['Student 44', '05/08/1994', '69', 'Positive'], ['Student 45', '19/05/1992', '17', 'Positive'], ['Student 46', '20/10/1996', '34', 'Positive'], ['Student 47', '12/01/1987', '71', 'Negative'], ['Student 48', '17/03/1989', '11', 'Positive'], ['Student 49', '17/09/1982', '26', 'Positive'], ['Student 50', '04/11/1983', '1', 'Positive'], ['Student 51', '04/11/1987', '20', 'Positive'], ['Student 52', '02/12/1992', '84', 'Positive'], ['Student 53', '08/10/1984', '1', 'Negative'], ['Student 54', '08/09/1986', '88', 'Negative'], ['Student 55', '25/05/1991', '43', 'Positive'], ['Student 56', '18/01/1980', '39', 'Positive'], ['Student 57', '13/07/1984', '77', 'Positive'], ['Student 58', '08/02/1985', '57', 'Positive'], ['Student 59', '18/02/1988', '89', 'Negative'], ['Student 60', '13/02/1983', '29', 'Negative'], ['Student 61', '10/01/1989', '24', 'Positive'], ['Student 62', '13/08/1997', '95', 'Positive'], ['Student 63', '04/01/1996', '6', 'Negative'], ['Student 64', '16/10/1998', '78', 'Negative'], ['Student 65', '05/03/1997', '39', 'Negative'], ['Student 66', '08/02/1981', '92', 'Negative'], ['Student 67', '04/06/2000', '40', 'Positive'], ['Student 68', '02/01/2000', '33', 'Positive'], ['Student 69', '18/08/1990', '70', 'Positive'], ['Student 70', '05/07/1980', '60', 'Negative'], ['Student 71', '16/08/1995', '25', 'Positive'], ['Student 72', '09/09/1982', '96', 'Negative'], ['Student 73', '09/12/1983', '70', 'Negative'], ['Student 74', '15/12/1990', '77', 'Negative'], ['Student 75', '24/10/1998', '20', 'Positive'], ['Student 76', '23/05/1990', '28', 'Positive'], ['Student 77', '02/01/1995', '81', 'Positive'], ['Student 78', '23/08/1996', '67', 'Negative'], ['Student 79', '17/01/1995', '3', 'Negative'], ['Student 80', '04/11/2000', '36', 'Negative'], ['Student 81', '09/06/1983', '13', 'Positive'], ['Student 82', '25/10/1996', '78', 'Negative'], ['Student 83', '20/02/1985', '72', 'Negative'], ['Student 84', '11/04/1996', '83', 'Negative'], ['Student 85', '13/11/1982', '25', 'Negative'], ['Student 86', '21/11/1987', '61', 'Negative'], ['Student 87', '24/11/1980', '38', 'Positive'], ['Student 88', '07/09/1995', '78', 'Negative'], ['Student 89', '03/10/1984', '38', 'Negative'], ['Student 90', '01/01/1982', '10', 'Positive'], ['Student 91', '19/04/1982', '5', 'Negative'], ['Student 92', '05/08/1981', '19', 'Positive'], ['Student 93', '26/07/1992', '7', 'Positive'], ['Student 94', '15/09/1982', '89', 'Negative'], ['Student 95', '02/01/1999', '87', 'Positive'], ['Student 96', '15/06/1980', '74', 'Negative'], ['Student 97', '08/10/1990', '31', 'Positive'], ['Student 98', '01/01/1989', '39', 'Negative'], ['Student 99', '28/07/1996', '96', 'Negative'], ['Student 100', '03/02/1993', '51', 'Positive'], ['Student 101', '03/12/1990', '49', 'Positive'], ['Student 102', '04/10/1998', '21', 'Positive'], ['Student 103', '19/12/1993', '93', 'Negative'], ['Student 104', '01/09/1989', '96', 'Positive'], ['Student 105', '27/10/1984', '86', 'Positive'], ['Student 106', '01/08/1981', '75', 'Negative'], ['Student 107', '25/04/1999', '96', 'Positive'], ['Student 108', '04/12/1981', '27', 'Negative'], ['Student 109', '24/06/1999', '6', 'Negative'], ['Student 110', '13/08/1983', '45', 'Positive'], ['Student 111', '26/06/1989', '26', 'Positive'], ['Student 112', '22/02/1999', '12', 'Positive'], ['Student 113', '03/10/1987', '73', 'Negative'], ['Student 114', '10/06/1988', '77', 'Positive'], ['Student 115', '21/09/1985', '69', 'Negative'], ['Student 116', '26/12/1993', '34', 'Negative'], ['Student 117', '12/12/1981', '95', 'Positive'], ['Student 118', '14/04/1980', '14', 'Negative'], ['Student 119', '03/10/1998', '78', 'Positive'], ['Student 120', '03/05/1995', '72', 'Negative'], ['Student 121', '07/10/1980', '69', 'Negative'], ['Student 122', '23/10/1994', '29', 'Negative'], ['Student 123', '09/07/1995', '27', 'Positive'], ['Student 124', '24/12/1987', '90', 'Negative'], ['Student 125', '10/10/1991', '84', 'Positive'], ['Student 126', '20/06/1995', '93', 'Positive'], ['Student 127', '12/04/1981', '81', 'Negative'], ['Student 128', '16/12/1984', '80', 'Negative'], ['Student 129', '07/05/1989', '69', 'Negative'], ['Student 130', '25/04/1997', '50', 'Negative'], ['Student 131', '04/06/1982', '2', 'Positive'], ['Student 132', '22/05/2000', '68', 'Negative'], ['Student 133', '22/06/1983', '39', 'Positive'], ['Student 134', '11/05/1981', '63', 'Positive'], ['Student 135', '25/09/1991', '1', 'Negative'], ['Student 136', '01/11/1984', '94', 'Negative'], ['Student 137', '13/01/1993', '15', 'Positive'], ['Student 138', '27/05/1984', '37', 'Positive'], ['Student 139', '23/11/1994', '6', 'Negative'], ['Student 140', '23/06/1986', '39', 'Positive'], ['Student 141', '02/07/1987', '18', 'Positive'], ['Student 142', '23/12/1999', '49', 'Negative'], ['Student 143', '19/10/1981', '43', 'Negative'], ['Student 144', '22/09/1985', '69', 'Positive'], ['Student 145', '11/01/1994', '57', 'Positive'], ['Student 146', '17/06/1985', '100', 'Negative'], ['Student 147', '09/05/1990', '100', 'Negative'], ['Student 148', '17/03/1981', '91', 'Negative'], ['Student 149', '15/11/1995', '56', 'Positive'], ['Student 150', '28/01/1987', '96', 'Negative']]\n"
          ]
        }
      ]
    },
    {
      "cell_type": "code",
      "source": [
        "#Process the student list to add numeric values for month and year to each entry\n",
        "#for st in data:\n",
        "    # Save the document date to a variable\n",
        "    \n",
        "    # Extract the sale year and month from the string, and cast to int\n",
        "      \n",
        "\n",
        "    # Add the sale year and month to each dictionary element of sales\n",
        "    "
      ],
      "metadata": {
        "id": "4BljMM6mtiKp"
      },
      "execution_count": null,
      "outputs": []
    },
    {
      "cell_type": "markdown",
      "source": [
        "\n",
        "\n",
        "1.   What is the range of grades in class?\n",
        "2.   How many students were born in 2020?\n",
        "3.   What was the mean grade for students born in 2000?\n",
        "4.   How many students scored above 80?\n",
        "\n"
      ],
      "metadata": {
        "id": "CYJlE4_ut0PW"
      }
    },
    {
      "cell_type": "code",
      "source": [
        "from matplotlib import pyplot as plt"
      ],
      "metadata": {
        "id": "WYAKff45uhmZ"
      },
      "execution_count": null,
      "outputs": []
    },
    {
      "cell_type": "code",
      "source": [
        "# create a figure and one plot\n",
        "fig, ax = plt.subplots(nrows=1, ncols=1, figsize=(10, 5))\n",
        "\n",
        "# plot a hist of the grades\n",
        "ax.hist(?)\n",
        "\n",
        "# set axis labels\n",
        "ax.set_xlabel(\"Grade\")\n",
        "ax.set_ylabel(\"Number of studes\")\n",
        "\n",
        "# give the bar chart a title\n",
        "ax.set_title(\"Grade distribution\")\n",
        "\n",
        "# display bar chart clearly\n",
        "fig.tight_layout()"
      ],
      "metadata": {
        "id": "GrIJibg5ui0n",
        "colab": {
          "base_uri": "https://localhost:8080/",
          "height": 369
        },
        "outputId": "eff910fd-0a17-4bc7-ca97-593ce2610505"
      },
      "execution_count": null,
      "outputs": [
        {
          "output_type": "display_data",
          "data": {
            "text/plain": [
              "<Figure size 720x360 with 1 Axes>"
            ],
            "image/png": "[encoded data removed]"
          },
          "metadata": {
            "needs_background": "light"
          }
        }
      ]
    },
    {
      "cell_type": "markdown",
      "source": [
        "## JSON files"
      ],
      "metadata": {
        "id": "_u4Toz6hv67L"
      }
    },
    {
      "cell_type": "code",
      "execution_count": null,
      "metadata": {
        "id": "emLZsFadMpVk"
      },
      "outputs": [],
      "source": [
        "import json\n",
        "import pandas as pd\n",
        "import numpy as np\n",
        "from matplotlib import pyplot as plt\n",
        "from collections import defaultdict"
      ]
    },
    {
      "cell_type": "code",
      "execution_count": null,
      "metadata": {
        "id": "EK9OkQx0wNLr"
      },
      "outputs": [],
      "source": [
        "with open('new_releases.json') as f:\n",
        "    data = json.load(f)"
      ]
    },
    {
      "cell_type": "code",
      "execution_count": null,
      "metadata": {
        "id": "sYvwk2z_wNLt",
        "colab": {
          "base_uri": "https://localhost:8080/"
        },
        "outputId": "86b06189-9c21-4501-f455-1d8b6add4274"
      },
      "outputs": [
        {
          "output_type": "stream",
          "name": "stdout",
          "text": [
            "{'albums': {'href': 'https://api.spotify.com/v1/browse/new-releases?offset=0&limit=20', 'items': [{'album_type': 'album', 'artists': [{'external_urls': {'spotify': 'https://open.spotify.com/artist/1RyvyyTE3xzB2ZywiAwp0i'}, 'href': 'https://api.spotify.com/v1/artists/1RyvyyTE3xzB2ZywiAwp0i', 'id': '1RyvyyTE3xzB2ZywiAwp0i', 'name': 'Future', 'type': 'artist', 'uri': 'spotify:artist:1RyvyyTE3xzB2ZywiAwp0i'}], 'available_markets': ['AD', 'AE', 'AR', 'AT', 'AU', 'BE', 'BG', 'BH', 'BO', 'BR', 'CA', 'CH', 'CL', 'CO', 'CR', 'CY', 'CZ', 'DE', 'DK', 'DO', 'DZ', 'EC', 'EE', 'EG', 'ES', 'FI', 'FR', 'GB', 'GR', 'GT', 'HK', 'HN', 'HU', 'ID', 'IE', 'IL', 'IN', 'IS', 'IT', 'JO', 'JP', 'KW', 'LB', 'LI', 'LT', 'LU', 'LV', 'MA', 'MC', 'MT', 'MX', 'MY', 'NI', 'NL', 'NO', 'NZ', 'OM', 'PA', 'PE', 'PH', 'PL', 'PS', 'PT', 'PY', 'QA', 'RO', 'SA', 'SE', 'SG', 'SK', 'SV', 'TH', 'TN', 'TR', 'TW', 'US', 'UY', 'VN', 'ZA'], 'external_urls': {'spotify': 'https://open.spotify.com/album/4bNPOFOzxGhF5jhfIK6lit'}, 'href': 'https://api.spotify.com/v1/albums/4bNPOFOzxGhF5jhfIK6lit', 'id': '4bNPOFOzxGhF5jhfIK6lit', 'images': [{'height': 640, 'url': 'https://i.scdn.co/image/ab67616d0000b273935d8d5369bc55e74a39303e', 'width': 640}, {'height': 300, 'url': 'https://i.scdn.co/image/ab67616d00001e02935d8d5369bc55e74a39303e', 'width': 300}, {'height': 64, 'url': 'https://i.scdn.co/image/ab67616d00004851935d8d5369bc55e74a39303e', 'width': 64}], 'name': 'High Off Life', 'release_date': '2020-05-15', 'release_date_precision': 'day', 'total_tracks': 21, 'type': 'album', 'uri': 'spotify:album:4bNPOFOzxGhF5jhfIK6lit'}, {'album_type': 'single', 'artists': [{'external_urls': {'spotify': 'https://open.spotify.com/artist/23fqKkggKUBHNkbKtXEls4'}, 'href': 'https://api.spotify.com/v1/artists/23fqKkggKUBHNkbKtXEls4', 'id': '23fqKkggKUBHNkbKtXEls4', 'name': 'Kygo', 'type': 'artist', 'uri': 'spotify:artist:23fqKkggKUBHNkbKtXEls4'}, {'external_urls': {'spotify': 'https://open.spotify.com/artist/5Pwc4xIPtQLFEnJriah9YJ'}, 'href': 'https://api.spotify.com/v1/artists/5Pwc4xIPtQLFEnJriah9YJ', 'id': '5Pwc4xIPtQLFEnJriah9YJ', 'name': 'OneRepublic', 'type': 'artist', 'uri': 'spotify:artist:5Pwc4xIPtQLFEnJriah9YJ'}], 'available_markets': ['AD', 'AE', 'AR', 'AT', 'AU', 'BE', 'BG', 'BH', 'BO', 'BR', 'CA', 'CH', 'CL', 'CO', 'CR', 'CY', 'CZ', 'DE', 'DK', 'DO', 'DZ', 'EC', 'EE', 'EG', 'ES', 'FI', 'FR', 'GB', 'GR', 'GT', 'HK', 'HN', 'HU', 'ID', 'IE', 'IL', 'IN', 'IS', 'IT', 'JO', 'JP', 'KW', 'LB', 'LI', 'LT', 'LU', 'LV', 'MA', 'MC', 'MT', 'MX', 'MY', 'NI', 'NL', 'NO', 'NZ', 'OM', 'PA', 'PE', 'PH', 'PL', 'PS', 'PT', 'PY', 'QA', 'RO', 'SA', 'SE', 'SG', 'SK', 'SV', 'TH', 'TN', 'TR', 'TW', 'US', 'UY', 'VN', 'ZA'], 'external_urls': {'spotify': 'https://open.spotify.com/album/3LhriqAiHJYw7rxvtlkvQc'}, 'href': 'https://api.spotify.com/v1/albums/3LhriqAiHJYw7rxvtlkvQc', 'id': '3LhriqAiHJYw7rxvtlkvQc', 'images': [{'height': 640, 'url': 'https://i.scdn.co/image/ab67616d0000b273479856767f92aab97c956704', 'width': 640}, {'height': 300, 'url': 'https://i.scdn.co/image/ab67616d00001e02479856767f92aab97c956704', 'width': 300}, {'height': 64, 'url': 'https://i.scdn.co/image/ab67616d00004851479856767f92aab97c956704', 'width': 64}], 'name': 'Lose Somebody', 'release_date': '2020-05-15', 'release_date_precision': 'day', 'total_tracks': 1, 'type': 'album', 'uri': 'spotify:album:3LhriqAiHJYw7rxvtlkvQc'}, {'album_type': 'album', 'artists': [{'external_urls': {'spotify': 'https://open.spotify.com/artist/0LyfQWJT6nXafLPZqxe9Of'}, 'href': 'https://api.spotify.com/v1/artists/0LyfQWJT6nXafLPZqxe9Of', 'id': '0LyfQWJT6nXafLPZqxe9Of', 'name': 'Various Artists', 'type': 'artist', 'uri': 'spotify:artist:0LyfQWJT6nXafLPZqxe9Of'}], 'available_markets': ['AD', 'AE', 'AR', 'AT', 'AU', 'BE', 'BG', 'BH', 'BO', 'BR', 'CA', 'CH', 'CL', 'CO', 'CR', 'CY', 'CZ', 'DE', 'DK', 'DO', 'DZ', 'EC', 'EE', 'EG', 'ES', 'FI', 'FR', 'GB', 'GR', 'GT', 'HK', 'HN', 'HU', 'ID', 'IE', 'IL', 'IN', 'IS', 'IT', 'JO', 'JP', 'KW', 'LB', 'LI', 'LT', 'LU', 'LV', 'MA', 'MC', 'MT', 'MX', 'MY', 'NI', 'NL', 'NO', 'NZ', 'OM', 'PA', 'PE', 'PH', 'PL', 'PS', 'PT', 'PY', 'QA', 'RO', 'SA', 'SE', 'SG', 'SK', 'SV', 'TH', 'TN', 'TR', 'TW', 'US', 'UY', 'VN', 'ZA'], 'external_urls': {'spotify': 'https://open.spotify.com/album/2Zg5xZo3WwIoAZys8OcUpG'}, 'href': 'https://api.spotify.com/v1/albums/2Zg5xZo3WwIoAZys8OcUpG', 'id': '2Zg5xZo3WwIoAZys8OcUpG', 'images': [{'height': 640, 'url': 'https://i.scdn.co/image/ab67616d0000b2732e819e33b9703a8b3fc85a35', 'width': 640}, {'height': 300, 'url': 'https://i.scdn.co/image/ab67616d00001e022e819e33b9703a8b3fc85a35', 'width': 300}, {'height': 64, 'url': 'https://i.scdn.co/image/ab67616d000048512e819e33b9703a8b3fc85a35', 'width': 64}], 'name': 'SCOOB! The Album', 'release_date': '2020-05-15', 'release_date_precision': 'day', 'total_tracks': 12, 'type': 'album', 'uri': 'spotify:album:2Zg5xZo3WwIoAZys8OcUpG'}, {'album_type': 'single', 'artists': [{'external_urls': {'spotify': 'https://open.spotify.com/artist/6jJ0s89eD6GaHleKKya26X'}, 'href': 'https://api.spotify.com/v1/artists/6jJ0s89eD6GaHleKKya26X', 'id': '6jJ0s89eD6GaHleKKya26X', 'name': 'Katy Perry', 'type': 'artist', 'uri': 'spotify:artist:6jJ0s89eD6GaHleKKya26X'}], 'available_markets': ['AD', 'AE', 'AR', 'AT', 'AU', 'BE', 'BG', 'BH', 'BO', 'BR', 'CA', 'CH', 'CL', 'CO', 'CR', 'CY', 'CZ', 'DE', 'DK', 'DO', 'DZ', 'EC', 'EE', 'EG', 'ES', 'FI', 'FR', 'GB', 'GR', 'GT', 'HK', 'HN', 'HU', 'ID', 'IE', 'IL', 'IN', 'IS', 'IT', 'JO', 'JP', 'KW', 'LB', 'LI', 'LT', 'LU', 'LV', 'MA', 'MC', 'MT', 'MX', 'MY', 'NI', 'NL', 'NO', 'NZ', 'OM', 'PA', 'PE', 'PH', 'PL', 'PS', 'PT', 'PY', 'QA', 'RO', 'SA', 'SE', 'SG', 'SK', 'SV', 'TH', 'TN', 'TR', 'TW', 'US', 'UY', 'VN', 'ZA'], 'external_urls': {'spotify': 'https://open.spotify.com/album/2m5J1DUH7hJpPSOromIqpN'}, 'href': 'https://api.spotify.com/v1/albums/2m5J1DUH7hJpPSOromIqpN', 'id': '2m5J1DUH7hJpPSOromIqpN', 'images': [{'height': 640, 'url': 'https://i.scdn.co/image/ab67616d0000b2738df6751bad8ab6b5c928dba3', 'width': 640}, {'height': 300, 'url': 'https://i.scdn.co/image/ab67616d00001e028df6751bad8ab6b5c928dba3', 'width': 300}, {'height': 64, 'url': 'https://i.scdn.co/image/ab67616d000048518df6751bad8ab6b5c928dba3', 'width': 64}], 'name': 'Daisies', 'release_date': '2020-05-15', 'release_date_precision': 'day', 'total_tracks': 1, 'type': 'album', 'uri': 'spotify:album:2m5J1DUH7hJpPSOromIqpN'}, {'album_type': 'album', 'artists': [{'external_urls': {'spotify': 'https://open.spotify.com/artist/6AgTAQt8XS6jRWi4sX7w49'}, 'href': 'https://api.spotify.com/v1/artists/6AgTAQt8XS6jRWi4sX7w49', 'id': '6AgTAQt8XS6jRWi4sX7w49', 'name': 'Polo G', 'type': 'artist', 'uri': 'spotify:artist:6AgTAQt8XS6jRWi4sX7w49'}], 'available_markets': ['AD', 'AE', 'AR', 'AT', 'AU', 'BE', 'BG', 'BH', 'BO', 'BR', 'CA', 'CH', 'CL', 'CO', 'CR', 'CY', 'CZ', 'DE', 'DK', 'DO', 'DZ', 'EC', 'EE', 'EG', 'ES', 'FI', 'FR', 'GB', 'GR', 'GT', 'HK', 'HN', 'HU', 'ID', 'IE', 'IL', 'IN', 'IS', 'IT', 'JO', 'JP', 'KW', 'LB', 'LI', 'LT', 'LU', 'LV', 'MA', 'MC', 'MT', 'MX', 'MY', 'NI', 'NL', 'NO', 'NZ', 'OM', 'PA', 'PE', 'PH', 'PL', 'PS', 'PT', 'PY', 'QA', 'RO', 'SA', 'SE', 'SG', 'SK', 'SV', 'TH', 'TN', 'TR', 'TW', 'US', 'UY', 'VN', 'ZA'], 'external_urls': {'spotify': 'https://open.spotify.com/album/39xhYyNNDatQtgKw2KdXMz'}, 'href': 'https://api.spotify.com/v1/albums/39xhYyNNDatQtgKw2KdXMz', 'id': '39xhYyNNDatQtgKw2KdXMz', 'images': [{'height': 640, 'url': 'https://i.scdn.co/image/ab67616d0000b273339f780dfdbc38558ea0761d', 'width': 640}, {'height': 300, 'url': 'https://i.scdn.co/image/ab67616d00001e02339f780dfdbc38558ea0761d', 'width': 300}, {'height': 64, 'url': 'https://i.scdn.co/image/ab67616d00004851339f780dfdbc38558ea0761d', 'width': 64}], 'name': 'THE GOAT', 'release_date': '2020-05-15', 'release_date_precision': 'day', 'total_tracks': 16, 'type': 'album', 'uri': 'spotify:album:39xhYyNNDatQtgKw2KdXMz'}, {'album_type': 'single', 'artists': [{'external_urls': {'spotify': 'https://open.spotify.com/artist/7gOdHgIoIKoe4i9Tta6qdD'}, 'href': 'https://api.spotify.com/v1/artists/7gOdHgIoIKoe4i9Tta6qdD', 'id': '7gOdHgIoIKoe4i9Tta6qdD', 'name': 'Jonas Brothers', 'type': 'artist', 'uri': 'spotify:artist:7gOdHgIoIKoe4i9Tta6qdD'}, {'external_urls': {'spotify': 'https://open.spotify.com/artist/790FomKkXshlbRYZFtlgla'}, 'href': 'https://api.spotify.com/v1/artists/790FomKkXshlbRYZFtlgla', 'id': '790FomKkXshlbRYZFtlgla', 'name': 'KAROL G', 'type': 'artist', 'uri': 'spotify:artist:790FomKkXshlbRYZFtlgla'}], 'available_markets': ['AD', 'AE', 'AR', 'AT', 'AU', 'BE', 'BG', 'BH', 'BO', 'BR', 'CA', 'CH', 'CL', 'CO', 'CR', 'CY', 'CZ', 'DE', 'DK', 'DO', 'DZ', 'EC', 'EE', 'EG', 'ES', 'FI', 'FR', 'GB', 'GR', 'GT', 'HK', 'HN', 'HU', 'ID', 'IE', 'IL', 'IN', 'IS', 'IT', 'JO', 'JP', 'KW', 'LB', 'LI', 'LT', 'LU', 'LV', 'MA', 'MC', 'MT', 'MX', 'MY', 'NI', 'NL', 'NO', 'NZ', 'OM', 'PA', 'PE', 'PH', 'PL', 'PS', 'PT', 'PY', 'QA', 'RO', 'SA', 'SE', 'SG', 'SK', 'SV', 'TH', 'TN', 'TR', 'TW', 'US', 'UY', 'VN', 'ZA'], 'external_urls': {'spotify': 'https://open.spotify.com/album/0i96PtPJV65ddxsfMfo45F'}, 'href': 'https://api.spotify.com/v1/albums/0i96PtPJV65ddxsfMfo45F', 'id': '0i96PtPJV65ddxsfMfo45F', 'images': [{'height': 640, 'url': 'https://i.scdn.co/image/ab67616d0000b2733b3cd45dfa6f779c01d63fdb', 'width': 640}, {'height': 300, 'url': 'https://i.scdn.co/image/ab67616d00001e023b3cd45dfa6f779c01d63fdb', 'width': 300}, {'height': 64, 'url': 'https://i.scdn.co/image/ab67616d000048513b3cd45dfa6f779c01d63fdb', 'width': 64}], 'name': 'XV', 'release_date': '2020-05-15', 'release_date_precision': 'day', 'total_tracks': 2, 'type': 'album', 'uri': 'spotify:album:0i96PtPJV65ddxsfMfo45F'}, {'album_type': 'album', 'artists': [{'external_urls': {'spotify': 'https://open.spotify.com/artist/25uiPmTg16RbhZWAqwLBy5'}, 'href': 'https://api.spotify.com/v1/artists/25uiPmTg16RbhZWAqwLBy5', 'id': '25uiPmTg16RbhZWAqwLBy5', 'name': 'Charli XCX', 'type': 'artist', 'uri': 'spotify:artist:25uiPmTg16RbhZWAqwLBy5'}], 'available_markets': ['AD', 'AE', 'AR', 'AT', 'AU', 'BE', 'BG', 'BH', 'BO', 'BR', 'CA', 'CH', 'CL', 'CO', 'CR', 'CY', 'CZ', 'DE', 'DK', 'DO', 'DZ', 'EC', 'EE', 'EG', 'ES', 'FI', 'FR', 'GB', 'GR', 'GT', 'HK', 'HN', 'HU', 'ID', 'IE', 'IL', 'IN', 'IS', 'IT', 'JO', 'JP', 'KW', 'LB', 'LI', 'LT', 'LU', 'LV', 'MA', 'MC', 'MT', 'MX', 'MY', 'NI', 'NL', 'NO', 'NZ', 'OM', 'PA', 'PE', 'PH', 'PL', 'PS', 'PT', 'PY', 'QA', 'RO', 'SA', 'SE', 'SG', 'SK', 'SV', 'TH', 'TN', 'TR', 'TW', 'US', 'UY', 'VN', 'ZA'], 'external_urls': {'spotify': 'https://open.spotify.com/album/3a9qH2VEsSiOZvMrjaS0Nu'}, 'href': 'https://api.spotify.com/v1/albums/3a9qH2VEsSiOZvMrjaS0Nu', 'id': '3a9qH2VEsSiOZvMrjaS0Nu', 'images': [{'height': 640, 'url': 'https://i.scdn.co/image/ab67616d0000b273664e38c99d077cc52ab48914', 'width': 640}, {'height': 300, 'url': 'https://i.scdn.co/image/ab67616d00001e02664e38c99d077cc52ab48914', 'width': 300}, {'height': 64, 'url': 'https://i.scdn.co/image/ab67616d00004851664e38c99d077cc52ab48914', 'width': 64}], 'name': \"how i'm feeling now\", 'release_date': '2020-05-15', 'release_date_precision': 'day', 'total_tracks': 11, 'type': 'album', 'uri': 'spotify:album:3a9qH2VEsSiOZvMrjaS0Nu'}, {'album_type': 'single', 'artists': [{'external_urls': {'spotify': 'https://open.spotify.com/artist/2jku7tDXc6XoB6MO2hFuqg'}, 'href': 'https://api.spotify.com/v1/artists/2jku7tDXc6XoB6MO2hFuqg', 'id': '2jku7tDXc6XoB6MO2hFuqg', 'name': 'Tory Lanez', 'type': 'artist', 'uri': 'spotify:artist:2jku7tDXc6XoB6MO2hFuqg'}], 'available_markets': ['AD', 'AE', 'AR', 'AT', 'AU', 'BE', 'BG', 'BH', 'BO', 'BR', 'CH', 'CL', 'CO', 'CR', 'CY', 'CZ', 'DE', 'DK', 'DO', 'DZ', 'EC', 'EE', 'EG', 'ES', 'FI', 'FR', 'GB', 'GR', 'GT', 'HK', 'HN', 'HU', 'ID', 'IE', 'IL', 'IN', 'IS', 'IT', 'JO', 'JP', 'KW', 'LB', 'LI', 'LT', 'LU', 'LV', 'MA', 'MC', 'MT', 'MX', 'MY', 'NI', 'NL', 'NO', 'NZ', 'OM', 'PA', 'PE', 'PH', 'PL', 'PS', 'PT', 'PY', 'QA', 'RO', 'SA', 'SE', 'SG', 'SK', 'SV', 'TH', 'TN', 'TR', 'TW', 'US', 'UY', 'VN', 'ZA'], 'external_urls': {'spotify': 'https://open.spotify.com/album/3lalGt6k7JM3tIji1Xbgmk'}, 'href': 'https://api.spotify.com/v1/albums/3lalGt6k7JM3tIji1Xbgmk', 'id': '3lalGt6k7JM3tIji1Xbgmk', 'images': [{'height': 640, 'url': 'https://i.scdn.co/image/ab67616d0000b273c2ebaf0c84eb77f358d958bc', 'width': 640}, {'height': 300, 'url': 'https://i.scdn.co/image/ab67616d00001e02c2ebaf0c84eb77f358d958bc', 'width': 300}, {'height': 64, 'url': 'https://i.scdn.co/image/ab67616d00004851c2ebaf0c84eb77f358d958bc', 'width': 64}], 'name': 'Temperature Rising', 'release_date': '2020-05-15', 'release_date_precision': 'day', 'total_tracks': 1, 'type': 'album', 'uri': 'spotify:album:3lalGt6k7JM3tIji1Xbgmk'}, {'album_type': 'album', 'artists': [{'external_urls': {'spotify': 'https://open.spotify.com/artist/2ueoLVCXQ948OfhVvAy3Nn'}, 'href': 'https://api.spotify.com/v1/artists/2ueoLVCXQ948OfhVvAy3Nn', 'id': '2ueoLVCXQ948OfhVvAy3Nn', 'name': 'Perfume Genius', 'type': 'artist', 'uri': 'spotify:artist:2ueoLVCXQ948OfhVvAy3Nn'}], 'available_markets': ['AD', 'AE', 'AR', 'AT', 'AU', 'BE', 'BG', 'BH', 'BO', 'BR', 'CA', 'CH', 'CL', 'CO', 'CR', 'CY', 'CZ', 'DE', 'DK', 'DO', 'DZ', 'EC', 'EE', 'EG', 'ES', 'FI', 'FR', 'GB', 'GR', 'GT', 'HK', 'HN', 'HU', 'ID', 'IE', 'IL', 'IN', 'IS', 'IT', 'JO', 'JP', 'KW', 'LB', 'LI', 'LT', 'LU', 'LV', 'MA', 'MC', 'MT', 'MX', 'MY', 'NI', 'NL', 'NO', 'NZ', 'OM', 'PA', 'PE', 'PH', 'PL', 'PS', 'PT', 'PY', 'QA', 'RO', 'SA', 'SE', 'SG', 'SK', 'SV', 'TH', 'TN', 'TR', 'TW', 'US', 'UY', 'VN', 'ZA'], 'external_urls': {'spotify': 'https://open.spotify.com/album/6daEdTBi1hyFQgmsnR7oRr'}, 'href': 'https://api.spotify.com/v1/albums/6daEdTBi1hyFQgmsnR7oRr', 'id': '6daEdTBi1hyFQgmsnR7oRr', 'images': [{'height': 640, 'url': 'https://i.scdn.co/image/ab67616d0000b2739af34850f5125ef195d6101a', 'width': 640}, {'height': 300, 'url': 'https://i.scdn.co/image/ab67616d00001e029af34850f5125ef195d6101a', 'width': 300}, {'height': 64, 'url': 'https://i.scdn.co/image/ab67616d000048519af34850f5125ef195d6101a', 'width': 64}], 'name': 'Set My Heart On Fire Immediately', 'release_date': '2020-05-15', 'release_date_precision': 'day', 'total_tracks': 13, 'type': 'album', 'uri': 'spotify:album:6daEdTBi1hyFQgmsnR7oRr'}, {'album_type': 'album', 'artists': [{'external_urls': {'spotify': 'https://open.spotify.com/artist/7rkW85dBwwrJtlHRDkJDAC'}, 'href': 'https://api.spotify.com/v1/artists/7rkW85dBwwrJtlHRDkJDAC', 'id': '7rkW85dBwwrJtlHRDkJDAC', 'name': 'NAV', 'type': 'artist', 'uri': 'spotify:artist:7rkW85dBwwrJtlHRDkJDAC'}], 'available_markets': ['AD', 'AE', 'AR', 'AT', 'AU', 'BE', 'BG', 'BH', 'BO', 'BR', 'CA', 'CH', 'CL', 'CO', 'CR', 'CY', 'CZ', 'DE', 'DK', 'DO', 'DZ', 'EC', 'EE', 'EG', 'ES', 'FI', 'FR', 'GB', 'GR', 'GT', 'HK', 'HN', 'HU', 'ID', 'IE', 'IL', 'IN', 'IS', 'IT', 'JO', 'JP', 'KW', 'LB', 'LI', 'LT', 'LU', 'LV', 'MA', 'MC', 'MT', 'MX', 'MY', 'NI', 'NL', 'NO', 'NZ', 'OM', 'PA', 'PE', 'PH', 'PL', 'PS', 'PT', 'PY', 'QA', 'RO', 'SA', 'SE', 'SG', 'SK', 'SV', 'TH', 'TN', 'TR', 'TW', 'US', 'UY', 'VN', 'ZA'], 'external_urls': {'spotify': 'https://open.spotify.com/album/2kx4l1OQNT2JXLld9HJDIh'}, 'href': 'https://api.spotify.com/v1/albums/2kx4l1OQNT2JXLld9HJDIh', 'id': '2kx4l1OQNT2JXLld9HJDIh', 'images': [{'height': 640, 'url': 'https://i.scdn.co/image/ab67616d0000b273b9c89bb14d58ea3150bd435d', 'width': 640}, {'height': 300, 'url': 'https://i.scdn.co/image/ab67616d00001e02b9c89bb14d58ea3150bd435d', 'width': 300}, {'height': 64, 'url': 'https://i.scdn.co/image/ab67616d00004851b9c89bb14d58ea3150bd435d', 'width': 64}], 'name': 'Good Intentions (Brown Boy 2 Deluxe Version)', 'release_date': '2020-05-11', 'release_date_precision': 'day', 'total_tracks': 32, 'type': 'album', 'uri': 'spotify:album:2kx4l1OQNT2JXLld9HJDIh'}, {'album_type': 'single', 'artists': [{'external_urls': {'spotify': 'https://open.spotify.com/artist/6oMuImdp5ZcFhWP0ESe6mG'}, 'href': 'https://api.spotify.com/v1/artists/6oMuImdp5ZcFhWP0ESe6mG', 'id': '6oMuImdp5ZcFhWP0ESe6mG', 'name': 'Migos', 'type': 'artist', 'uri': 'spotify:artist:6oMuImdp5ZcFhWP0ESe6mG'}], 'available_markets': ['AD', 'AE', 'AR', 'AT', 'AU', 'BE', 'BG', 'BH', 'BO', 'BR', 'CA', 'CH', 'CL', 'CO', 'CR', 'CY', 'CZ', 'DE', 'DK', 'DO', 'DZ', 'EC', 'EE', 'EG', 'ES', 'FI', 'FR', 'GB', 'GR', 'GT', 'HK', 'HN', 'HU', 'ID', 'IE', 'IL', 'IN', 'IS', 'IT', 'JO', 'JP', 'KW', 'LB', 'LI', 'LT', 'LU', 'LV', 'MA', 'MC', 'MT', 'MX', 'MY', 'NI', 'NL', 'NO', 'NZ', 'OM', 'PA', 'PE', 'PH', 'PL', 'PS', 'PT', 'PY', 'QA', 'RO', 'SA', 'SE', 'SG', 'SK', 'SV', 'TH', 'TN', 'TR', 'TW', 'US', 'UY', 'VN', 'ZA'], 'external_urls': {'spotify': 'https://open.spotify.com/album/3PASWLvNfvfMF68dDznEgK'}, 'href': 'https://api.spotify.com/v1/albums/3PASWLvNfvfMF68dDznEgK', 'id': '3PASWLvNfvfMF68dDznEgK', 'images': [{'height': 640, 'url': 'https://i.scdn.co/image/ab67616d0000b2739325c863d9139cc2d507421b', 'width': 640}, {'height': 300, 'url': 'https://i.scdn.co/image/ab67616d00001e029325c863d9139cc2d507421b', 'width': 300}, {'height': 64, 'url': 'https://i.scdn.co/image/ab67616d000048519325c863d9139cc2d507421b', 'width': 64}], 'name': 'Racks 2 Skinny', 'release_date': '2020-05-11', 'release_date_precision': 'day', 'total_tracks': 1, 'type': 'album', 'uri': 'spotify:album:3PASWLvNfvfMF68dDznEgK'}, {'album_type': 'single', 'artists': [{'external_urls': {'spotify': 'https://open.spotify.com/artist/5Zq7R5qmi58ByYyBQTlNuk'}, 'href': 'https://api.spotify.com/v1/artists/5Zq7R5qmi58ByYyBQTlNuk', 'id': '5Zq7R5qmi58ByYyBQTlNuk', 'name': 'Lee Brice', 'type': 'artist', 'uri': 'spotify:artist:5Zq7R5qmi58ByYyBQTlNuk'}], 'available_markets': ['AD', 'AE', 'AR', 'AT', 'AU', 'BE', 'BG', 'BH', 'BO', 'BR', 'CA', 'CH', 'CL', 'CO', 'CR', 'CY', 'CZ', 'DE', 'DK', 'DO', 'DZ', 'EC', 'EE', 'EG', 'ES', 'FI', 'FR', 'GB', 'GR', 'GT', 'HK', 'HN', 'HU', 'ID', 'IE', 'IL', 'IN', 'IS', 'IT', 'JO', 'JP', 'KW', 'LB', 'LI', 'LT', 'LU', 'LV', 'MA', 'MC', 'MT', 'MX', 'MY', 'NI', 'NL', 'NO', 'NZ', 'OM', 'PA', 'PE', 'PH', 'PL', 'PS', 'PT', 'PY', 'QA', 'RO', 'SA', 'SE', 'SG', 'SK', 'SV', 'TH', 'TN', 'TR', 'TW', 'US', 'UY', 'VN', 'ZA'], 'external_urls': {'spotify': 'https://open.spotify.com/album/5LK5cCx0XdniivfZ91vOSv'}, 'href': 'https://api.spotify.com/v1/albums/5LK5cCx0XdniivfZ91vOSv', 'id': '5LK5cCx0XdniivfZ91vOSv', 'images': [{'height': 640, 'url': 'https://i.scdn.co/image/ab67616d0000b27306ae99421702f8a9d881e268', 'width': 640}, {'height': 300, 'url': 'https://i.scdn.co/image/ab67616d00001e0206ae99421702f8a9d881e268', 'width': 300}, {'height': 64, 'url': 'https://i.scdn.co/image/ab67616d0000485106ae99421702f8a9d881e268', 'width': 64}], 'name': 'One Of Them Girls', 'release_date': '2020-05-15', 'release_date_precision': 'day', 'total_tracks': 2, 'type': 'album', 'uri': 'spotify:album:5LK5cCx0XdniivfZ91vOSv'}, {'album_type': 'album', 'artists': [{'external_urls': {'spotify': 'https://open.spotify.com/artist/2o5jDhtHVPhrJdv3cEQ99Z'}, 'href': 'https://api.spotify.com/v1/artists/2o5jDhtHVPhrJdv3cEQ99Z', 'id': '2o5jDhtHVPhrJdv3cEQ99Z', 'name': 'Tiësto', 'type': 'artist', 'uri': 'spotify:artist:2o5jDhtHVPhrJdv3cEQ99Z'}], 'available_markets': ['AD', 'AE', 'AR', 'AT', 'AU', 'BE', 'BG', 'BH', 'BO', 'BR', 'CA', 'CH', 'CL', 'CO', 'CR', 'CY', 'CZ', 'DE', 'DK', 'DO', 'DZ', 'EC', 'EE', 'EG', 'ES', 'FI', 'FR', 'GB', 'GR', 'GT', 'HK', 'HN', 'HU', 'ID', 'IE', 'IL', 'IN', 'IS', 'IT', 'JO', 'JP', 'KW', 'LB', 'LI', 'LT', 'LU', 'LV', 'MA', 'MC', 'MT', 'MX', 'MY', 'NI', 'NL', 'NO', 'NZ', 'OM', 'PA', 'PE', 'PH', 'PL', 'PS', 'PT', 'PY', 'QA', 'RO', 'SA', 'SE', 'SG', 'SK', 'SV', 'TH', 'TN', 'TR', 'TW', 'US', 'UY', 'VN', 'ZA'], 'external_urls': {'spotify': 'https://open.spotify.com/album/6CIslPQSknp875cigkhKJC'}, 'href': 'https://api.spotify.com/v1/albums/6CIslPQSknp875cigkhKJC', 'id': '6CIslPQSknp875cigkhKJC', 'images': [{'height': 640, 'url': 'https://i.scdn.co/image/ab67616d0000b2739759d6dfa2c19091814fccb3', 'width': 640}, {'height': 300, 'url': 'https://i.scdn.co/image/ab67616d00001e029759d6dfa2c19091814fccb3', 'width': 300}, {'height': 64, 'url': 'https://i.scdn.co/image/ab67616d000048519759d6dfa2c19091814fccb3', 'width': 64}], 'name': 'The London Sessions', 'release_date': '2020-05-15', 'release_date_precision': 'day', 'total_tracks': 13, 'type': 'album', 'uri': 'spotify:album:6CIslPQSknp875cigkhKJC'}, {'album_type': 'single', 'artists': [{'external_urls': {'spotify': 'https://open.spotify.com/artist/6pBNfggcZZDCmb0p92OnGn'}, 'href': 'https://api.spotify.com/v1/artists/6pBNfggcZZDCmb0p92OnGn', 'id': '6pBNfggcZZDCmb0p92OnGn', 'name': 'Chase Rice', 'type': 'artist', 'uri': 'spotify:artist:6pBNfggcZZDCmb0p92OnGn'}], 'available_markets': ['AD', 'AE', 'AR', 'AT', 'AU', 'BE', 'BG', 'BH', 'BO', 'BR', 'CA', 'CH', 'CL', 'CO', 'CR', 'CY', 'CZ', 'DE', 'DK', 'DO', 'DZ', 'EC', 'EE', 'EG', 'ES', 'FI', 'FR', 'GB', 'GR', 'GT', 'HK', 'HN', 'HU', 'ID', 'IE', 'IL', 'IS', 'IT', 'JO', 'JP', 'KW', 'LB', 'LI', 'LT', 'LU', 'LV', 'MA', 'MC', 'MT', 'MX', 'MY', 'NI', 'NL', 'NO', 'NZ', 'OM', 'PA', 'PE', 'PH', 'PL', 'PS', 'PT', 'PY', 'QA', 'RO', 'SA', 'SE', 'SG', 'SK', 'SV', 'TH', 'TN', 'TR', 'TW', 'US', 'UY', 'VN', 'ZA'], 'external_urls': {'spotify': 'https://open.spotify.com/album/5XvXf3mdhShyLZhoJYR74q'}, 'href': 'https://api.spotify.com/v1/albums/5XvXf3mdhShyLZhoJYR74q', 'id': '5XvXf3mdhShyLZhoJYR74q', 'images': [{'height': 640, 'url': 'https://i.scdn.co/image/ab67616d0000b2735f6b892b478747a769252650', 'width': 640}, {'height': 300, 'url': 'https://i.scdn.co/image/ab67616d00001e025f6b892b478747a769252650', 'width': 300}, {'height': 64, 'url': 'https://i.scdn.co/image/ab67616d000048515f6b892b478747a769252650', 'width': 64}], 'name': 'The Album, Pt. II', 'release_date': '2020-05-15', 'release_date_precision': 'day', 'total_tracks': 4, 'type': 'album', 'uri': 'spotify:album:5XvXf3mdhShyLZhoJYR74q'}, {'album_type': 'album', 'artists': [{'external_urls': {'spotify': 'https://open.spotify.com/artist/1caBfBEapzw8z2Qz9q0OaQ'}, 'href': 'https://api.spotify.com/v1/artists/1caBfBEapzw8z2Qz9q0OaQ', 'id': '1caBfBEapzw8z2Qz9q0OaQ', 'name': 'Asking Alexandria', 'type': 'artist', 'uri': 'spotify:artist:1caBfBEapzw8z2Qz9q0OaQ'}], 'available_markets': ['AD', 'AE', 'AR', 'AT', 'AU', 'BE', 'BG', 'BH', 'BO', 'BR', 'CA', 'CH', 'CL', 'CO', 'CR', 'CY', 'CZ', 'DE', 'DK', 'DO', 'DZ', 'EC', 'EE', 'EG', 'ES', 'FI', 'FR', 'GB', 'GR', 'GT', 'HK', 'HN', 'HU', 'ID', 'IE', 'IL', 'IN', 'IS', 'IT', 'JO', 'JP', 'KW', 'LB', 'LI', 'LT', 'LU', 'LV', 'MA', 'MC', 'MT', 'MX', 'MY', 'NI', 'NL', 'NO', 'NZ', 'OM', 'PA', 'PE', 'PH', 'PL', 'PS', 'PT', 'PY', 'QA', 'RO', 'SA', 'SE', 'SG', 'SK', 'SV', 'TH', 'TN', 'TR', 'TW', 'US', 'UY', 'VN', 'ZA'], 'external_urls': {'spotify': 'https://open.spotify.com/album/5VKKXDvYuJmRc2UQHCwNQK'}, 'href': 'https://api.spotify.com/v1/albums/5VKKXDvYuJmRc2UQHCwNQK', 'id': '5VKKXDvYuJmRc2UQHCwNQK', 'images': [{'height': 640, 'url': 'https://i.scdn.co/image/ab67616d0000b273d30ebbcdf987ab5273abdd8d', 'width': 640}, {'height': 300, 'url': 'https://i.scdn.co/image/ab67616d00001e02d30ebbcdf987ab5273abdd8d', 'width': 300}, {'height': 64, 'url': 'https://i.scdn.co/image/ab67616d00004851d30ebbcdf987ab5273abdd8d', 'width': 64}], 'name': 'Like A House On Fire', 'release_date': '2020-05-15', 'release_date_precision': 'day', 'total_tracks': 15, 'type': 'album', 'uri': 'spotify:album:5VKKXDvYuJmRc2UQHCwNQK'}, {'album_type': 'single', 'artists': [{'external_urls': {'spotify': 'https://open.spotify.com/artist/7d3WFRME3vBY2cgoP38RDo'}, 'href': 'https://api.spotify.com/v1/artists/7d3WFRME3vBY2cgoP38RDo', 'id': '7d3WFRME3vBY2cgoP38RDo', 'name': 'Lil Skies', 'type': 'artist', 'uri': 'spotify:artist:7d3WFRME3vBY2cgoP38RDo'}], 'available_markets': ['AD', 'AE', 'AR', 'AT', 'AU', 'BE', 'BG', 'BH', 'BO', 'BR', 'CA', 'CH', 'CL', 'CO', 'CR', 'CY', 'CZ', 'DE', 'DK', 'DO', 'DZ', 'EC', 'EE', 'EG', 'ES', 'FI', 'FR', 'GB', 'GR', 'GT', 'HK', 'HN', 'HU', 'ID', 'IE', 'IL', 'IN', 'IS', 'IT', 'JO', 'JP', 'KW', 'LB', 'LI', 'LT', 'LU', 'LV', 'MA', 'MC', 'MT', 'MX', 'MY', 'NI', 'NL', 'NO', 'NZ', 'OM', 'PA', 'PE', 'PH', 'PL', 'PS', 'PT', 'PY', 'QA', 'RO', 'SA', 'SE', 'SG', 'SK', 'SV', 'TH', 'TN', 'TR', 'TW', 'US', 'UY', 'VN', 'ZA'], 'external_urls': {'spotify': 'https://open.spotify.com/album/3cVy1WTjSAVpzUc7MVCTLu'}, 'href': 'https://api.spotify.com/v1/albums/3cVy1WTjSAVpzUc7MVCTLu', 'id': '3cVy1WTjSAVpzUc7MVCTLu', 'images': [{'height': 640, 'url': 'https://i.scdn.co/image/ab67616d0000b273f7571dc32332081426ab3818', 'width': 640}, {'height': 300, 'url': 'https://i.scdn.co/image/ab67616d00001e02f7571dc32332081426ab3818', 'width': 300}, {'height': 64, 'url': 'https://i.scdn.co/image/ab67616d00004851f7571dc32332081426ab3818', 'width': 64}], 'name': 'Riot', 'release_date': '2020-05-13', 'release_date_precision': 'day', 'total_tracks': 1, 'type': 'album', 'uri': 'spotify:album:3cVy1WTjSAVpzUc7MVCTLu'}, {'album_type': 'album', 'artists': [{'external_urls': {'spotify': 'https://open.spotify.com/artist/55fhWPvDiMpLnE4ZzNXZyW'}, 'href': 'https://api.spotify.com/v1/artists/55fhWPvDiMpLnE4ZzNXZyW', 'id': '55fhWPvDiMpLnE4ZzNXZyW', 'name': 'Noah Cyrus', 'type': 'artist', 'uri': 'spotify:artist:55fhWPvDiMpLnE4ZzNXZyW'}], 'available_markets': ['AD', 'AE', 'AR', 'AT', 'AU', 'BE', 'BG', 'BH', 'BO', 'BR', 'CA', 'CH', 'CL', 'CO', 'CR', 'CY', 'CZ', 'DE', 'DK', 'DO', 'DZ', 'EC', 'EE', 'EG', 'ES', 'FI', 'FR', 'GB', 'GR', 'GT', 'HK', 'HN', 'HU', 'ID', 'IE', 'IL', 'IN', 'IS', 'IT', 'JO', 'JP', 'KW', 'LB', 'LI', 'LT', 'LU', 'LV', 'MA', 'MC', 'MT', 'MX', 'MY', 'NI', 'NL', 'NO', 'NZ', 'OM', 'PA', 'PE', 'PH', 'PL', 'PS', 'PT', 'PY', 'QA', 'RO', 'SA', 'SE', 'SG', 'SK', 'SV', 'TH', 'TN', 'TR', 'TW', 'US', 'UY', 'VN', 'ZA'], 'external_urls': {'spotify': 'https://open.spotify.com/album/5Gn3fFzlWL89j0hGumtXb5'}, 'href': 'https://api.spotify.com/v1/albums/5Gn3fFzlWL89j0hGumtXb5', 'id': '5Gn3fFzlWL89j0hGumtXb5', 'images': [{'height': 640, 'url': 'https://i.scdn.co/image/ab67616d0000b2737f66b73bd6e86f4c8d2a7692', 'width': 640}, {'height': 300, 'url': 'https://i.scdn.co/image/ab67616d00001e027f66b73bd6e86f4c8d2a7692', 'width': 300}, {'height': 64, 'url': 'https://i.scdn.co/image/ab67616d000048517f66b73bd6e86f4c8d2a7692', 'width': 64}], 'name': 'THE END OF EVERYTHING', 'release_date': '2020-05-15', 'release_date_precision': 'day', 'total_tracks': 8, 'type': 'album', 'uri': 'spotify:album:5Gn3fFzlWL89j0hGumtXb5'}, {'album_type': 'single', 'artists': [{'external_urls': {'spotify': 'https://open.spotify.com/artist/6C1ohJrd5VydigQtaGy5Wa'}, 'href': 'https://api.spotify.com/v1/artists/6C1ohJrd5VydigQtaGy5Wa', 'id': '6C1ohJrd5VydigQtaGy5Wa', 'name': 'Joyner Lucas', 'type': 'artist', 'uri': 'spotify:artist:6C1ohJrd5VydigQtaGy5Wa'}, {'external_urls': {'spotify': 'https://open.spotify.com/artist/41qil2VaGbD194gaEcmmyx'}, 'href': 'https://api.spotify.com/v1/artists/41qil2VaGbD194gaEcmmyx', 'id': '41qil2VaGbD194gaEcmmyx', 'name': 'Will Smith', 'type': 'artist', 'uri': 'spotify:artist:41qil2VaGbD194gaEcmmyx'}], 'available_markets': ['AD', 'AE', 'AR', 'AT', 'AU', 'BE', 'BG', 'BH', 'BO', 'BR', 'CA', 'CH', 'CL', 'CO', 'CR', 'CY', 'CZ', 'DE', 'DK', 'DO', 'DZ', 'EC', 'EE', 'EG', 'ES', 'FI', 'FR', 'GB', 'GR', 'GT', 'HK', 'HN', 'HU', 'ID', 'IE', 'IL', 'IN', 'IS', 'IT', 'JO', 'JP', 'KW', 'LB', 'LI', 'LT', 'LU', 'LV', 'MA', 'MC', 'MT', 'MX', 'MY', 'NI', 'NL', 'NO', 'NZ', 'OM', 'PA', 'PE', 'PH', 'PL', 'PS', 'PT', 'PY', 'QA', 'RO', 'SA', 'SE', 'SG', 'SK', 'SV', 'TH', 'TN', 'TR', 'TW', 'US', 'UY', 'VN', 'ZA'], 'external_urls': {'spotify': 'https://open.spotify.com/album/3tOe6XM8LmRA5vDAaMqp8e'}, 'href': 'https://api.spotify.com/v1/albums/3tOe6XM8LmRA5vDAaMqp8e', 'id': '3tOe6XM8LmRA5vDAaMqp8e', 'images': [{'height': 640, 'url': 'https://i.scdn.co/image/ab67616d0000b2734ac196312c24faedb76a345e', 'width': 640}, {'height': 300, 'url': 'https://i.scdn.co/image/ab67616d00001e024ac196312c24faedb76a345e', 'width': 300}, {'height': 64, 'url': 'https://i.scdn.co/image/ab67616d000048514ac196312c24faedb76a345e', 'width': 64}], 'name': 'Will (Remix)', 'release_date': '2020-05-15', 'release_date_precision': 'day', 'total_tracks': 1, 'type': 'album', 'uri': 'spotify:album:3tOe6XM8LmRA5vDAaMqp8e'}, {'album_type': 'single', 'artists': [{'external_urls': {'spotify': 'https://open.spotify.com/artist/6Xgp2XMz1fhVYe7i6yNAax'}, 'href': 'https://api.spotify.com/v1/artists/6Xgp2XMz1fhVYe7i6yNAax', 'id': '6Xgp2XMz1fhVYe7i6yNAax', 'name': 'Trippie Redd', 'type': 'artist', 'uri': 'spotify:artist:6Xgp2XMz1fhVYe7i6yNAax'}, {'external_urls': {'spotify': 'https://open.spotify.com/artist/2HPaUgqeutzr3jx5a9WyDV'}, 'href': 'https://api.spotify.com/v1/artists/2HPaUgqeutzr3jx5a9WyDV', 'id': '2HPaUgqeutzr3jx5a9WyDV', 'name': 'PARTYNEXTDOOR', 'type': 'artist', 'uri': 'spotify:artist:2HPaUgqeutzr3jx5a9WyDV'}], 'available_markets': ['AD', 'AE', 'AR', 'AT', 'AU', 'BE', 'BG', 'BH', 'BO', 'BR', 'CA', 'CH', 'CL', 'CO', 'CR', 'CY', 'CZ', 'DE', 'DK', 'DO', 'DZ', 'EC', 'EE', 'EG', 'ES', 'FI', 'FR', 'GB', 'GR', 'GT', 'HK', 'HN', 'HU', 'ID', 'IE', 'IL', 'IN', 'IS', 'IT', 'JO', 'JP', 'KW', 'LB', 'LI', 'LT', 'LU', 'LV', 'MA', 'MC', 'MT', 'MX', 'MY', 'NI', 'NL', 'NO', 'NZ', 'OM', 'PA', 'PE', 'PH', 'PL', 'PS', 'PT', 'PY', 'QA', 'RO', 'SA', 'SE', 'SG', 'SK', 'SV', 'TH', 'TN', 'TR', 'TW', 'US', 'UY', 'VN', 'ZA'], 'external_urls': {'spotify': 'https://open.spotify.com/album/7rcMHNqNbQxF5TaPMHFoKu'}, 'href': 'https://api.spotify.com/v1/albums/7rcMHNqNbQxF5TaPMHFoKu', 'id': '7rcMHNqNbQxF5TaPMHFoKu', 'images': [{'height': 640, 'url': 'https://i.scdn.co/image/ab67616d0000b273de32a6662a7db272328f4761', 'width': 640}, {'height': 300, 'url': 'https://i.scdn.co/image/ab67616d00001e02de32a6662a7db272328f4761', 'width': 300}, {'height': 64, 'url': 'https://i.scdn.co/image/ab67616d00004851de32a6662a7db272328f4761', 'width': 64}], 'name': 'Excitement', 'release_date': '2020-05-15', 'release_date_precision': 'day', 'total_tracks': 1, 'type': 'album', 'uri': 'spotify:album:7rcMHNqNbQxF5TaPMHFoKu'}, {'album_type': 'single', 'artists': [{'external_urls': {'spotify': 'https://open.spotify.com/artist/3NPpFNZtSTHheNBaWC82rB'}, 'href': 'https://api.spotify.com/v1/artists/3NPpFNZtSTHheNBaWC82rB', 'id': '3NPpFNZtSTHheNBaWC82rB', 'name': 'X Ambassadors', 'type': 'artist', 'uri': 'spotify:artist:3NPpFNZtSTHheNBaWC82rB'}, {'external_urls': {'spotify': 'https://open.spotify.com/artist/0pCNk4D3E2xtszsm6hMsWr'}, 'href': 'https://api.spotify.com/v1/artists/0pCNk4D3E2xtszsm6hMsWr', 'id': '0pCNk4D3E2xtszsm6hMsWr', 'name': 'K.Flay', 'type': 'artist', 'uri': 'spotify:artist:0pCNk4D3E2xtszsm6hMsWr'}, {'external_urls': {'spotify': 'https://open.spotify.com/artist/4ZgQDCtRqZlhLswVS6MHN4'}, 'href': 'https://api.spotify.com/v1/artists/4ZgQDCtRqZlhLswVS6MHN4', 'id': '4ZgQDCtRqZlhLswVS6MHN4', 'name': 'grandson', 'type': 'artist', 'uri': 'spotify:artist:4ZgQDCtRqZlhLswVS6MHN4'}], 'available_markets': ['AD', 'AE', 'AR', 'AT', 'AU', 'BE', 'BG', 'BH', 'BO', 'BR', 'CA', 'CH', 'CL', 'CO', 'CR', 'CY', 'CZ', 'DE', 'DK', 'DO', 'DZ', 'EC', 'EE', 'EG', 'ES', 'FI', 'FR', 'GB', 'GR', 'GT', 'HK', 'HN', 'HU', 'ID', 'IE', 'IL', 'IN', 'IS', 'IT', 'JO', 'JP', 'KW', 'LB', 'LI', 'LT', 'LU', 'LV', 'MA', 'MC', 'MT', 'MX', 'MY', 'NI', 'NL', 'NO', 'NZ', 'OM', 'PA', 'PE', 'PH', 'PL', 'PS', 'PT', 'PY', 'QA', 'RO', 'SA', 'SE', 'SG', 'SK', 'SV', 'TH', 'TN', 'TR', 'TW', 'US', 'UY', 'VN', 'ZA'], 'external_urls': {'spotify': 'https://open.spotify.com/album/2JQbWWpYG6kKppiD6z2FwL'}, 'href': 'https://api.spotify.com/v1/albums/2JQbWWpYG6kKppiD6z2FwL', 'id': '2JQbWWpYG6kKppiD6z2FwL', 'images': [{'height': 640, 'url': 'https://i.scdn.co/image/ab67616d0000b273e420fab8e9ec9cf79c073a28', 'width': 640}, {'height': 300, 'url': 'https://i.scdn.co/image/ab67616d00001e02e420fab8e9ec9cf79c073a28', 'width': 300}, {'height': 64, 'url': 'https://i.scdn.co/image/ab67616d00004851e420fab8e9ec9cf79c073a28', 'width': 64}], 'name': 'Zen (with K.Flay & grandson)', 'release_date': '2020-05-15', 'release_date_precision': 'day', 'total_tracks': 1, 'type': 'album', 'uri': 'spotify:album:2JQbWWpYG6kKppiD6z2FwL'}], 'limit': 20, 'next': 'https://api.spotify.com/v1/browse/new-releases?offset=20&limit=20', 'offset': 0, 'previous': None, 'total': 100}}\n"
          ]
        }
      ],
      "source": [
        "## This will look messy\n",
        "print(data)"
      ]
    },
    {
      "cell_type": "code",
      "execution_count": null,
      "metadata": {
        "id": "RCrklPn1wNLv",
        "colab": {
          "base_uri": "https://localhost:8080/"
        },
        "outputId": "c0cd7efa-8856-4362-82c6-4157b425d80f"
      },
      "outputs": [
        {
          "output_type": "execute_result",
          "data": {
            "text/plain": [
              "dict"
            ]
          },
          "metadata": {},
          "execution_count": 13
        }
      ],
      "source": [
        "type(data)"
      ]
    },
    {
      "cell_type": "code",
      "execution_count": null,
      "metadata": {
        "id": "_IgnUtjkwNLv",
        "colab": {
          "base_uri": "https://localhost:8080/"
        },
        "outputId": "020e47d3-5ef4-4c69-bbd7-1a8fe595ebf7"
      },
      "outputs": [
        {
          "output_type": "execute_result",
          "data": {
            "text/plain": [
              "dict_keys(['albums'])"
            ]
          },
          "metadata": {},
          "execution_count": 14
        }
      ],
      "source": [
        "data.keys()"
      ]
    },
    {
      "cell_type": "code",
      "execution_count": null,
      "metadata": {
        "id": "q0O6trebwNLw",
        "colab": {
          "base_uri": "https://localhost:8080/"
        },
        "outputId": "3beaf610-b4a4-4e97-cc3a-8ee4f2d2195b"
      },
      "outputs": [
        {
          "output_type": "execute_result",
          "data": {
            "text/plain": [
              "dict"
            ]
          },
          "metadata": {},
          "execution_count": 15
        }
      ],
      "source": [
        "type(data['albums'])"
      ]
    },
    {
      "cell_type": "code",
      "execution_count": null,
      "metadata": {
        "id": "6b_VPxP4wNLw",
        "colab": {
          "base_uri": "https://localhost:8080/"
        },
        "outputId": "5885fed2-a39e-4609-aed5-9d83dca397de"
      },
      "outputs": [
        {
          "output_type": "execute_result",
          "data": {
            "text/plain": [
              "dict_keys(['href', 'items', 'limit', 'next', 'offset', 'previous', 'total'])"
            ]
          },
          "metadata": {},
          "execution_count": 16
        }
      ],
      "source": [
        "data['albums'].keys()"
      ]
    },
    {
      "cell_type": "code",
      "execution_count": null,
      "metadata": {
        "id": "oKxHhDZkwNLx",
        "colab": {
          "base_uri": "https://localhost:8080/"
        },
        "outputId": "bb8eb7b1-fe5f-4d90-b756-4fbe468bd901"
      },
      "outputs": [
        {
          "output_type": "stream",
          "name": "stdout",
          "text": [
            "href <class 'str'>\n",
            "items <class 'list'>\n",
            "limit <class 'int'>\n",
            "next <class 'str'>\n",
            "offset <class 'int'>\n",
            "previous <class 'NoneType'>\n",
            "total <class 'int'>\n"
          ]
        }
      ],
      "source": [
        "for key, value in data['albums'].items():\n",
        "    print(key, type(value))"
      ]
    },
    {
      "cell_type": "code",
      "execution_count": null,
      "metadata": {
        "id": "Zb46OvBqwNLy",
        "colab": {
          "base_uri": "https://localhost:8080/"
        },
        "outputId": "f1aeb8d8-5363-461f-d6ff-c303de0143e5"
      },
      "outputs": [
        {
          "output_type": "execute_result",
          "data": {
            "text/plain": [
              "list"
            ]
          },
          "metadata": {},
          "execution_count": 18
        }
      ],
      "source": [
        "type(data['albums']['items'])"
      ]
    },
    {
      "cell_type": "code",
      "execution_count": null,
      "metadata": {
        "id": "wKBjgD1DwNLy",
        "colab": {
          "base_uri": "https://localhost:8080/"
        },
        "outputId": "bdb73ae5-28e2-4088-ce09-6b786a0553a0"
      },
      "outputs": [
        {
          "output_type": "execute_result",
          "data": {
            "text/plain": [
              "{'album_type': 'album',\n",
              " 'artists': [{'external_urls': {'spotify': 'https://open.spotify.com/artist/1RyvyyTE3xzB2ZywiAwp0i'},\n",
              "   'href': 'https://api.spotify.com/v1/artists/1RyvyyTE3xzB2ZywiAwp0i',\n",
              "   'id': '1RyvyyTE3xzB2ZywiAwp0i',\n",
              "   'name': 'Future',\n",
              "   'type': 'artist',\n",
              "   'uri': 'spotify:artist:1RyvyyTE3xzB2ZywiAwp0i'}],\n",
              " 'available_markets': ['AD',\n",
              "  'AE',\n",
              "  'AR',\n",
              "  'AT',\n",
              "  'AU',\n",
              "  'BE',\n",
              "  'BG',\n",
              "  'BH',\n",
              "  'BO',\n",
              "  'BR',\n",
              "  'CA',\n",
              "  'CH',\n",
              "  'CL',\n",
              "  'CO',\n",
              "  'CR',\n",
              "  'CY',\n",
              "  'CZ',\n",
              "  'DE',\n",
              "  'DK',\n",
              "  'DO',\n",
              "  'DZ',\n",
              "  'EC',\n",
              "  'EE',\n",
              "  'EG',\n",
              "  'ES',\n",
              "  'FI',\n",
              "  'FR',\n",
              "  'GB',\n",
              "  'GR',\n",
              "  'GT',\n",
              "  'HK',\n",
              "  'HN',\n",
              "  'HU',\n",
              "  'ID',\n",
              "  'IE',\n",
              "  'IL',\n",
              "  'IN',\n",
              "  'IS',\n",
              "  'IT',\n",
              "  'JO',\n",
              "  'JP',\n",
              "  'KW',\n",
              "  'LB',\n",
              "  'LI',\n",
              "  'LT',\n",
              "  'LU',\n",
              "  'LV',\n",
              "  'MA',\n",
              "  'MC',\n",
              "  'MT',\n",
              "  'MX',\n",
              "  'MY',\n",
              "  'NI',\n",
              "  'NL',\n",
              "  'NO',\n",
              "  'NZ',\n",
              "  'OM',\n",
              "  'PA',\n",
              "  'PE',\n",
              "  'PH',\n",
              "  'PL',\n",
              "  'PS',\n",
              "  'PT',\n",
              "  'PY',\n",
              "  'QA',\n",
              "  'RO',\n",
              "  'SA',\n",
              "  'SE',\n",
              "  'SG',\n",
              "  'SK',\n",
              "  'SV',\n",
              "  'TH',\n",
              "  'TN',\n",
              "  'TR',\n",
              "  'TW',\n",
              "  'US',\n",
              "  'UY',\n",
              "  'VN',\n",
              "  'ZA'],\n",
              " 'external_urls': {'spotify': 'https://open.spotify.com/album/4bNPOFOzxGhF5jhfIK6lit'},\n",
              " 'href': 'https://api.spotify.com/v1/albums/4bNPOFOzxGhF5jhfIK6lit',\n",
              " 'id': '4bNPOFOzxGhF5jhfIK6lit',\n",
              " 'images': [{'height': 640,\n",
              "   'url': 'https://i.scdn.co/image/ab67616d0000b273935d8d5369bc55e74a39303e',\n",
              "   'width': 640},\n",
              "  {'height': 300,\n",
              "   'url': 'https://i.scdn.co/image/ab67616d00001e02935d8d5369bc55e74a39303e',\n",
              "   'width': 300},\n",
              "  {'height': 64,\n",
              "   'url': 'https://i.scdn.co/image/ab67616d00004851935d8d5369bc55e74a39303e',\n",
              "   'width': 64}],\n",
              " 'name': 'High Off Life',\n",
              " 'release_date': '2020-05-15',\n",
              " 'release_date_precision': 'day',\n",
              " 'total_tracks': 21,\n",
              " 'type': 'album',\n",
              " 'uri': 'spotify:album:4bNPOFOzxGhF5jhfIK6lit'}"
            ]
          },
          "metadata": {},
          "execution_count": 19
        }
      ],
      "source": [
        "data['albums']['items'][0]"
      ]
    },
    {
      "cell_type": "markdown",
      "metadata": {
        "id": "ujQLLzyiwNLy"
      },
      "source": [
        "We access values as we would for nested lists or dictionaries in Python."
      ]
    },
    {
      "cell_type": "code",
      "execution_count": null,
      "metadata": {
        "id": "RFJVv4D7wNLz",
        "colab": {
          "base_uri": "https://localhost:8080/"
        },
        "outputId": "469771f4-ebcf-4a56-9314-c629e6c4f575"
      },
      "outputs": [
        {
          "output_type": "execute_result",
          "data": {
            "text/plain": [
              "dict_keys(['album_type', 'artists', 'available_markets', 'external_urls', 'href', 'id', 'images', 'name', 'release_date', 'release_date_precision', 'total_tracks', 'type', 'uri'])"
            ]
          },
          "metadata": {},
          "execution_count": 20
        }
      ],
      "source": [
        "data['albums']['items'][0].keys()"
      ]
    },
    {
      "cell_type": "code",
      "execution_count": null,
      "metadata": {
        "id": "IN00tFyywNLz",
        "colab": {
          "base_uri": "https://localhost:8080/",
          "height": 36
        },
        "outputId": "7da14db8-118f-4080-b883-1fdab4f15e32"
      },
      "outputs": [
        {
          "output_type": "execute_result",
          "data": {
            "text/plain": [
              "'Future'"
            ],
            "application/vnd.google.colaboratory.intrinsic+json": {
              "type": "string"
            }
          },
          "metadata": {},
          "execution_count": 21
        }
      ],
      "source": [
        "data['albums']['items'][0]['artists'][0]['name']"
      ]
    },
    {
      "cell_type": "code",
      "execution_count": null,
      "metadata": {
        "id": "54mUXrvVwNLz",
        "colab": {
          "base_uri": "https://localhost:8080/",
          "height": 36
        },
        "outputId": "d09214b6-b762-4d93-fd45-911bd5320d9d"
      },
      "outputs": [
        {
          "output_type": "execute_result",
          "data": {
            "text/plain": [
              "'Kygo'"
            ],
            "application/vnd.google.colaboratory.intrinsic+json": {
              "type": "string"
            }
          },
          "metadata": {},
          "execution_count": 22
        }
      ],
      "source": [
        "data['albums']['items'][1]['artists'][0]['name']"
      ]
    },
    {
      "cell_type": "markdown",
      "source": [
        "## Data analysis in Pandas"
      ],
      "metadata": {
        "id": "ufUqAGlOZXqz"
      }
    },
    {
      "cell_type": "markdown",
      "source": [
        "### Notes on Data Cleaning: Adapted from Antonny Muiko's work"
      ],
      "metadata": {
        "id": "c4lCXQ91E_jn"
      }
    },
    {
      "cell_type": "markdown",
      "metadata": {
        "id": "dcAfkn006Myz"
      },
      "source": [
        "## What is Data Cleaning?\n",
        "\n",
        "* Data cleaning refers to the process of identifying and correcting or removing incorrect, incomplete, incorrectly formatted, corrupted, duplicate or irrelevant data within the provided data.\n",
        "\n",
        "Although tiresome, this is among the most important process of any data analytics or data science project as unwanted records my result in undesirable insights.\n",
        "\n",
        "💡 **Remember:** _Garbage in garbage out_\n",
        "\n",
        "There is no one outright and perfect way to stipulate the exact steps involved in the data cleaning phase because the processes will differ depending on the data at hand.\n",
        "\n"
      ]
    },
    {
      "cell_type": "markdown",
      "metadata": {
        "id": "a_jokNZe6My0"
      },
      "source": [
        "## What are the different types of data issues?\n",
        "\n",
        "* **Missing Data** - No data value is stored for an attribute in an observation hence data ends up with missing fields.\n",
        "* **Duplicated Entries** - An Entry that shares data with another entry.\n",
        "* **Invalid Data** - This includes wrong data types and wrong data formats which in turn interferes with the analysis process.\n",
        "* **Conflicting Data** - Occurs when there are same records with different attributes example grams and kgs."
      ]
    },
    {
      "cell_type": "markdown",
      "metadata": {
        "id": "57H7iyO96My1"
      },
      "source": [
        "## Loading Python Packages"
      ]
    },
    {
      "cell_type": "code",
      "execution_count": null,
      "metadata": {
        "id": "Iqjas9oX6My2"
      },
      "outputs": [],
      "source": [
        "# numpy for high level mathematical functions and working with Arrays\n",
        "import numpy as np\n",
        "# pandas data manipulation and analysis for tablular data\n",
        "import pandas as pd\n",
        "# seaborn and matplotlib for data visualization\n",
        "import seaborn as sns\n",
        "import matplotlib.pyplot as plt"
      ]
    },
    {
      "cell_type": "markdown",
      "metadata": {
        "id": "WkiYgRo_6My3"
      },
      "source": [
        "## Loading the data\n",
        "\n",
        "We will use the [students_data](https://drive.google.com/drive/folders/1NLTyHM5brBKr8PXO_glO9YYHJmbQ-6-o?usp=share_link).\n",
        "\n",
        "🤔 **Recall** - Apart from ```pd.read_csv```, what other methods can one use to load tabular data into a pandas dataframe?"
      ]
    },
    {
      "cell_type": "code",
      "execution_count": null,
      "metadata": {
        "id": "dYBEPRsK6My3"
      },
      "outputs": [],
      "source": [
        "# loading the data\n",
        "students = pd.read_csv(\"students_data.csv\", index_col=0)\n",
        "# using the index_col=0 argument avoid having the index column as unnamed:0"
      ]
    },
    {
      "cell_type": "markdown",
      "metadata": {
        "id": "YaY5-mhH6My4"
      },
      "source": [
        "## Understanding the Data\n",
        "\n",
        "Exploring a dataset before applying any methods or processes to it is quite essential in understanding what it contains. \n",
        "\n",
        "This will allow you generate questions that can be used to derive insights from the data to make informed business decisions."
      ]
    },
    {
      "cell_type": "markdown",
      "metadata": {
        "id": "lrwwbkHf6My5"
      },
      "source": [
        "### Inspecting the data\n",
        "\n",
        "Let's display few rows of the data, the column names and the shape of the data."
      ]
    },
    {
      "cell_type": "code",
      "execution_count": null,
      "metadata": {
        "id": "Gm8I1taH6My5",
        "outputId": "497f4587-50ee-498d-85bc-1852f0783aa3",
        "colab": {
          "base_uri": "https://localhost:8080/",
          "height": 207
        }
      },
      "outputs": [
        {
          "output_type": "execute_result",
          "data": {
            "text/plain": [
              "                   names  admission number house balance  english  kiswahili  \\\n",
              "0    JERIEL NDEDA, OBURA           13259.0   NaN     NaN     81.0       39.0   \n",
              "1  MUKUHA TIMOTHY, KAMAU           13243.0   NaN     NaN     85.0       74.0   \n",
              "2             JOB, NGARA           13307.0   NaN     NaN     54.0       49.0   \n",
              "3     CHEGE DAVID, KAMAU           13258.0   NaN     NaN     71.0       97.0   \n",
              "4    RAMADHAN MUSA, TEPO           13363.0   NaN     NaN     40.0       84.0   \n",
              "\n",
              "   mathematics  science  sst/cre Creative Arts music  \n",
              "0         50.0     30.0     59.0           99%   80%  \n",
              "1         68.0     49.0     78.0           38%   86%  \n",
              "2         53.0     59.0     72.0           86%   62%  \n",
              "3         92.0     41.0     81.0           77%   80%  \n",
              "4         74.0     82.0     89.0           64%   46%  "
            ],
            "text/html": [
              "\n",
              "  <div id=\"df-917327a4-a578-4e15-b159-c18da6d8016b\">\n",
              "    <div class=\"colab-df-container\">\n",
              "      <div>\n",
              "<style scoped>\n",
              "    .dataframe tbody tr th:only-of-type {\n",
              "        vertical-align: middle;\n",
              "    }\n",
              "\n",
              "    .dataframe tbody tr th {\n",
              "        vertical-align: top;\n",
              "    }\n",
              "\n",
              "    .dataframe thead th {\n",
              "        text-align: right;\n",
              "    }\n",
              "</style>\n",
              "<table border=\"1\" class=\"dataframe\">\n",
              "  <thead>\n",
              "    <tr style=\"text-align: right;\">\n",
              "      <th></th>\n",
              "      <th>names</th>\n",
              "      <th>admission number</th>\n",
              "      <th>house</th>\n",
              "      <th>balance</th>\n",
              "      <th>english</th>\n",
              "      <th>kiswahili</th>\n",
              "      <th>mathematics</th>\n",
              "      <th>science</th>\n",
              "      <th>sst/cre</th>\n",
              "      <th>Creative Arts</th>\n",
              "      <th>music</th>\n",
              "    </tr>\n",
              "  </thead>\n",
              "  <tbody>\n",
              "    <tr>\n",
              "      <th>0</th>\n",
              "      <td>JERIEL NDEDA, OBURA</td>\n",
              "      <td>13259.0</td>\n",
              "      <td>NaN</td>\n",
              "      <td>NaN</td>\n",
              "      <td>81.0</td>\n",
              "      <td>39.0</td>\n",
              "      <td>50.0</td>\n",
              "      <td>30.0</td>\n",
              "      <td>59.0</td>\n",
              "      <td>99%</td>\n",
              "      <td>80%</td>\n",
              "    </tr>\n",
              "    <tr>\n",
              "      <th>1</th>\n",
              "      <td>MUKUHA TIMOTHY, KAMAU</td>\n",
              "      <td>13243.0</td>\n",
              "      <td>NaN</td>\n",
              "      <td>NaN</td>\n",
              "      <td>85.0</td>\n",
              "      <td>74.0</td>\n",
              "      <td>68.0</td>\n",
              "      <td>49.0</td>\n",
              "      <td>78.0</td>\n",
              "      <td>38%</td>\n",
              "      <td>86%</td>\n",
              "    </tr>\n",
              "    <tr>\n",
              "      <th>2</th>\n",
              "      <td>JOB, NGARA</td>\n",
              "      <td>13307.0</td>\n",
              "      <td>NaN</td>\n",
              "      <td>NaN</td>\n",
              "      <td>54.0</td>\n",
              "      <td>49.0</td>\n",
              "      <td>53.0</td>\n",
              "      <td>59.0</td>\n",
              "      <td>72.0</td>\n",
              "      <td>86%</td>\n",
              "      <td>62%</td>\n",
              "    </tr>\n",
              "    <tr>\n",
              "      <th>3</th>\n",
              "      <td>CHEGE DAVID, KAMAU</td>\n",
              "      <td>13258.0</td>\n",
              "      <td>NaN</td>\n",
              "      <td>NaN</td>\n",
              "      <td>71.0</td>\n",
              "      <td>97.0</td>\n",
              "      <td>92.0</td>\n",
              "      <td>41.0</td>\n",
              "      <td>81.0</td>\n",
              "      <td>77%</td>\n",
              "      <td>80%</td>\n",
              "    </tr>\n",
              "    <tr>\n",
              "      <th>4</th>\n",
              "      <td>RAMADHAN MUSA, TEPO</td>\n",
              "      <td>13363.0</td>\n",
              "      <td>NaN</td>\n",
              "      <td>NaN</td>\n",
              "      <td>40.0</td>\n",
              "      <td>84.0</td>\n",
              "      <td>74.0</td>\n",
              "      <td>82.0</td>\n",
              "      <td>89.0</td>\n",
              "      <td>64%</td>\n",
              "      <td>46%</td>\n",
              "    </tr>\n",
              "  </tbody>\n",
              "</table>\n",
              "</div>\n",
              "      <button class=\"colab-df-convert\" onclick=\"convertToInteractive('df-917327a4-a578-4e15-b159-c18da6d8016b')\"\n",
              "              title=\"Convert this dataframe to an interactive table.\"\n",
              "              style=\"display:none;\">\n",
              "        \n",
              "  <svg xmlns=\"http://www.w3.org/2000/svg\" height=\"24px\"viewBox=\"0 0 24 24\"\n",
              "       width=\"24px\">\n",
              "    <path d=\"M0 0h24v24H0V0z\" fill=\"none\"/>\n",
              "    <path d=\"M18.56 5.44l.94 2.06.94-2.06 2.06-.94-2.06-.94-.94-2.06-.94 2.06-2.06.94zm-11 1L8.5 8.5l.94-2.06 2.06-.94-2.06-.94L8.5 2.5l-.94 2.06-2.06.94zm10 10l.94 2.06.94-2.06 2.06-.94-2.06-.94-.94-2.06-.94 2.06-2.06.94z\"/><path d=\"M17.41 7.96l-1.37-1.37c-.4-.4-.92-.59-1.43-.59-.52 0-1.04.2-1.43.59L10.3 9.45l-7.72 7.72c-.78.78-.78 2.05 0 2.83L4 21.41c.39.39.9.59 1.41.59.51 0 1.02-.2 1.41-.59l7.78-7.78 2.81-2.81c.8-.78.8-2.07 0-2.86zM5.41 20L4 18.59l7.72-7.72 1.47 1.35L5.41 20z\"/>\n",
              "  </svg>\n",
              "      </button>\n",
              "      \n",
              "  <style>\n",
              "    .colab-df-container {\n",
              "      display:flex;\n",
              "      flex-wrap:wrap;\n",
              "      gap: 12px;\n",
              "    }\n",
              "\n",
              "    .colab-df-convert {\n",
              "      background-color: #E8F0FE;\n",
              "      border: none;\n",
              "      border-radius: 50%;\n",
              "      cursor: pointer;\n",
              "      display: none;\n",
              "      fill: #1967D2;\n",
              "      height: 32px;\n",
              "      padding: 0 0 0 0;\n",
              "      width: 32px;\n",
              "    }\n",
              "\n",
              "    .colab-df-convert:hover {\n",
              "      background-color: #E2EBFA;\n",
              "      box-shadow: 0px 1px 2px rgba(60, 64, 67, 0.3), 0px 1px 3px 1px rgba(60, 64, 67, 0.15);\n",
              "      fill: #174EA6;\n",
              "    }\n",
              "\n",
              "    [theme=dark] .colab-df-convert {\n",
              "      background-color: #3B4455;\n",
              "      fill: #D2E3FC;\n",
              "    }\n",
              "\n",
              "    [theme=dark] .colab-df-convert:hover {\n",
              "      background-color: #434B5C;\n",
              "      box-shadow: 0px 1px 3px 1px rgba(0, 0, 0, 0.15);\n",
              "      filter: drop-shadow(0px 1px 2px rgba(0, 0, 0, 0.3));\n",
              "      fill: #FFFFFF;\n",
              "    }\n",
              "  </style>\n",
              "\n",
              "      <script>\n",
              "        const buttonEl =\n",
              "          document.querySelector('#df-917327a4-a578-4e15-b159-c18da6d8016b button.colab-df-convert');\n",
              "        buttonEl.style.display =\n",
              "          google.colab.kernel.accessAllowed ? 'block' : 'none';\n",
              "\n",
              "        async function convertToInteractive(key) {\n",
              "          const element = document.querySelector('#df-917327a4-a578-4e15-b159-c18da6d8016b');\n",
              "          const dataTable =\n",
              "            await google.colab.kernel.invokeFunction('convertToInteractive',\n",
              "                                                     [key], {});\n",
              "          if (!dataTable) return;\n",
              "\n",
              "          const docLinkHtml = 'Like what you see? Visit the ' +\n",
              "            '<a target=\"_blank\" href=https://colab.research.google.com/notebooks/data_table.ipynb>data table notebook</a>'\n",
              "            + ' to learn more about interactive tables.';\n",
              "          element.innerHTML = '';\n",
              "          dataTable['output_type'] = 'display_data';\n",
              "          await google.colab.output.renderOutput(dataTable, element);\n",
              "          const docLink = document.createElement('div');\n",
              "          docLink.innerHTML = docLinkHtml;\n",
              "          element.appendChild(docLink);\n",
              "        }\n",
              "      </script>\n",
              "    </div>\n",
              "  </div>\n",
              "  "
            ]
          },
          "metadata": {},
          "execution_count": 27
        }
      ],
      "source": [
        "# preview first 5 rows\n",
        "students.head()"
      ]
    },
    {
      "cell_type": "code",
      "execution_count": null,
      "metadata": {
        "id": "FVhthHPQ6My6",
        "outputId": "3ac2ca80-9c8f-464c-cdd5-239e0e5fa9e6",
        "colab": {
          "base_uri": "https://localhost:8080/",
          "height": 207
        }
      },
      "outputs": [
        {
          "output_type": "execute_result",
          "data": {
            "text/plain": [
              "                    names  admission number       house balance  english  \\\n",
              "142  TIMOTHY NDEDA, OBURA        13322634.0       Elgon       0    -78.0   \n",
              "143  MUKUHA JERIEL, NGARA         1932845.0  Cherangani     321     94.0   \n",
              "144            JOB, KAMAU         1430232.0       Nandi  43,200     98.0   \n",
              "145          CHEGE, KAMAU             159.0       Nandi     NaN    508.0   \n",
              "146        RAMADHAN, MUSA              87.0  Cherangani     NaN     81.0   \n",
              "\n",
              "     kiswahili  mathematics  science  sst/cre Creative Arts music  \n",
              "142       40.0         99.0     70.0     49.0           99&   92&  \n",
              "143      780.0        420.0     71.0     88.0           56%   76%  \n",
              "144       80.0         86.0     64.0     99.0           49%   69%  \n",
              "145      409.0         77.0     58.0     56.0           88%   84%  \n",
              "146       70.0         64.0    680.0     88.0           76%   72%  "
            ],
            "text/html": [
              "\n",
              "  <div id=\"df-43d052a2-e046-45e3-bdf2-f61f5128a1f7\">\n",
              "    <div class=\"colab-df-container\">\n",
              "      <div>\n",
              "<style scoped>\n",
              "    .dataframe tbody tr th:only-of-type {\n",
              "        vertical-align: middle;\n",
              "    }\n",
              "\n",
              "    .dataframe tbody tr th {\n",
              "        vertical-align: top;\n",
              "    }\n",
              "\n",
              "    .dataframe thead th {\n",
              "        text-align: right;\n",
              "    }\n",
              "</style>\n",
              "<table border=\"1\" class=\"dataframe\">\n",
              "  <thead>\n",
              "    <tr style=\"text-align: right;\">\n",
              "      <th></th>\n",
              "      <th>names</th>\n",
              "      <th>admission number</th>\n",
              "      <th>house</th>\n",
              "      <th>balance</th>\n",
              "      <th>english</th>\n",
              "      <th>kiswahili</th>\n",
              "      <th>mathematics</th>\n",
              "      <th>science</th>\n",
              "      <th>sst/cre</th>\n",
              "      <th>Creative Arts</th>\n",
              "      <th>music</th>\n",
              "    </tr>\n",
              "  </thead>\n",
              "  <tbody>\n",
              "    <tr>\n",
              "      <th>142</th>\n",
              "      <td>TIMOTHY NDEDA, OBURA</td>\n",
              "      <td>13322634.0</td>\n",
              "      <td>Elgon</td>\n",
              "      <td>0</td>\n",
              "      <td>-78.0</td>\n",
              "      <td>40.0</td>\n",
              "      <td>99.0</td>\n",
              "      <td>70.0</td>\n",
              "      <td>49.0</td>\n",
              "      <td>99&amp;</td>\n",
              "      <td>92&amp;</td>\n",
              "    </tr>\n",
              "    <tr>\n",
              "      <th>143</th>\n",
              "      <td>MUKUHA JERIEL, NGARA</td>\n",
              "      <td>1932845.0</td>\n",
              "      <td>Cherangani</td>\n",
              "      <td>321</td>\n",
              "      <td>94.0</td>\n",
              "      <td>780.0</td>\n",
              "      <td>420.0</td>\n",
              "      <td>71.0</td>\n",
              "      <td>88.0</td>\n",
              "      <td>56%</td>\n",
              "      <td>76%</td>\n",
              "    </tr>\n",
              "    <tr>\n",
              "      <th>144</th>\n",
              "      <td>JOB, KAMAU</td>\n",
              "      <td>1430232.0</td>\n",
              "      <td>Nandi</td>\n",
              "      <td>43,200</td>\n",
              "      <td>98.0</td>\n",
              "      <td>80.0</td>\n",
              "      <td>86.0</td>\n",
              "      <td>64.0</td>\n",
              "      <td>99.0</td>\n",
              "      <td>49%</td>\n",
              "      <td>69%</td>\n",
              "    </tr>\n",
              "    <tr>\n",
              "      <th>145</th>\n",
              "      <td>CHEGE, KAMAU</td>\n",
              "      <td>159.0</td>\n",
              "      <td>Nandi</td>\n",
              "      <td>NaN</td>\n",
              "      <td>508.0</td>\n",
              "      <td>409.0</td>\n",
              "      <td>77.0</td>\n",
              "      <td>58.0</td>\n",
              "      <td>56.0</td>\n",
              "      <td>88%</td>\n",
              "      <td>84%</td>\n",
              "    </tr>\n",
              "    <tr>\n",
              "      <th>146</th>\n",
              "      <td>RAMADHAN, MUSA</td>\n",
              "      <td>87.0</td>\n",
              "      <td>Cherangani</td>\n",
              "      <td>NaN</td>\n",
              "      <td>81.0</td>\n",
              "      <td>70.0</td>\n",
              "      <td>64.0</td>\n",
              "      <td>680.0</td>\n",
              "      <td>88.0</td>\n",
              "      <td>76%</td>\n",
              "      <td>72%</td>\n",
              "    </tr>\n",
              "  </tbody>\n",
              "</table>\n",
              "</div>\n",
              "      <button class=\"colab-df-convert\" onclick=\"convertToInteractive('df-43d052a2-e046-45e3-bdf2-f61f5128a1f7')\"\n",
              "              title=\"Convert this dataframe to an interactive table.\"\n",
              "              style=\"display:none;\">\n",
              "        \n",
              "  <svg xmlns=\"http://www.w3.org/2000/svg\" height=\"24px\"viewBox=\"0 0 24 24\"\n",
              "       width=\"24px\">\n",
              "    <path d=\"M0 0h24v24H0V0z\" fill=\"none\"/>\n",
              "    <path d=\"M18.56 5.44l.94 2.06.94-2.06 2.06-.94-2.06-.94-.94-2.06-.94 2.06-2.06.94zm-11 1L8.5 8.5l.94-2.06 2.06-.94-2.06-.94L8.5 2.5l-.94 2.06-2.06.94zm10 10l.94 2.06.94-2.06 2.06-.94-2.06-.94-.94-2.06-.94 2.06-2.06.94z\"/><path d=\"M17.41 7.96l-1.37-1.37c-.4-.4-.92-.59-1.43-.59-.52 0-1.04.2-1.43.59L10.3 9.45l-7.72 7.72c-.78.78-.78 2.05 0 2.83L4 21.41c.39.39.9.59 1.41.59.51 0 1.02-.2 1.41-.59l7.78-7.78 2.81-2.81c.8-.78.8-2.07 0-2.86zM5.41 20L4 18.59l7.72-7.72 1.47 1.35L5.41 20z\"/>\n",
              "  </svg>\n",
              "      </button>\n",
              "      \n",
              "  <style>\n",
              "    .colab-df-container {\n",
              "      display:flex;\n",
              "      flex-wrap:wrap;\n",
              "      gap: 12px;\n",
              "    }\n",
              "\n",
              "    .colab-df-convert {\n",
              "      background-color: #E8F0FE;\n",
              "      border: none;\n",
              "      border-radius: 50%;\n",
              "      cursor: pointer;\n",
              "      display: none;\n",
              "      fill: #1967D2;\n",
              "      height: 32px;\n",
              "      padding: 0 0 0 0;\n",
              "      width: 32px;\n",
              "    }\n",
              "\n",
              "    .colab-df-convert:hover {\n",
              "      background-color: #E2EBFA;\n",
              "      box-shadow: 0px 1px 2px rgba(60, 64, 67, 0.3), 0px 1px 3px 1px rgba(60, 64, 67, 0.15);\n",
              "      fill: #174EA6;\n",
              "    }\n",
              "\n",
              "    [theme=dark] .colab-df-convert {\n",
              "      background-color: #3B4455;\n",
              "      fill: #D2E3FC;\n",
              "    }\n",
              "\n",
              "    [theme=dark] .colab-df-convert:hover {\n",
              "      background-color: #434B5C;\n",
              "      box-shadow: 0px 1px 3px 1px rgba(0, 0, 0, 0.15);\n",
              "      filter: drop-shadow(0px 1px 2px rgba(0, 0, 0, 0.3));\n",
              "      fill: #FFFFFF;\n",
              "    }\n",
              "  </style>\n",
              "\n",
              "      <script>\n",
              "        const buttonEl =\n",
              "          document.querySelector('#df-43d052a2-e046-45e3-bdf2-f61f5128a1f7 button.colab-df-convert');\n",
              "        buttonEl.style.display =\n",
              "          google.colab.kernel.accessAllowed ? 'block' : 'none';\n",
              "\n",
              "        async function convertToInteractive(key) {\n",
              "          const element = document.querySelector('#df-43d052a2-e046-45e3-bdf2-f61f5128a1f7');\n",
              "          const dataTable =\n",
              "            await google.colab.kernel.invokeFunction('convertToInteractive',\n",
              "                                                     [key], {});\n",
              "          if (!dataTable) return;\n",
              "\n",
              "          const docLinkHtml = 'Like what you see? Visit the ' +\n",
              "            '<a target=\"_blank\" href=https://colab.research.google.com/notebooks/data_table.ipynb>data table notebook</a>'\n",
              "            + ' to learn more about interactive tables.';\n",
              "          element.innerHTML = '';\n",
              "          dataTable['output_type'] = 'display_data';\n",
              "          await google.colab.output.renderOutput(dataTable, element);\n",
              "          const docLink = document.createElement('div');\n",
              "          docLink.innerHTML = docLinkHtml;\n",
              "          element.appendChild(docLink);\n",
              "        }\n",
              "      </script>\n",
              "    </div>\n",
              "  </div>\n",
              "  "
            ]
          },
          "metadata": {},
          "execution_count": 28
        }
      ],
      "source": [
        "# preview last 5 rows\n",
        "students.tail()"
      ]
    },
    {
      "cell_type": "code",
      "execution_count": null,
      "metadata": {
        "id": "yXCTFy5a6My6",
        "outputId": "3f5cd45e-c12c-438b-f16d-6e6d5bfd9efa",
        "colab": {
          "base_uri": "https://localhost:8080/"
        }
      },
      "outputs": [
        {
          "output_type": "execute_result",
          "data": {
            "text/plain": [
              "['names',\n",
              " 'admission number',\n",
              " 'house',\n",
              " 'balance',\n",
              " 'english',\n",
              " 'kiswahili',\n",
              " 'mathematics',\n",
              " 'science',\n",
              " 'sst/cre',\n",
              " 'Creative Arts',\n",
              " 'music']"
            ]
          },
          "metadata": {},
          "execution_count": 30
        }
      ],
      "source": [
        "# the column names\n",
        "list(students.columns)"
      ]
    },
    {
      "cell_type": "code",
      "execution_count": null,
      "metadata": {
        "id": "dAVOGZ206My7",
        "outputId": "b84de3e6-f052-4d0c-89b8-35c14f7951fd",
        "colab": {
          "base_uri": "https://localhost:8080/"
        }
      },
      "outputs": [
        {
          "output_type": "execute_result",
          "data": {
            "text/plain": [
              "(147, 11)"
            ]
          },
          "metadata": {},
          "execution_count": 31
        }
      ],
      "source": [
        "# shape of the data \n",
        "students.shape"
      ]
    },
    {
      "cell_type": "markdown",
      "metadata": {
        "id": "yG2bDrBI6My8"
      },
      "source": [
        "The methods ```.info()``` and ```.describe()``` provide important overview of the data."
      ]
    },
    {
      "cell_type": "code",
      "execution_count": null,
      "metadata": {
        "id": "u_beZ_aD6My8",
        "outputId": "3e95bbc3-c324-4044-abc2-c42d1c8eace2",
        "colab": {
          "base_uri": "https://localhost:8080/"
        }
      },
      "outputs": [
        {
          "output_type": "stream",
          "name": "stdout",
          "text": [
            "<class 'pandas.core.frame.DataFrame'>\n",
            "Int64Index: 147 entries, 0 to 146\n",
            "Data columns (total 11 columns):\n",
            " #   Column            Non-Null Count  Dtype  \n",
            "---  ------            --------------  -----  \n",
            " 0   names             147 non-null    object \n",
            " 1   admission number  124 non-null    float64\n",
            " 2   house             26 non-null     object \n",
            " 3   balance           58 non-null     object \n",
            " 4   english           121 non-null    float64\n",
            " 5   kiswahili         119 non-null    float64\n",
            " 6   mathematics       130 non-null    float64\n",
            " 7   science           117 non-null    float64\n",
            " 8   sst/cre           132 non-null    float64\n",
            " 9   Creative Arts     143 non-null    object \n",
            " 10  music             147 non-null    object \n",
            "dtypes: float64(6), object(5)\n",
            "memory usage: 13.8+ KB\n"
          ]
        }
      ],
      "source": [
        "# info for overview of the data\n",
        "students.info()"
      ]
    },
    {
      "cell_type": "code",
      "execution_count": null,
      "metadata": {
        "id": "EtbrOhrV6My8",
        "outputId": "beca0bd6-b1f3-49d8-c185-cc4285b0a15a",
        "colab": {
          "base_uri": "https://localhost:8080/",
          "height": 301
        }
      },
      "outputs": [
        {
          "output_type": "execute_result",
          "data": {
            "text/plain": [
              "       admission number     english   kiswahili  mathematics     science  \\\n",
              "count      1.240000e+02  121.000000  119.000000   130.000000  117.000000   \n",
              "mean       1.473303e+05   70.958678   74.764706    72.938462   68.179487   \n",
              "std        1.211743e+06   45.884710   74.971035    35.293180   60.666928   \n",
              "min        8.700000e+01  -78.000000   29.000000    32.000000   28.000000   \n",
              "25%        1.326200e+04   54.000000   49.500000    55.500000   46.000000   \n",
              "50%        1.330650e+04   71.000000   66.000000    71.000000   66.000000   \n",
              "75%        1.335625e+04   83.000000   82.500000    86.000000   79.000000   \n",
              "max        1.332263e+07  508.000000  780.000000   420.000000  680.000000   \n",
              "\n",
              "          sst/cre  \n",
              "count  132.000000  \n",
              "mean    70.833333  \n",
              "std     18.617142  \n",
              "min     29.000000  \n",
              "25%     54.750000  \n",
              "50%     73.000000  \n",
              "75%     87.000000  \n",
              "max    100.000000  "
            ],
            "text/html": [
              "\n",
              "  <div id=\"df-3962e052-f9e7-4e81-ab6a-d08575aec74b\">\n",
              "    <div class=\"colab-df-container\">\n",
              "      <div>\n",
              "<style scoped>\n",
              "    .dataframe tbody tr th:only-of-type {\n",
              "        vertical-align: middle;\n",
              "    }\n",
              "\n",
              "    .dataframe tbody tr th {\n",
              "        vertical-align: top;\n",
              "    }\n",
              "\n",
              "    .dataframe thead th {\n",
              "        text-align: right;\n",
              "    }\n",
              "</style>\n",
              "<table border=\"1\" class=\"dataframe\">\n",
              "  <thead>\n",
              "    <tr style=\"text-align: right;\">\n",
              "      <th></th>\n",
              "      <th>admission number</th>\n",
              "      <th>english</th>\n",
              "      <th>kiswahili</th>\n",
              "      <th>mathematics</th>\n",
              "      <th>science</th>\n",
              "      <th>sst/cre</th>\n",
              "    </tr>\n",
              "  </thead>\n",
              "  <tbody>\n",
              "    <tr>\n",
              "      <th>count</th>\n",
              "      <td>1.240000e+02</td>\n",
              "      <td>121.000000</td>\n",
              "      <td>119.000000</td>\n",
              "      <td>130.000000</td>\n",
              "      <td>117.000000</td>\n",
              "      <td>132.000000</td>\n",
              "    </tr>\n",
              "    <tr>\n",
              "      <th>mean</th>\n",
              "      <td>1.473303e+05</td>\n",
              "      <td>70.958678</td>\n",
              "      <td>74.764706</td>\n",
              "      <td>72.938462</td>\n",
              "      <td>68.179487</td>\n",
              "      <td>70.833333</td>\n",
              "    </tr>\n",
              "    <tr>\n",
              "      <th>std</th>\n",
              "      <td>1.211743e+06</td>\n",
              "      <td>45.884710</td>\n",
              "      <td>74.971035</td>\n",
              "      <td>35.293180</td>\n",
              "      <td>60.666928</td>\n",
              "      <td>18.617142</td>\n",
              "    </tr>\n",
              "    <tr>\n",
              "      <th>min</th>\n",
              "      <td>8.700000e+01</td>\n",
              "      <td>-78.000000</td>\n",
              "      <td>29.000000</td>\n",
              "      <td>32.000000</td>\n",
              "      <td>28.000000</td>\n",
              "      <td>29.000000</td>\n",
              "    </tr>\n",
              "    <tr>\n",
              "      <th>25%</th>\n",
              "      <td>1.326200e+04</td>\n",
              "      <td>54.000000</td>\n",
              "      <td>49.500000</td>\n",
              "      <td>55.500000</td>\n",
              "      <td>46.000000</td>\n",
              "      <td>54.750000</td>\n",
              "    </tr>\n",
              "    <tr>\n",
              "      <th>50%</th>\n",
              "      <td>1.330650e+04</td>\n",
              "      <td>71.000000</td>\n",
              "      <td>66.000000</td>\n",
              "      <td>71.000000</td>\n",
              "      <td>66.000000</td>\n",
              "      <td>73.000000</td>\n",
              "    </tr>\n",
              "    <tr>\n",
              "      <th>75%</th>\n",
              "      <td>1.335625e+04</td>\n",
              "      <td>83.000000</td>\n",
              "      <td>82.500000</td>\n",
              "      <td>86.000000</td>\n",
              "      <td>79.000000</td>\n",
              "      <td>87.000000</td>\n",
              "    </tr>\n",
              "    <tr>\n",
              "      <th>max</th>\n",
              "      <td>1.332263e+07</td>\n",
              "      <td>508.000000</td>\n",
              "      <td>780.000000</td>\n",
              "      <td>420.000000</td>\n",
              "      <td>680.000000</td>\n",
              "      <td>100.000000</td>\n",
              "    </tr>\n",
              "  </tbody>\n",
              "</table>\n",
              "</div>\n",
              "      <button class=\"colab-df-convert\" onclick=\"convertToInteractive('df-3962e052-f9e7-4e81-ab6a-d08575aec74b')\"\n",
              "              title=\"Convert this dataframe to an interactive table.\"\n",
              "              style=\"display:none;\">\n",
              "        \n",
              "  <svg xmlns=\"http://www.w3.org/2000/svg\" height=\"24px\"viewBox=\"0 0 24 24\"\n",
              "       width=\"24px\">\n",
              "    <path d=\"M0 0h24v24H0V0z\" fill=\"none\"/>\n",
              "    <path d=\"M18.56 5.44l.94 2.06.94-2.06 2.06-.94-2.06-.94-.94-2.06-.94 2.06-2.06.94zm-11 1L8.5 8.5l.94-2.06 2.06-.94-2.06-.94L8.5 2.5l-.94 2.06-2.06.94zm10 10l.94 2.06.94-2.06 2.06-.94-2.06-.94-.94-2.06-.94 2.06-2.06.94z\"/><path d=\"M17.41 7.96l-1.37-1.37c-.4-.4-.92-.59-1.43-.59-.52 0-1.04.2-1.43.59L10.3 9.45l-7.72 7.72c-.78.78-.78 2.05 0 2.83L4 21.41c.39.39.9.59 1.41.59.51 0 1.02-.2 1.41-.59l7.78-7.78 2.81-2.81c.8-.78.8-2.07 0-2.86zM5.41 20L4 18.59l7.72-7.72 1.47 1.35L5.41 20z\"/>\n",
              "  </svg>\n",
              "      </button>\n",
              "      \n",
              "  <style>\n",
              "    .colab-df-container {\n",
              "      display:flex;\n",
              "      flex-wrap:wrap;\n",
              "      gap: 12px;\n",
              "    }\n",
              "\n",
              "    .colab-df-convert {\n",
              "      background-color: #E8F0FE;\n",
              "      border: none;\n",
              "      border-radius: 50%;\n",
              "      cursor: pointer;\n",
              "      display: none;\n",
              "      fill: #1967D2;\n",
              "      height: 32px;\n",
              "      padding: 0 0 0 0;\n",
              "      width: 32px;\n",
              "    }\n",
              "\n",
              "    .colab-df-convert:hover {\n",
              "      background-color: #E2EBFA;\n",
              "      box-shadow: 0px 1px 2px rgba(60, 64, 67, 0.3), 0px 1px 3px 1px rgba(60, 64, 67, 0.15);\n",
              "      fill: #174EA6;\n",
              "    }\n",
              "\n",
              "    [theme=dark] .colab-df-convert {\n",
              "      background-color: #3B4455;\n",
              "      fill: #D2E3FC;\n",
              "    }\n",
              "\n",
              "    [theme=dark] .colab-df-convert:hover {\n",
              "      background-color: #434B5C;\n",
              "      box-shadow: 0px 1px 3px 1px rgba(0, 0, 0, 0.15);\n",
              "      filter: drop-shadow(0px 1px 2px rgba(0, 0, 0, 0.3));\n",
              "      fill: #FFFFFF;\n",
              "    }\n",
              "  </style>\n",
              "\n",
              "      <script>\n",
              "        const buttonEl =\n",
              "          document.querySelector('#df-3962e052-f9e7-4e81-ab6a-d08575aec74b button.colab-df-convert');\n",
              "        buttonEl.style.display =\n",
              "          google.colab.kernel.accessAllowed ? 'block' : 'none';\n",
              "\n",
              "        async function convertToInteractive(key) {\n",
              "          const element = document.querySelector('#df-3962e052-f9e7-4e81-ab6a-d08575aec74b');\n",
              "          const dataTable =\n",
              "            await google.colab.kernel.invokeFunction('convertToInteractive',\n",
              "                                                     [key], {});\n",
              "          if (!dataTable) return;\n",
              "\n",
              "          const docLinkHtml = 'Like what you see? Visit the ' +\n",
              "            '<a target=\"_blank\" href=https://colab.research.google.com/notebooks/data_table.ipynb>data table notebook</a>'\n",
              "            + ' to learn more about interactive tables.';\n",
              "          element.innerHTML = '';\n",
              "          dataTable['output_type'] = 'display_data';\n",
              "          await google.colab.output.renderOutput(dataTable, element);\n",
              "          const docLink = document.createElement('div');\n",
              "          docLink.innerHTML = docLinkHtml;\n",
              "          element.appendChild(docLink);\n",
              "        }\n",
              "      </script>\n",
              "    </div>\n",
              "  </div>\n",
              "  "
            ]
          },
          "metadata": {},
          "execution_count": 33
        }
      ],
      "source": [
        "# describe for descriptive statistics\n",
        "students.describe()"
      ]
    },
    {
      "cell_type": "markdown",
      "metadata": {
        "id": "_IJY3tL16My9"
      },
      "source": [
        "Now that we have sense of the data that is available to us, we can focus on the irrelevant, incomplete and incorrect data entries before we proceed with any analysis.\n",
        "\n",
        "📝 **Note** - Its important to note that data cleaning can re-occur in multiple phases during the analysis process. "
      ]
    },
    {
      "cell_type": "markdown",
      "metadata": {
        "id": "ejqM-HS26My9"
      },
      "source": [
        "## Data Cleaning "
      ]
    },
    {
      "cell_type": "markdown",
      "metadata": {
        "id": "jXFIoBHq6My9"
      },
      "source": [
        "### Removal of Duplicate and Unwanted Observations\n",
        "\n",
        "* **Duplicated Entries** - Complete carbon copy of rows or column values. \n",
        "* **Unwanted observations** - Irrelevant data records that don’t actually fit the specific problem you are trying to analyze or solve"
      ]
    },
    {
      "cell_type": "code",
      "execution_count": null,
      "metadata": {
        "id": "VJlMvzs26My9",
        "outputId": "dd493d80-a8b7-4057-9fd6-567152e74282",
        "colab": {
          "base_uri": "https://localhost:8080/"
        }
      },
      "outputs": [
        {
          "output_type": "stream",
          "name": "stdout",
          "text": [
            "The Data has 8 duplicated rows.\n",
            "This constitutes 5.442% of the data set.\n"
          ]
        }
      ],
      "source": [
        "# Duplicated entries\n",
        "def identify_duplicates(data):\n",
        "    \"\"\"Simple function to identify any duplicates\"\"\"\n",
        "    # identify the duplicates (dataframename.duplicated() , can add .sum() to get total count)\n",
        "    # empty list to store Bool results from duplicated\n",
        "    duplicates = []\n",
        "    for i in data.duplicated():\n",
        "        duplicates.append(i)\n",
        "    # identify if there is any duplicates. (If there is any we expect a True value in the list duplicates)\n",
        "    duplicates_set = set(duplicates) \n",
        "    if (len(duplicates_set) == 1):\n",
        "        print(\"The Data has no duplicates\")\n",
        "    else:\n",
        "        no_true = 0\n",
        "        for val in duplicates:\n",
        "            if (val == True):\n",
        "                no_true += 1\n",
        "        # percentage of the data represented by duplicates \n",
        "        duplicates_percentage = np.round(((no_true / len(data)) * 100), 3)\n",
        "        print(f\"The Data has {no_true} duplicated rows.\\nThis constitutes {duplicates_percentage}% of the data set.\") \n",
        "\n",
        "\n",
        "\n",
        "identify_duplicates(students)"
      ]
    },
    {
      "cell_type": "code",
      "execution_count": null,
      "metadata": {
        "id": "vt2mPkvg6My-",
        "outputId": "ea1bf845-0f1e-4e47-e58a-337dd0272113",
        "colab": {
          "base_uri": "https://localhost:8080/"
        }
      },
      "outputs": [
        {
          "output_type": "stream",
          "name": "stdout",
          "text": [
            "The Data has no duplicates\n"
          ]
        }
      ],
      "source": [
        "# handling the duplicates \n",
        "def remove_duplicated_rows(data):\n",
        "    \"\"\"Simple Function to remove duplicated rows\"\"\"\n",
        "    data.drop_duplicates(subset=None, keep=\"first\", inplace=True)\n",
        "    # confirm if the duplicated rows have been removed\n",
        "    confirm = identify_duplicates(students)\n",
        "\n",
        "    return confirm \n",
        "\n",
        "\n",
        "remove_duplicated_rows(students)"
      ]
    },
    {
      "cell_type": "markdown",
      "metadata": {
        "id": "hHVwlIXg6My-"
      },
      "source": [
        "💡 **Remember** - Columns that contain unique details such as Customer ID, Mobile Number should not be duplicated."
      ]
    },
    {
      "cell_type": "code",
      "execution_count": null,
      "metadata": {
        "id": "kyzXeEdr6My-",
        "outputId": "5c2d59e3-c300-4213-8094-e9675769653b",
        "colab": {
          "base_uri": "https://localhost:8080/"
        }
      },
      "outputs": [
        {
          "output_type": "stream",
          "name": "stdout",
          "text": [
            "The column Admission Number has 47 duplicated rows.\n",
            "This constitutes 33.813% of the data set.\n"
          ]
        }
      ],
      "source": [
        "def unique_column_duplicates(data, column):\n",
        "    \"\"\"handling duplicates in unique column\"\"\"\n",
        "    # empty list to store the duplicate bools\n",
        "    duplicates = []\n",
        "    for i in data[column].duplicated():\n",
        "        duplicates.append(i)\n",
        "    \n",
        "    # identify if there are any duplicates\n",
        "    duplicates_set = set(duplicates)\n",
        "    if (len(duplicates_set) == 1):\n",
        "        print(f\"The column {column.title()} has no duplicates\")\n",
        "    else:\n",
        "        no_true = 0\n",
        "        for val in duplicates:\n",
        "            if (val == True):\n",
        "                no_true += 1\n",
        "        # percentage of the data represented by duplicates \n",
        "        duplicates_percentage = np.round(((no_true / len(data)) * 100), 3)\n",
        "        print(f\"The column {column.title()} has {no_true} duplicated rows.\\nThis constitutes {duplicates_percentage}% of the data set.\")\n",
        "\n",
        "\n",
        "unique_column_duplicates(students, \"admission number\")"
      ]
    },
    {
      "cell_type": "markdown",
      "metadata": {
        "id": "RN0q46816My_"
      },
      "source": [
        "From above, we can clearly point out that 47 students have the same admission number, which practically is not possible as each student is required to have a unique admission number."
      ]
    },
    {
      "cell_type": "code",
      "execution_count": null,
      "metadata": {
        "id": "-LTg27Uw6My_",
        "outputId": "62785146-60e1-4156-cb41-9e47a8f23b5c",
        "colab": {
          "base_uri": "https://localhost:8080/"
        }
      },
      "outputs": [
        {
          "output_type": "stream",
          "name": "stdout",
          "text": [
            "The column Admission Number has no duplicates\n"
          ]
        }
      ],
      "source": [
        "# handling the unique column duplicates \n",
        "def remove_unique_column_duplicates(data, column):\n",
        "    \"\"\"Simple Function to remove duplicated rows\"\"\"\n",
        "    data.drop_duplicates(subset=column, keep=\"first\", inplace=True)\n",
        "    # confirm if the duplicated rows have been removed\n",
        "    confirm = unique_column_duplicates(students, \"admission number\")\n",
        "\n",
        "    return confirm \n",
        "\n",
        "\n",
        "remove_unique_column_duplicates(students, \"admission number\")"
      ]
    },
    {
      "cell_type": "markdown",
      "metadata": {
        "id": "AvnvKJrj6My_"
      },
      "source": [
        "### Missing value\n",
        "\n",
        "While identifying these missing records proves to be easy, how to handle them often requires careful consideration as random fills or removal can lead to unforeseen results.\n",
        "\n",
        "There are a couple of ways to deal with missing data but it is important to note that neither is the optimal way of doing so:\n",
        "\n",
        "* **Dropping** - Deleting the records with missing values.\n",
        "* **Replacing** - Updating Missing values with values, this values could be actual or approximate."
      ]
    },
    {
      "cell_type": "code",
      "execution_count": null,
      "metadata": {
        "id": "VckiJASG6MzA"
      },
      "outputs": [],
      "source": [
        "# identify missing \n"
      ]
    },
    {
      "cell_type": "code",
      "execution_count": null,
      "metadata": {
        "id": "pRkz2sl36MzB"
      },
      "outputs": [],
      "source": [
        "# drop missing values\n"
      ]
    },
    {
      "cell_type": "markdown",
      "metadata": {
        "id": "3loByX6_6MzB"
      },
      "source": [
        "* The column **balance** has ```55%``` of its values missing. Is it therefore best to?\n",
        ">> (A) Guess the fee balances of the remaining students.\n",
        "\n",
        ">> (B) Replace with mean Fee balance. \n",
        "\n",
        ">> (C) Assume students with missing values have cleared their fees.\n",
        "\n",
        ">> (D) Drop the column because the missing values are just too much.\n",
        "\n"
      ]
    },
    {
      "cell_type": "code",
      "execution_count": null,
      "metadata": {
        "id": "egSxZnVG6MzC"
      },
      "outputs": [],
      "source": [
        "# replace missing values\n"
      ]
    },
    {
      "cell_type": "markdown",
      "metadata": {
        "id": "UlZqFTwC6MzC"
      },
      "source": [
        "📝 **Note** If the argument regex is ```True``` then to_replace must be a string. \n",
        "\n",
        "You can read more about replace [here](https://pandas.pydata.org/docs/reference/api/pandas.DataFrame.replace.html)"
      ]
    },
    {
      "cell_type": "markdown",
      "metadata": {
        "id": "LLFell516MzC"
      },
      "source": [
        "The columns **english**, **kiswahili**, **mathematics**, **science**, **sst/cre** are numeric columns with a very low perentage of missing values. We can replace them with the mean scores in those subjects."
      ]
    },
    {
      "cell_type": "markdown",
      "metadata": {
        "id": "wtT-7Bfw6MzD"
      },
      "source": [
        "The column **admission number** has one missing value. We can take a guess on this column, but chances are we can key in an exact number as another in the column and create a duplicate.\n",
        "\n",
        "Since there is only one row missing we can safely drop the row."
      ]
    },
    {
      "cell_type": "markdown",
      "metadata": {
        "id": "T9tZRYDi6MzD"
      },
      "source": [
        "What should we do about the column creative arts?\n",
        "\n",
        "Columns creative arts and music have data stored in percentages. This should be numeric, but poor oh the computer doesn't understand this, don't get me wrong, computers are smart but only if you tell them to be."
      ]
    },
    {
      "cell_type": "markdown",
      "metadata": {
        "id": "hwtECi616MzD"
      },
      "source": [
        "### Fix Structural Issues"
      ]
    },
    {
      "cell_type": "code",
      "execution_count": null,
      "metadata": {
        "id": "yl1yVN0K6MzD",
        "outputId": "ef4a218e-aee9-4aa3-c66f-fcebe47296b4",
        "colab": {
          "base_uri": "https://localhost:8080/",
          "height": 207
        }
      },
      "outputs": [
        {
          "output_type": "execute_result",
          "data": {
            "text/plain": [
              "                   names  admission number balance  english  kiswahili  \\\n",
              "0    JERIEL NDEDA, OBURA           13259.0       0     81.0       39.0   \n",
              "1  MUKUHA TIMOTHY, KAMAU           13243.0       0     85.0       74.0   \n",
              "2             JOB, NGARA           13307.0       0     54.0       49.0   \n",
              "3     CHEGE DAVID, KAMAU           13258.0       0     71.0       97.0   \n",
              "4    RAMADHAN MUSA, TEPO           13363.0       0     40.0       84.0   \n",
              "\n",
              "   mathematics  science  sst/cre Creative Arts music  \n",
              "0         50.0     30.0     59.0            99    80  \n",
              "1         68.0     49.0     78.0            38    86  \n",
              "2         53.0     59.0     72.0            86    62  \n",
              "3         92.0     41.0     81.0            77    80  \n",
              "4         74.0     82.0     89.0            64    46  "
            ],
            "text/html": [
              "\n",
              "  <div id=\"df-298cfbdd-7125-44ab-85a0-65e11495b683\">\n",
              "    <div class=\"colab-df-container\">\n",
              "      <div>\n",
              "<style scoped>\n",
              "    .dataframe tbody tr th:only-of-type {\n",
              "        vertical-align: middle;\n",
              "    }\n",
              "\n",
              "    .dataframe tbody tr th {\n",
              "        vertical-align: top;\n",
              "    }\n",
              "\n",
              "    .dataframe thead th {\n",
              "        text-align: right;\n",
              "    }\n",
              "</style>\n",
              "<table border=\"1\" class=\"dataframe\">\n",
              "  <thead>\n",
              "    <tr style=\"text-align: right;\">\n",
              "      <th></th>\n",
              "      <th>names</th>\n",
              "      <th>admission number</th>\n",
              "      <th>balance</th>\n",
              "      <th>english</th>\n",
              "      <th>kiswahili</th>\n",
              "      <th>mathematics</th>\n",
              "      <th>science</th>\n",
              "      <th>sst/cre</th>\n",
              "      <th>Creative Arts</th>\n",
              "      <th>music</th>\n",
              "    </tr>\n",
              "  </thead>\n",
              "  <tbody>\n",
              "    <tr>\n",
              "      <th>0</th>\n",
              "      <td>JERIEL NDEDA, OBURA</td>\n",
              "      <td>13259.0</td>\n",
              "      <td>0</td>\n",
              "      <td>81.0</td>\n",
              "      <td>39.0</td>\n",
              "      <td>50.0</td>\n",
              "      <td>30.0</td>\n",
              "      <td>59.0</td>\n",
              "      <td>99</td>\n",
              "      <td>80</td>\n",
              "    </tr>\n",
              "    <tr>\n",
              "      <th>1</th>\n",
              "      <td>MUKUHA TIMOTHY, KAMAU</td>\n",
              "      <td>13243.0</td>\n",
              "      <td>0</td>\n",
              "      <td>85.0</td>\n",
              "      <td>74.0</td>\n",
              "      <td>68.0</td>\n",
              "      <td>49.0</td>\n",
              "      <td>78.0</td>\n",
              "      <td>38</td>\n",
              "      <td>86</td>\n",
              "    </tr>\n",
              "    <tr>\n",
              "      <th>2</th>\n",
              "      <td>JOB, NGARA</td>\n",
              "      <td>13307.0</td>\n",
              "      <td>0</td>\n",
              "      <td>54.0</td>\n",
              "      <td>49.0</td>\n",
              "      <td>53.0</td>\n",
              "      <td>59.0</td>\n",
              "      <td>72.0</td>\n",
              "      <td>86</td>\n",
              "      <td>62</td>\n",
              "    </tr>\n",
              "    <tr>\n",
              "      <th>3</th>\n",
              "      <td>CHEGE DAVID, KAMAU</td>\n",
              "      <td>13258.0</td>\n",
              "      <td>0</td>\n",
              "      <td>71.0</td>\n",
              "      <td>97.0</td>\n",
              "      <td>92.0</td>\n",
              "      <td>41.0</td>\n",
              "      <td>81.0</td>\n",
              "      <td>77</td>\n",
              "      <td>80</td>\n",
              "    </tr>\n",
              "    <tr>\n",
              "      <th>4</th>\n",
              "      <td>RAMADHAN MUSA, TEPO</td>\n",
              "      <td>13363.0</td>\n",
              "      <td>0</td>\n",
              "      <td>40.0</td>\n",
              "      <td>84.0</td>\n",
              "      <td>74.0</td>\n",
              "      <td>82.0</td>\n",
              "      <td>89.0</td>\n",
              "      <td>64</td>\n",
              "      <td>46</td>\n",
              "    </tr>\n",
              "  </tbody>\n",
              "</table>\n",
              "</div>\n",
              "      <button class=\"colab-df-convert\" onclick=\"convertToInteractive('df-298cfbdd-7125-44ab-85a0-65e11495b683')\"\n",
              "              title=\"Convert this dataframe to an interactive table.\"\n",
              "              style=\"display:none;\">\n",
              "        \n",
              "  <svg xmlns=\"http://www.w3.org/2000/svg\" height=\"24px\"viewBox=\"0 0 24 24\"\n",
              "       width=\"24px\">\n",
              "    <path d=\"M0 0h24v24H0V0z\" fill=\"none\"/>\n",
              "    <path d=\"M18.56 5.44l.94 2.06.94-2.06 2.06-.94-2.06-.94-.94-2.06-.94 2.06-2.06.94zm-11 1L8.5 8.5l.94-2.06 2.06-.94-2.06-.94L8.5 2.5l-.94 2.06-2.06.94zm10 10l.94 2.06.94-2.06 2.06-.94-2.06-.94-.94-2.06-.94 2.06-2.06.94z\"/><path d=\"M17.41 7.96l-1.37-1.37c-.4-.4-.92-.59-1.43-.59-.52 0-1.04.2-1.43.59L10.3 9.45l-7.72 7.72c-.78.78-.78 2.05 0 2.83L4 21.41c.39.39.9.59 1.41.59.51 0 1.02-.2 1.41-.59l7.78-7.78 2.81-2.81c.8-.78.8-2.07 0-2.86zM5.41 20L4 18.59l7.72-7.72 1.47 1.35L5.41 20z\"/>\n",
              "  </svg>\n",
              "      </button>\n",
              "      \n",
              "  <style>\n",
              "    .colab-df-container {\n",
              "      display:flex;\n",
              "      flex-wrap:wrap;\n",
              "      gap: 12px;\n",
              "    }\n",
              "\n",
              "    .colab-df-convert {\n",
              "      background-color: #E8F0FE;\n",
              "      border: none;\n",
              "      border-radius: 50%;\n",
              "      cursor: pointer;\n",
              "      display: none;\n",
              "      fill: #1967D2;\n",
              "      height: 32px;\n",
              "      padding: 0 0 0 0;\n",
              "      width: 32px;\n",
              "    }\n",
              "\n",
              "    .colab-df-convert:hover {\n",
              "      background-color: #E2EBFA;\n",
              "      box-shadow: 0px 1px 2px rgba(60, 64, 67, 0.3), 0px 1px 3px 1px rgba(60, 64, 67, 0.15);\n",
              "      fill: #174EA6;\n",
              "    }\n",
              "\n",
              "    [theme=dark] .colab-df-convert {\n",
              "      background-color: #3B4455;\n",
              "      fill: #D2E3FC;\n",
              "    }\n",
              "\n",
              "    [theme=dark] .colab-df-convert:hover {\n",
              "      background-color: #434B5C;\n",
              "      box-shadow: 0px 1px 3px 1px rgba(0, 0, 0, 0.15);\n",
              "      filter: drop-shadow(0px 1px 2px rgba(0, 0, 0, 0.3));\n",
              "      fill: #FFFFFF;\n",
              "    }\n",
              "  </style>\n",
              "\n",
              "      <script>\n",
              "        const buttonEl =\n",
              "          document.querySelector('#df-298cfbdd-7125-44ab-85a0-65e11495b683 button.colab-df-convert');\n",
              "        buttonEl.style.display =\n",
              "          google.colab.kernel.accessAllowed ? 'block' : 'none';\n",
              "\n",
              "        async function convertToInteractive(key) {\n",
              "          const element = document.querySelector('#df-298cfbdd-7125-44ab-85a0-65e11495b683');\n",
              "          const dataTable =\n",
              "            await google.colab.kernel.invokeFunction('convertToInteractive',\n",
              "                                                     [key], {});\n",
              "          if (!dataTable) return;\n",
              "\n",
              "          const docLinkHtml = 'Like what you see? Visit the ' +\n",
              "            '<a target=\"_blank\" href=https://colab.research.google.com/notebooks/data_table.ipynb>data table notebook</a>'\n",
              "            + ' to learn more about interactive tables.';\n",
              "          element.innerHTML = '';\n",
              "          dataTable['output_type'] = 'display_data';\n",
              "          await google.colab.output.renderOutput(dataTable, element);\n",
              "          const docLink = document.createElement('div');\n",
              "          docLink.innerHTML = docLinkHtml;\n",
              "          element.appendChild(docLink);\n",
              "        }\n",
              "      </script>\n",
              "    </div>\n",
              "  </div>\n",
              "  "
            ]
          },
          "metadata": {},
          "execution_count": 46
        }
      ],
      "source": [
        "def remove_character(data, cols, characters):\n",
        "    \"\"\"simple function to remove characters\"\"\"\n",
        "    # loop through the columns\n",
        "    for col in cols:\n",
        "        data[col] = data[col].str.strip(characters)\n",
        "\n",
        "    return data.head()\n",
        "\n",
        "remove_character(students, ['Creative Arts', 'music'], '%')"
      ]
    },
    {
      "cell_type": "markdown",
      "metadata": {
        "id": "aWoCr7WI6MzD"
      },
      "source": [
        "Even after removing the ```%``` sign, we still have to \"explain\" to the computer that this are actually numbers and not characters. \n",
        "\n",
        "🤔 **Thinking out Loud** - We can't convert missing value to numeric, can we?"
      ]
    },
    {
      "cell_type": "code",
      "execution_count": null,
      "metadata": {
        "id": "n-TlFIMO6MzE",
        "outputId": "6e0f5cf5-b96a-4692-e90c-0752e0f36ed4",
        "colab": {
          "base_uri": "https://localhost:8080/"
        }
      },
      "outputs": [
        {
          "output_type": "execute_result",
          "data": {
            "text/plain": [
              "names                object\n",
              "admission number    float64\n",
              "balance              object\n",
              "english             float64\n",
              "kiswahili           float64\n",
              "mathematics         float64\n",
              "science             float64\n",
              "sst/cre             float64\n",
              "Creative Arts        object\n",
              "music                object\n",
              "dtype: object"
            ]
          },
          "metadata": {},
          "execution_count": 47
        }
      ],
      "source": [
        "# data types\n",
        "students.dtypes"
      ]
    },
    {
      "cell_type": "code",
      "execution_count": null,
      "metadata": {
        "id": "VPXTxrZg6MzE",
        "outputId": "ee6156d0-11ee-4b50-c586-97a085e62b46",
        "colab": {
          "base_uri": "https://localhost:8080/",
          "height": 207
        }
      },
      "outputs": [
        {
          "output_type": "execute_result",
          "data": {
            "text/plain": [
              "                   names  admission number balance  english  kiswahili  \\\n",
              "0    JERIEL NDEDA, OBURA           13259.0       0     81.0       39.0   \n",
              "1  MUKUHA TIMOTHY, KAMAU           13243.0       0     85.0       74.0   \n",
              "2             JOB, NGARA           13307.0       0     54.0       49.0   \n",
              "3     CHEGE DAVID, KAMAU           13258.0       0     71.0       97.0   \n",
              "4    RAMADHAN MUSA, TEPO           13363.0       0     40.0       84.0   \n",
              "\n",
              "   mathematics  science  sst/cre Creative Arts music  \n",
              "0         50.0     30.0     59.0            99    80  \n",
              "1         68.0     49.0     78.0            38    86  \n",
              "2         53.0     59.0     72.0            86    62  \n",
              "3         92.0     41.0     81.0            77    80  \n",
              "4         74.0     82.0     89.0            64    46  "
            ],
            "text/html": [
              "\n",
              "  <div id=\"df-cf20310a-649b-4c27-8bb8-0dc881502c3f\">\n",
              "    <div class=\"colab-df-container\">\n",
              "      <div>\n",
              "<style scoped>\n",
              "    .dataframe tbody tr th:only-of-type {\n",
              "        vertical-align: middle;\n",
              "    }\n",
              "\n",
              "    .dataframe tbody tr th {\n",
              "        vertical-align: top;\n",
              "    }\n",
              "\n",
              "    .dataframe thead th {\n",
              "        text-align: right;\n",
              "    }\n",
              "</style>\n",
              "<table border=\"1\" class=\"dataframe\">\n",
              "  <thead>\n",
              "    <tr style=\"text-align: right;\">\n",
              "      <th></th>\n",
              "      <th>names</th>\n",
              "      <th>admission number</th>\n",
              "      <th>balance</th>\n",
              "      <th>english</th>\n",
              "      <th>kiswahili</th>\n",
              "      <th>mathematics</th>\n",
              "      <th>science</th>\n",
              "      <th>sst/cre</th>\n",
              "      <th>Creative Arts</th>\n",
              "      <th>music</th>\n",
              "    </tr>\n",
              "  </thead>\n",
              "  <tbody>\n",
              "    <tr>\n",
              "      <th>0</th>\n",
              "      <td>JERIEL NDEDA, OBURA</td>\n",
              "      <td>13259.0</td>\n",
              "      <td>0</td>\n",
              "      <td>81.0</td>\n",
              "      <td>39.0</td>\n",
              "      <td>50.0</td>\n",
              "      <td>30.0</td>\n",
              "      <td>59.0</td>\n",
              "      <td>99</td>\n",
              "      <td>80</td>\n",
              "    </tr>\n",
              "    <tr>\n",
              "      <th>1</th>\n",
              "      <td>MUKUHA TIMOTHY, KAMAU</td>\n",
              "      <td>13243.0</td>\n",
              "      <td>0</td>\n",
              "      <td>85.0</td>\n",
              "      <td>74.0</td>\n",
              "      <td>68.0</td>\n",
              "      <td>49.0</td>\n",
              "      <td>78.0</td>\n",
              "      <td>38</td>\n",
              "      <td>86</td>\n",
              "    </tr>\n",
              "    <tr>\n",
              "      <th>2</th>\n",
              "      <td>JOB, NGARA</td>\n",
              "      <td>13307.0</td>\n",
              "      <td>0</td>\n",
              "      <td>54.0</td>\n",
              "      <td>49.0</td>\n",
              "      <td>53.0</td>\n",
              "      <td>59.0</td>\n",
              "      <td>72.0</td>\n",
              "      <td>86</td>\n",
              "      <td>62</td>\n",
              "    </tr>\n",
              "    <tr>\n",
              "      <th>3</th>\n",
              "      <td>CHEGE DAVID, KAMAU</td>\n",
              "      <td>13258.0</td>\n",
              "      <td>0</td>\n",
              "      <td>71.0</td>\n",
              "      <td>97.0</td>\n",
              "      <td>92.0</td>\n",
              "      <td>41.0</td>\n",
              "      <td>81.0</td>\n",
              "      <td>77</td>\n",
              "      <td>80</td>\n",
              "    </tr>\n",
              "    <tr>\n",
              "      <th>4</th>\n",
              "      <td>RAMADHAN MUSA, TEPO</td>\n",
              "      <td>13363.0</td>\n",
              "      <td>0</td>\n",
              "      <td>40.0</td>\n",
              "      <td>84.0</td>\n",
              "      <td>74.0</td>\n",
              "      <td>82.0</td>\n",
              "      <td>89.0</td>\n",
              "      <td>64</td>\n",
              "      <td>46</td>\n",
              "    </tr>\n",
              "  </tbody>\n",
              "</table>\n",
              "</div>\n",
              "      <button class=\"colab-df-convert\" onclick=\"convertToInteractive('df-cf20310a-649b-4c27-8bb8-0dc881502c3f')\"\n",
              "              title=\"Convert this dataframe to an interactive table.\"\n",
              "              style=\"display:none;\">\n",
              "        \n",
              "  <svg xmlns=\"http://www.w3.org/2000/svg\" height=\"24px\"viewBox=\"0 0 24 24\"\n",
              "       width=\"24px\">\n",
              "    <path d=\"M0 0h24v24H0V0z\" fill=\"none\"/>\n",
              "    <path d=\"M18.56 5.44l.94 2.06.94-2.06 2.06-.94-2.06-.94-.94-2.06-.94 2.06-2.06.94zm-11 1L8.5 8.5l.94-2.06 2.06-.94-2.06-.94L8.5 2.5l-.94 2.06-2.06.94zm10 10l.94 2.06.94-2.06 2.06-.94-2.06-.94-.94-2.06-.94 2.06-2.06.94z\"/><path d=\"M17.41 7.96l-1.37-1.37c-.4-.4-.92-.59-1.43-.59-.52 0-1.04.2-1.43.59L10.3 9.45l-7.72 7.72c-.78.78-.78 2.05 0 2.83L4 21.41c.39.39.9.59 1.41.59.51 0 1.02-.2 1.41-.59l7.78-7.78 2.81-2.81c.8-.78.8-2.07 0-2.86zM5.41 20L4 18.59l7.72-7.72 1.47 1.35L5.41 20z\"/>\n",
              "  </svg>\n",
              "      </button>\n",
              "      \n",
              "  <style>\n",
              "    .colab-df-container {\n",
              "      display:flex;\n",
              "      flex-wrap:wrap;\n",
              "      gap: 12px;\n",
              "    }\n",
              "\n",
              "    .colab-df-convert {\n",
              "      background-color: #E8F0FE;\n",
              "      border: none;\n",
              "      border-radius: 50%;\n",
              "      cursor: pointer;\n",
              "      display: none;\n",
              "      fill: #1967D2;\n",
              "      height: 32px;\n",
              "      padding: 0 0 0 0;\n",
              "      width: 32px;\n",
              "    }\n",
              "\n",
              "    .colab-df-convert:hover {\n",
              "      background-color: #E2EBFA;\n",
              "      box-shadow: 0px 1px 2px rgba(60, 64, 67, 0.3), 0px 1px 3px 1px rgba(60, 64, 67, 0.15);\n",
              "      fill: #174EA6;\n",
              "    }\n",
              "\n",
              "    [theme=dark] .colab-df-convert {\n",
              "      background-color: #3B4455;\n",
              "      fill: #D2E3FC;\n",
              "    }\n",
              "\n",
              "    [theme=dark] .colab-df-convert:hover {\n",
              "      background-color: #434B5C;\n",
              "      box-shadow: 0px 1px 3px 1px rgba(0, 0, 0, 0.15);\n",
              "      filter: drop-shadow(0px 1px 2px rgba(0, 0, 0, 0.3));\n",
              "      fill: #FFFFFF;\n",
              "    }\n",
              "  </style>\n",
              "\n",
              "      <script>\n",
              "        const buttonEl =\n",
              "          document.querySelector('#df-cf20310a-649b-4c27-8bb8-0dc881502c3f button.colab-df-convert');\n",
              "        buttonEl.style.display =\n",
              "          google.colab.kernel.accessAllowed ? 'block' : 'none';\n",
              "\n",
              "        async function convertToInteractive(key) {\n",
              "          const element = document.querySelector('#df-cf20310a-649b-4c27-8bb8-0dc881502c3f');\n",
              "          const dataTable =\n",
              "            await google.colab.kernel.invokeFunction('convertToInteractive',\n",
              "                                                     [key], {});\n",
              "          if (!dataTable) return;\n",
              "\n",
              "          const docLinkHtml = 'Like what you see? Visit the ' +\n",
              "            '<a target=\"_blank\" href=https://colab.research.google.com/notebooks/data_table.ipynb>data table notebook</a>'\n",
              "            + ' to learn more about interactive tables.';\n",
              "          element.innerHTML = '';\n",
              "          dataTable['output_type'] = 'display_data';\n",
              "          await google.colab.output.renderOutput(dataTable, element);\n",
              "          const docLink = document.createElement('div');\n",
              "          docLink.innerHTML = docLinkHtml;\n",
              "          element.appendChild(docLink);\n",
              "        }\n",
              "      </script>\n",
              "    </div>\n",
              "  </div>\n",
              "  "
            ]
          },
          "metadata": {},
          "execution_count": 50
        }
      ],
      "source": [
        "# remove the & sign \n",
        "remove_character(students, ['Creative Arts', 'music'], '&')"
      ]
    },
    {
      "cell_type": "code",
      "execution_count": null,
      "metadata": {
        "id": "DdG27f3x6MzF",
        "outputId": "7366f9e6-45ed-47ba-d414-ec6708ac323a",
        "colab": {
          "base_uri": "https://localhost:8080/"
        }
      },
      "outputs": [
        {
          "output_type": "execute_result",
          "data": {
            "text/plain": [
              "names                object\n",
              "admission number    float64\n",
              "balance              object\n",
              "english             float64\n",
              "kiswahili           float64\n",
              "mathematics         float64\n",
              "science             float64\n",
              "sst/cre             float64\n",
              "Creative Arts         int32\n",
              "music                 int32\n",
              "dtype: object"
            ]
          },
          "metadata": {},
          "execution_count": 51
        }
      ],
      "source": [
        "# change data types\n",
        "def change_data_type(data, cols, type):\n",
        "    \"\"\"Simple function to change columns data type\"\"\"\n",
        "    for col in cols:\n",
        "        data[col] = data[col].astype(type)\n",
        "\n",
        "    # confirm the data types\n",
        "    out = data.dtypes\n",
        "\n",
        "    return out\n",
        "\n",
        "\n",
        "change_data_type(students, [\"Creative Arts\", \"music\"], 'int32')\n"
      ]
    },
    {
      "cell_type": "markdown",
      "metadata": {
        "id": "A-X9YZKM6MzF"
      },
      "source": [
        "When dealing with numbers, especially money, we are most likely to add the ```,``` to show thousands, millions etc. In the event we have such data, like in this case the column **balance**, the computer is going to categorize ```14,000``` as a string and not a number."
      ]
    },
    {
      "cell_type": "code",
      "execution_count": null,
      "metadata": {
        "id": "BBO5IU8W6MzG"
      },
      "outputs": [],
      "source": [
        "# remove the , character from balance\n",
        "replace_data(students, \",\", \"\", \"balance\", True)"
      ]
    },
    {
      "cell_type": "markdown",
      "metadata": {
        "id": "dUbLGzFl6MzG"
      },
      "source": [
        "📝 **Note** - Setting regex as ```True``` since the value we are replacing is a string."
      ]
    },
    {
      "cell_type": "code",
      "execution_count": null,
      "metadata": {
        "id": "jTOkY9of6MzG",
        "outputId": "9d0f4bd0-9883-4fac-b937-7c13dad49d03",
        "colab": {
          "base_uri": "https://localhost:8080/"
        }
      },
      "outputs": [
        {
          "output_type": "execute_result",
          "data": {
            "text/plain": [
              "names                object\n",
              "admission number    float64\n",
              "balance             float64\n",
              "english             float64\n",
              "kiswahili           float64\n",
              "mathematics         float64\n",
              "science             float64\n",
              "sst/cre             float64\n",
              "Creative Arts         int32\n",
              "music                 int32\n",
              "dtype: object"
            ]
          },
          "metadata": {},
          "execution_count": 53
        }
      ],
      "source": [
        "# change column balance to numeric\n",
        "change_data_type(students, [\"balance\"], 'float')"
      ]
    },
    {
      "cell_type": "markdown",
      "metadata": {
        "id": "q_zNV0PW6MzH"
      },
      "source": [
        "### Outliers\n",
        "\n",
        "Outliers are extreme data points that vary immensely from the other points. They are the hardest to detect among other data inaccuracies within the data in the sense that they are often of the same type as the other observations. Therefore, it is important to understand that just because they exist, doesn’t mean they are incorrect and as such, there should be a valid reason to remove these data points.\n",
        "\n",
        "Because of the data that we have we are going to use \"unconventional\" techniques to handle this outliers.\n",
        "\n",
        "```Z-score``` and ```IQR``` are common techniques used for identifying and removing outliers.\n",
        "\n",
        "📝 _Just because they exist, doesn't mean they are wrong_.\n"
      ]
    },
    {
      "cell_type": "code",
      "execution_count": null,
      "metadata": {
        "id": "Gb5QvkBl6MzH",
        "outputId": "c8d2a447-999e-4bcb-ed65-6641a27a0d43",
        "colab": {
          "base_uri": "https://localhost:8080/"
        }
      },
      "outputs": [
        {
          "output_type": "execute_result",
          "data": {
            "text/plain": [
              "[-78.0, 508.0, 780.0, 409.0, 420.0, 680.0]"
            ]
          },
          "metadata": {},
          "execution_count": 54
        }
      ],
      "source": [
        "def identify_extreme_score(data, columns):\n",
        "    \"\"\"Check if there are values greater than 100 and less than 0\"\"\"\n",
        "    # empty list to store extreme points \n",
        "    extreme_score = []\n",
        "    # loop through the columns\n",
        "    for col in columns:\n",
        "        # loop through column values\n",
        "        for val in data[col]:\n",
        "            # scores should be between 0 and 100 \n",
        "            if (val > 100) or (val < 0):\n",
        "                extreme_score.append(val)\n",
        "\n",
        "    return extreme_score\n",
        "\n",
        "scores_columns = ['english', 'kiswahili', 'mathematics', 'science', 'sst/cre', 'Creative Arts', 'music']\n",
        "identify_extreme_score(students, scores_columns)"
      ]
    },
    {
      "cell_type": "code",
      "execution_count": null,
      "metadata": {
        "id": "YsCzl-Jg6MzI",
        "outputId": "d04d1dbc-b88b-4fda-c501-4aa27e4af341",
        "colab": {
          "base_uri": "https://localhost:8080/",
          "height": 296
        }
      },
      "outputs": [
        {
          "output_type": "execute_result",
          "data": {
            "text/plain": [
              "<matplotlib.axes._subplots.AxesSubplot at 0x7fcca455d7c0>"
            ]
          },
          "metadata": {},
          "execution_count": 55
        },
        {
          "output_type": "display_data",
          "data": {
            "text/plain": [
              "<Figure size 432x288 with 1 Axes>"
            ],
            "image/png": "[encoded data removed]"
          },
          "metadata": {
            "needs_background": "light"
          }
        }
      ],
      "source": [
        "# we can also use a box plot to identify outliers\n",
        "\n",
        "sns.boxplot(data=students, x=\"mathematics\")"
      ]
    },
    {
      "cell_type": "code",
      "execution_count": null,
      "metadata": {
        "id": "C7Wn0wuG6MzI",
        "outputId": "7231f37e-b132-47f9-bdc6-7d2bc0105073",
        "colab": {
          "base_uri": "https://localhost:8080/"
        }
      },
      "outputs": [
        {
          "output_type": "execute_result",
          "data": {
            "text/plain": [
              "[420.0]"
            ]
          },
          "metadata": {},
          "execution_count": 56
        }
      ],
      "source": [
        "# using IQR\n",
        "def IQR_outliers(data, column):\n",
        "    \"\"\"Simple function to identify and remove outliers using IQR\"\"\"\n",
        "    # get Q1 and Q2\n",
        "    Q1 = data[column].quantile(0.25)\n",
        "    Q3 = data[column].quantile(0.75)\n",
        "    # calculate IQR\n",
        "    IQR = Q3-Q1\n",
        "    # identify ouliers (returns True if an outlier)\n",
        "    out = ((data[column]<(Q1-1.5*IQR)) | (data[column]>(Q3+1.5*IQR)))\n",
        "\n",
        "    # identify the outlier using index\n",
        "    outliers_list = list(out[out==True].index)\n",
        "    # identify the actual outliers using index\n",
        "    outliers = []\n",
        "    for val in outliers_list:\n",
        "        outliers.append(data[column][val])\n",
        "\n",
        "    \n",
        "    return outliers, Q1, Q3, IQR\n",
        "\n",
        "\n",
        "maths_outliers = IQR_outliers(students, \"mathematics\")\n",
        "maths_outliers[0]"
      ]
    },
    {
      "cell_type": "code",
      "execution_count": null,
      "metadata": {
        "id": "To252ZgF6MzJ"
      },
      "outputs": [],
      "source": [
        "# remove the outlier\n",
        "def IQR_remove_outliers(data, column):\n",
        "    \"\"\"Simple function to remove the ouliers\"\"\"\n",
        "    # get values from previous function \n",
        "    identify = IQR_outliers(data, column)\n",
        "    Q1 = identify[1]\n",
        "    Q3 = identify[2]\n",
        "    IQR = identify[3]\n",
        "    # remove the outliers\n",
        "    df = data[~((data[column]<(Q1-1.5*IQR)) | (data[column]>(Q3+1.5*IQR)))]\n",
        "\n",
        "    return df\n",
        "\n",
        "students_data = IQR_remove_outliers(students, \"mathematics\")"
      ]
    },
    {
      "cell_type": "code",
      "execution_count": null,
      "metadata": {
        "id": "C9wco38j6MzJ",
        "outputId": "cb1c3ed8-9170-4ef8-a6d9-8f888410c00c",
        "colab": {
          "base_uri": "https://localhost:8080/",
          "height": 296
        }
      },
      "outputs": [
        {
          "output_type": "execute_result",
          "data": {
            "text/plain": [
              "<matplotlib.axes._subplots.AxesSubplot at 0x7fcca41919d0>"
            ]
          },
          "metadata": {},
          "execution_count": 58
        },
        {
          "output_type": "display_data",
          "data": {
            "text/plain": [
              "<Figure size 432x288 with 1 Axes>"
            ],
            "image/png": "[encoded data removed]"
          },
          "metadata": {
            "needs_background": "light"
          }
        }
      ],
      "source": [
        "# confirm using a box plot\n",
        "\n",
        "sns.boxplot(data=students_data, x=\"mathematics\")"
      ]
    },
    {
      "cell_type": "code",
      "execution_count": null,
      "metadata": {
        "id": "LW1bZRXR6MzK",
        "outputId": "cf4654ef-cb35-47cb-f0e5-36f2735beee3",
        "colab": {
          "base_uri": "https://localhost:8080/"
        }
      },
      "outputs": [
        {
          "output_type": "execute_result",
          "data": {
            "text/plain": [
              "[{'mean': 72.7022977022977,\n",
              "  'iqr': 24.5,\n",
              "  'cilo': 69.96777237554915,\n",
              "  'cihi': 78.03222762445085,\n",
              "  'whishi': 100.0,\n",
              "  'whislo': 32.0,\n",
              "  'fliers': array([], dtype=float64),\n",
              "  'q1': 61.5,\n",
              "  'med': 74.0,\n",
              "  'q3': 86.0}]"
            ]
          },
          "metadata": {},
          "execution_count": 59
        }
      ],
      "source": [
        "# what is happening\n",
        "from matplotlib.cbook import boxplot_stats\n",
        "\n",
        "stat = boxplot_stats(students_data[\"mathematics\"])\n",
        "stat"
      ]
    },
    {
      "cell_type": "markdown",
      "metadata": {
        "id": "_1S8X9D66MzK"
      },
      "source": [
        "The value of the outlier is ```420.0``` which is above the maximum limit shown in the boxplot ```(whishi = 100.0)```. We do not have ant outlier below minimum limit ```(whislo = 32)```."
      ]
    },
    {
      "cell_type": "code",
      "execution_count": null,
      "metadata": {
        "id": "DsRDs4EN6MzK",
        "outputId": "31520805-3014-469f-fd22-4f949704bc99",
        "colab": {
          "base_uri": "https://localhost:8080/",
          "height": 296
        }
      },
      "outputs": [
        {
          "output_type": "execute_result",
          "data": {
            "text/plain": [
              "<matplotlib.axes._subplots.AxesSubplot at 0x7fcca3cb7a90>"
            ]
          },
          "metadata": {},
          "execution_count": 60
        },
        {
          "output_type": "display_data",
          "data": {
            "text/plain": [
              "<Figure size 432x288 with 1 Axes>"
            ],
            "image/png": "[encoded data removed]"
          },
          "metadata": {
            "needs_background": "light"
          }
        }
      ],
      "source": [
        "# check for outlier using boxplot\n",
        "sns.boxplot(data=students_data, x=\"science\")"
      ]
    },
    {
      "cell_type": "code",
      "execution_count": null,
      "metadata": {
        "id": "9h9F3aHQ6MzK",
        "outputId": "ad9d838b-200d-4f9b-bfe1-47f18d0c94f0",
        "colab": {
          "base_uri": "https://localhost:8080/"
        }
      },
      "outputs": [
        {
          "output_type": "execute_result",
          "data": {
            "text/plain": [
              "[680.0]"
            ]
          },
          "metadata": {},
          "execution_count": 61
        }
      ],
      "source": [
        "# science outlier\n",
        "science_outliers = IQR_outliers(students_data, \"science\")\n",
        "science_outliers[0]"
      ]
    },
    {
      "cell_type": "code",
      "execution_count": null,
      "metadata": {
        "id": "8VMjqM126MzL"
      },
      "outputs": [],
      "source": [
        "students_data = IQR_remove_outliers(students_data, \"science\")"
      ]
    },
    {
      "cell_type": "code",
      "execution_count": null,
      "metadata": {
        "id": "CQ24FQxk6MzL",
        "outputId": "ae6b14d5-7bd0-4a33-cb66-f3a6040d1c44",
        "colab": {
          "base_uri": "https://localhost:8080/",
          "height": 296
        }
      },
      "outputs": [
        {
          "output_type": "execute_result",
          "data": {
            "text/plain": [
              "<matplotlib.axes._subplots.AxesSubplot at 0x7fcca3c8bac0>"
            ]
          },
          "metadata": {},
          "execution_count": 63
        },
        {
          "output_type": "display_data",
          "data": {
            "text/plain": [
              "<Figure size 432x288 with 1 Axes>"
            ],
            "image/png": "[encoded data removed]"
          },
          "metadata": {
            "needs_background": "light"
          }
        }
      ],
      "source": [
        "# confirm outlier been removed using boxplot\n",
        "sns.boxplot(data=students_data, x=\"science\")"
      ]
    },
    {
      "cell_type": "markdown",
      "metadata": {
        "id": "1LsVIji76MzL"
      },
      "source": [
        "Don't get tired, remember ouliers are not different from the other data points, they are just extreme, which in such a case, student scores, its not possible to have a score of more than 100% or less than 0%."
      ]
    },
    {
      "cell_type": "code",
      "execution_count": null,
      "metadata": {
        "id": "_Tngb9Db6MzL",
        "outputId": "9b124af4-00ac-48cc-cd11-221e120bb55c",
        "colab": {
          "base_uri": "https://localhost:8080/",
          "height": 296
        }
      },
      "outputs": [
        {
          "output_type": "execute_result",
          "data": {
            "text/plain": [
              "<matplotlib.axes._subplots.AxesSubplot at 0x7fcca3c60be0>"
            ]
          },
          "metadata": {},
          "execution_count": 64
        },
        {
          "output_type": "display_data",
          "data": {
            "text/plain": [
              "<Figure size 432x288 with 1 Axes>"
            ],
            "image/png": "[encoded data removed]"
          },
          "metadata": {
            "needs_background": "light"
          }
        }
      ],
      "source": [
        "# check for outlier using boxplot\n",
        "sns.boxplot(data=students_data, x=\"english\")"
      ]
    },
    {
      "cell_type": "code",
      "execution_count": null,
      "metadata": {
        "id": "G-_aiHMq6MzM",
        "outputId": "f7eaf51f-3978-4c29-acf5-815eb3ff816d",
        "colab": {
          "base_uri": "https://localhost:8080/"
        }
      },
      "outputs": [
        {
          "output_type": "execute_result",
          "data": {
            "text/plain": [
              "[-78.0, 508.0]"
            ]
          },
          "metadata": {},
          "execution_count": 65
        }
      ],
      "source": [
        "# english outlier\n",
        "english_outliers = IQR_outliers(students_data, \"english\")\n",
        "english_outliers[0]"
      ]
    },
    {
      "cell_type": "code",
      "execution_count": null,
      "metadata": {
        "id": "4NvIfNHP6MzM"
      },
      "outputs": [],
      "source": [
        "students_data = IQR_remove_outliers(students_data, \"english\")"
      ]
    },
    {
      "cell_type": "code",
      "execution_count": null,
      "metadata": {
        "id": "TgMArxge6MzM",
        "outputId": "432dbdb3-1688-4a91-a279-57cc30ec53d5",
        "colab": {
          "base_uri": "https://localhost:8080/",
          "height": 296
        }
      },
      "outputs": [
        {
          "output_type": "execute_result",
          "data": {
            "text/plain": [
              "<matplotlib.axes._subplots.AxesSubplot at 0x7fcca3bcb940>"
            ]
          },
          "metadata": {},
          "execution_count": 67
        },
        {
          "output_type": "display_data",
          "data": {
            "text/plain": [
              "<Figure size 432x288 with 1 Axes>"
            ],
            "image/png": "[encoded data removed]"
          },
          "metadata": {
            "needs_background": "light"
          }
        }
      ],
      "source": [
        "# confirm outlier been removed using boxplot\n",
        "sns.boxplot(data=students_data, x=\"english\")"
      ]
    },
    {
      "cell_type": "code",
      "execution_count": null,
      "metadata": {
        "id": "6b8MhjWY6MzM",
        "outputId": "27c566a1-e064-47ca-c07d-de441039875b",
        "colab": {
          "base_uri": "https://localhost:8080/",
          "height": 296
        }
      },
      "outputs": [
        {
          "output_type": "execute_result",
          "data": {
            "text/plain": [
              "<matplotlib.axes._subplots.AxesSubplot at 0x7fcca3b30e20>"
            ]
          },
          "metadata": {},
          "execution_count": 68
        },
        {
          "output_type": "display_data",
          "data": {
            "text/plain": [
              "<Figure size 432x288 with 1 Axes>"
            ],
            "image/png": "[encoded data removed]"
          },
          "metadata": {
            "needs_background": "light"
          }
        }
      ],
      "source": [
        "# check for outlier using boxplot\n",
        "sns.boxplot(data=students_data, x=\"kiswahili\")"
      ]
    },
    {
      "cell_type": "markdown",
      "metadata": {
        "id": "q83XBRuJ6MzN"
      },
      "source": [
        "There are no outliers in the **Kiwahili** column, _wangwana hawa_."
      ]
    },
    {
      "cell_type": "code",
      "execution_count": null,
      "metadata": {
        "id": "IVaZKhVp6MzN",
        "outputId": "951ea306-449f-41cf-de5e-5a3f7dce9248",
        "colab": {
          "base_uri": "https://localhost:8080/",
          "height": 296
        }
      },
      "outputs": [
        {
          "output_type": "execute_result",
          "data": {
            "text/plain": [
              "<matplotlib.axes._subplots.AxesSubplot at 0x7fcca3b0ce20>"
            ]
          },
          "metadata": {},
          "execution_count": 69
        },
        {
          "output_type": "display_data",
          "data": {
            "text/plain": [
              "<Figure size 432x288 with 1 Axes>"
            ],
            "image/png": "[encoded data removed]"
          },
          "metadata": {
            "needs_background": "light"
          }
        }
      ],
      "source": [
        "# check for outlier using boxplot\n",
        "sns.boxplot(data=students_data, x=\"sst/cre\")"
      ]
    },
    {
      "cell_type": "markdown",
      "metadata": {
        "id": "3zx32Ult6MzN"
      },
      "source": [
        "There are no outliers in the **sst/cre**, seems they used the correct coordinates 😜!"
      ]
    },
    {
      "cell_type": "code",
      "execution_count": null,
      "metadata": {
        "id": "bSpeQX0N6MzN",
        "outputId": "52fff4cc-55e5-4ba9-f304-26d02cd68a59",
        "colab": {
          "base_uri": "https://localhost:8080/",
          "height": 296
        }
      },
      "outputs": [
        {
          "output_type": "execute_result",
          "data": {
            "text/plain": [
              "<matplotlib.axes._subplots.AxesSubplot at 0x7fcca3ad3400>"
            ]
          },
          "metadata": {},
          "execution_count": 70
        },
        {
          "output_type": "display_data",
          "data": {
            "text/plain": [
              "<Figure size 432x288 with 1 Axes>"
            ],
            "image/png": "[encoded data removed]"
          },
          "metadata": {
            "needs_background": "light"
          }
        }
      ],
      "source": [
        "\n",
        "# check for outlier using boxplot\n",
        "sns.boxplot(data=students_data, x=\"Creative Arts\")"
      ]
    },
    {
      "cell_type": "code",
      "execution_count": null,
      "metadata": {
        "id": "6JD1zJ7N6MzN",
        "outputId": "329e2e30-3e37-4142-8e4a-9a014eb0edc1",
        "colab": {
          "base_uri": "https://localhost:8080/",
          "height": 296
        }
      },
      "outputs": [
        {
          "output_type": "execute_result",
          "data": {
            "text/plain": [
              "<matplotlib.axes._subplots.AxesSubplot at 0x7fcca3a48910>"
            ]
          },
          "metadata": {},
          "execution_count": 71
        },
        {
          "output_type": "display_data",
          "data": {
            "text/plain": [
              "<Figure size 432x288 with 1 Axes>"
            ],
            "image/png": "[encoded data removed]"
          },
          "metadata": {
            "needs_background": "light"
          }
        }
      ],
      "source": [
        "# check for outlier using boxplot\n",
        "sns.boxplot(data=students_data, x=\"music\")"
      ]
    },
    {
      "cell_type": "code",
      "execution_count": null,
      "metadata": {
        "id": "xnspP1Ul6MzO",
        "outputId": "1ef36ce1-d210-4595-ddc3-1fe4b7278c7a",
        "colab": {
          "base_uri": "https://localhost:8080/",
          "height": 296
        }
      },
      "outputs": [
        {
          "output_type": "execute_result",
          "data": {
            "text/plain": [
              "<matplotlib.axes._subplots.AxesSubplot at 0x7fcca39aa640>"
            ]
          },
          "metadata": {},
          "execution_count": 72
        },
        {
          "output_type": "display_data",
          "data": {
            "text/plain": [
              "<Figure size 432x288 with 1 Axes>"
            ],
            "image/png": "[encoded data removed]"
          },
          "metadata": {
            "needs_background": "light"
          }
        }
      ],
      "source": [
        "# check for outlier using boxplot\n",
        "sns.boxplot(data=students_data, x=\"admission number\")"
      ]
    },
    {
      "cell_type": "code",
      "execution_count": null,
      "metadata": {
        "id": "xaIdst7z6MzO",
        "outputId": "b6eaf341-2470-4a84-bcd1-0a6a77e3b33e",
        "colab": {
          "base_uri": "https://localhost:8080/"
        }
      },
      "outputs": [
        {
          "output_type": "execute_result",
          "data": {
            "text/plain": [
              "[1430232.0]"
            ]
          },
          "metadata": {},
          "execution_count": 73
        }
      ],
      "source": [
        "# admission number outlier\n",
        "admin_outliers = IQR_outliers(students_data, \"admission number\")\n",
        "admin_outliers[0]"
      ]
    },
    {
      "cell_type": "code",
      "execution_count": null,
      "metadata": {
        "id": "7lMrQomI6MzO"
      },
      "outputs": [],
      "source": [
        "students_data = IQR_remove_outliers(students_data, \"admission number\")"
      ]
    },
    {
      "cell_type": "code",
      "execution_count": null,
      "metadata": {
        "id": "BoshXlNG6MzO",
        "outputId": "b143eed6-e87b-42e8-ce97-789f8580c5be",
        "colab": {
          "base_uri": "https://localhost:8080/",
          "height": 296
        }
      },
      "outputs": [
        {
          "output_type": "execute_result",
          "data": {
            "text/plain": [
              "<matplotlib.axes._subplots.AxesSubplot at 0x7fcca3987f40>"
            ]
          },
          "metadata": {},
          "execution_count": 75
        },
        {
          "output_type": "display_data",
          "data": {
            "text/plain": [
              "<Figure size 432x288 with 1 Axes>"
            ],
            "image/png": "[encoded data removed]"
          },
          "metadata": {
            "needs_background": "light"
          }
        }
      ],
      "source": [
        "# confirm outlier been removed using boxplot\n",
        "sns.boxplot(data=students_data, x=\"admission number\")"
      ]
    },
    {
      "cell_type": "code",
      "execution_count": null,
      "metadata": {
        "id": "9jxpzsnq6MzP",
        "outputId": "8303dda3-19bb-42ed-dd85-80c316d167cd",
        "colab": {
          "base_uri": "https://localhost:8080/",
          "height": 296
        }
      },
      "outputs": [
        {
          "output_type": "execute_result",
          "data": {
            "text/plain": [
              "<matplotlib.axes._subplots.AxesSubplot at 0x7fcca39605b0>"
            ]
          },
          "metadata": {},
          "execution_count": 76
        },
        {
          "output_type": "display_data",
          "data": {
            "text/plain": [
              "<Figure size 432x288 with 1 Axes>"
            ],
            "image/png": "[encoded data removed]"
          },
          "metadata": {
            "needs_background": "light"
          }
        }
      ],
      "source": [
        "# check for outlier using boxplot\n",
        "sns.boxplot(data=students_data, x=\"balance\")"
      ]
    },
    {
      "cell_type": "code",
      "execution_count": null,
      "metadata": {
        "id": "AdNyWSrv6MzP",
        "outputId": "ae6814be-0c07-4f9e-c90c-a5609edc5cbf",
        "colab": {
          "base_uri": "https://localhost:8080/"
        }
      },
      "outputs": [
        {
          "output_type": "execute_result",
          "data": {
            "text/plain": [
              "[36466.0,\n",
              " 38000.0,\n",
              " 43554.0,\n",
              " 53963.0,\n",
              " 48656.0,\n",
              " 48028.0,\n",
              " 45685.0,\n",
              " 36713.0,\n",
              " 42760.0]"
            ]
          },
          "metadata": {},
          "execution_count": 77
        }
      ],
      "source": [
        "# balance outlier\n",
        "balance_outliers = IQR_outliers(students_data, \"balance\")\n",
        "balance_outliers[0]"
      ]
    },
    {
      "cell_type": "markdown",
      "metadata": {
        "id": "zxse_NQx6MzP"
      },
      "source": [
        "As much as the above balances are categorised as outliers, its practically possible to have such balances since they are not that extreme.\n",
        "\n",
        "Do you think we should remove them?"
      ]
    },
    {
      "cell_type": "markdown",
      "metadata": {
        "id": "gbInc3656MzP"
      },
      "source": [
        "What happens when the data is normally distributed?\n",
        "\n",
        "In this scenario, we can determine the quartile from mean and median.\n",
        "\n",
        "```Q1 = mean - 0.675 * stdev```\n",
        "```Q3 = mean + 0.675 * stdev```\n",
        "\n",
        "```Upper Limit = Q3 + 1.5 * IQR = mean + 2.7 * stdev```\n",
        "```Lower Limit = Q1 - 1.5 * IQR = mean - 2.7 * stdev```\n",
        "\n",
        "Alternatively, we can use the Z-score, preferably when the data is normally distributed."
      ]
    },
    {
      "cell_type": "markdown",
      "metadata": {
        "id": "FSglRgSz6MzQ"
      },
      "source": [
        "### Final Data"
      ]
    },
    {
      "cell_type": "code",
      "execution_count": null,
      "metadata": {
        "id": "srd4oGow6MzQ"
      },
      "outputs": [],
      "source": [
        "# reset the index\n",
        "students_data.reset_index(drop=True, inplace=True)"
      ]
    },
    {
      "cell_type": "code",
      "execution_count": null,
      "metadata": {
        "id": "ILUPeDab6MzQ",
        "outputId": "7d8918f3-9717-4624-8fec-c13876c5f6e7",
        "colab": {
          "base_uri": "https://localhost:8080/",
          "height": 207
        }
      },
      "outputs": [
        {
          "output_type": "execute_result",
          "data": {
            "text/plain": [
              "                   names  admission number  balance  english  kiswahili  \\\n",
              "0    JERIEL NDEDA, OBURA           13259.0      0.0     81.0       39.0   \n",
              "1  MUKUHA TIMOTHY, KAMAU           13243.0      0.0     85.0       74.0   \n",
              "2             JOB, NGARA           13307.0      0.0     54.0       49.0   \n",
              "3     CHEGE DAVID, KAMAU           13258.0      0.0     71.0       97.0   \n",
              "4    RAMADHAN MUSA, TEPO           13363.0      0.0     40.0       84.0   \n",
              "\n",
              "   mathematics  science  sst/cre  Creative Arts  music  \n",
              "0         50.0     30.0     59.0             99     80  \n",
              "1         68.0     49.0     78.0             38     86  \n",
              "2         53.0     59.0     72.0             86     62  \n",
              "3         92.0     41.0     81.0             77     80  \n",
              "4         74.0     82.0     89.0             64     46  "
            ],
            "text/html": [
              "\n",
              "  <div id=\"df-dfbc9ff9-a69d-4c9c-96d4-c795938a2492\">\n",
              "    <div class=\"colab-df-container\">\n",
              "      <div>\n",
              "<style scoped>\n",
              "    .dataframe tbody tr th:only-of-type {\n",
              "        vertical-align: middle;\n",
              "    }\n",
              "\n",
              "    .dataframe tbody tr th {\n",
              "        vertical-align: top;\n",
              "    }\n",
              "\n",
              "    .dataframe thead th {\n",
              "        text-align: right;\n",
              "    }\n",
              "</style>\n",
              "<table border=\"1\" class=\"dataframe\">\n",
              "  <thead>\n",
              "    <tr style=\"text-align: right;\">\n",
              "      <th></th>\n",
              "      <th>names</th>\n",
              "      <th>admission number</th>\n",
              "      <th>balance</th>\n",
              "      <th>english</th>\n",
              "      <th>kiswahili</th>\n",
              "      <th>mathematics</th>\n",
              "      <th>science</th>\n",
              "      <th>sst/cre</th>\n",
              "      <th>Creative Arts</th>\n",
              "      <th>music</th>\n",
              "    </tr>\n",
              "  </thead>\n",
              "  <tbody>\n",
              "    <tr>\n",
              "      <th>0</th>\n",
              "      <td>JERIEL NDEDA, OBURA</td>\n",
              "      <td>13259.0</td>\n",
              "      <td>0.0</td>\n",
              "      <td>81.0</td>\n",
              "      <td>39.0</td>\n",
              "      <td>50.0</td>\n",
              "      <td>30.0</td>\n",
              "      <td>59.0</td>\n",
              "      <td>99</td>\n",
              "      <td>80</td>\n",
              "    </tr>\n",
              "    <tr>\n",
              "      <th>1</th>\n",
              "      <td>MUKUHA TIMOTHY, KAMAU</td>\n",
              "      <td>13243.0</td>\n",
              "      <td>0.0</td>\n",
              "      <td>85.0</td>\n",
              "      <td>74.0</td>\n",
              "      <td>68.0</td>\n",
              "      <td>49.0</td>\n",
              "      <td>78.0</td>\n",
              "      <td>38</td>\n",
              "      <td>86</td>\n",
              "    </tr>\n",
              "    <tr>\n",
              "      <th>2</th>\n",
              "      <td>JOB, NGARA</td>\n",
              "      <td>13307.0</td>\n",
              "      <td>0.0</td>\n",
              "      <td>54.0</td>\n",
              "      <td>49.0</td>\n",
              "      <td>53.0</td>\n",
              "      <td>59.0</td>\n",
              "      <td>72.0</td>\n",
              "      <td>86</td>\n",
              "      <td>62</td>\n",
              "    </tr>\n",
              "    <tr>\n",
              "      <th>3</th>\n",
              "      <td>CHEGE DAVID, KAMAU</td>\n",
              "      <td>13258.0</td>\n",
              "      <td>0.0</td>\n",
              "      <td>71.0</td>\n",
              "      <td>97.0</td>\n",
              "      <td>92.0</td>\n",
              "      <td>41.0</td>\n",
              "      <td>81.0</td>\n",
              "      <td>77</td>\n",
              "      <td>80</td>\n",
              "    </tr>\n",
              "    <tr>\n",
              "      <th>4</th>\n",
              "      <td>RAMADHAN MUSA, TEPO</td>\n",
              "      <td>13363.0</td>\n",
              "      <td>0.0</td>\n",
              "      <td>40.0</td>\n",
              "      <td>84.0</td>\n",
              "      <td>74.0</td>\n",
              "      <td>82.0</td>\n",
              "      <td>89.0</td>\n",
              "      <td>64</td>\n",
              "      <td>46</td>\n",
              "    </tr>\n",
              "  </tbody>\n",
              "</table>\n",
              "</div>\n",
              "      <button class=\"colab-df-convert\" onclick=\"convertToInteractive('df-dfbc9ff9-a69d-4c9c-96d4-c795938a2492')\"\n",
              "              title=\"Convert this dataframe to an interactive table.\"\n",
              "              style=\"display:none;\">\n",
              "        \n",
              "  <svg xmlns=\"http://www.w3.org/2000/svg\" height=\"24px\"viewBox=\"0 0 24 24\"\n",
              "       width=\"24px\">\n",
              "    <path d=\"M0 0h24v24H0V0z\" fill=\"none\"/>\n",
              "    <path d=\"M18.56 5.44l.94 2.06.94-2.06 2.06-.94-2.06-.94-.94-2.06-.94 2.06-2.06.94zm-11 1L8.5 8.5l.94-2.06 2.06-.94-2.06-.94L8.5 2.5l-.94 2.06-2.06.94zm10 10l.94 2.06.94-2.06 2.06-.94-2.06-.94-.94-2.06-.94 2.06-2.06.94z\"/><path d=\"M17.41 7.96l-1.37-1.37c-.4-.4-.92-.59-1.43-.59-.52 0-1.04.2-1.43.59L10.3 9.45l-7.72 7.72c-.78.78-.78 2.05 0 2.83L4 21.41c.39.39.9.59 1.41.59.51 0 1.02-.2 1.41-.59l7.78-7.78 2.81-2.81c.8-.78.8-2.07 0-2.86zM5.41 20L4 18.59l7.72-7.72 1.47 1.35L5.41 20z\"/>\n",
              "  </svg>\n",
              "      </button>\n",
              "      \n",
              "  <style>\n",
              "    .colab-df-container {\n",
              "      display:flex;\n",
              "      flex-wrap:wrap;\n",
              "      gap: 12px;\n",
              "    }\n",
              "\n",
              "    .colab-df-convert {\n",
              "      background-color: #E8F0FE;\n",
              "      border: none;\n",
              "      border-radius: 50%;\n",
              "      cursor: pointer;\n",
              "      display: none;\n",
              "      fill: #1967D2;\n",
              "      height: 32px;\n",
              "      padding: 0 0 0 0;\n",
              "      width: 32px;\n",
              "    }\n",
              "\n",
              "    .colab-df-convert:hover {\n",
              "      background-color: #E2EBFA;\n",
              "      box-shadow: 0px 1px 2px rgba(60, 64, 67, 0.3), 0px 1px 3px 1px rgba(60, 64, 67, 0.15);\n",
              "      fill: #174EA6;\n",
              "    }\n",
              "\n",
              "    [theme=dark] .colab-df-convert {\n",
              "      background-color: #3B4455;\n",
              "      fill: #D2E3FC;\n",
              "    }\n",
              "\n",
              "    [theme=dark] .colab-df-convert:hover {\n",
              "      background-color: #434B5C;\n",
              "      box-shadow: 0px 1px 3px 1px rgba(0, 0, 0, 0.15);\n",
              "      filter: drop-shadow(0px 1px 2px rgba(0, 0, 0, 0.3));\n",
              "      fill: #FFFFFF;\n",
              "    }\n",
              "  </style>\n",
              "\n",
              "      <script>\n",
              "        const buttonEl =\n",
              "          document.querySelector('#df-dfbc9ff9-a69d-4c9c-96d4-c795938a2492 button.colab-df-convert');\n",
              "        buttonEl.style.display =\n",
              "          google.colab.kernel.accessAllowed ? 'block' : 'none';\n",
              "\n",
              "        async function convertToInteractive(key) {\n",
              "          const element = document.querySelector('#df-dfbc9ff9-a69d-4c9c-96d4-c795938a2492');\n",
              "          const dataTable =\n",
              "            await google.colab.kernel.invokeFunction('convertToInteractive',\n",
              "                                                     [key], {});\n",
              "          if (!dataTable) return;\n",
              "\n",
              "          const docLinkHtml = 'Like what you see? Visit the ' +\n",
              "            '<a target=\"_blank\" href=https://colab.research.google.com/notebooks/data_table.ipynb>data table notebook</a>'\n",
              "            + ' to learn more about interactive tables.';\n",
              "          element.innerHTML = '';\n",
              "          dataTable['output_type'] = 'display_data';\n",
              "          await google.colab.output.renderOutput(dataTable, element);\n",
              "          const docLink = document.createElement('div');\n",
              "          docLink.innerHTML = docLinkHtml;\n",
              "          element.appendChild(docLink);\n",
              "        }\n",
              "      </script>\n",
              "    </div>\n",
              "  </div>\n",
              "  "
            ]
          },
          "metadata": {},
          "execution_count": 79
        }
      ],
      "source": [
        "# preview first 5 columns\n",
        "students_data.head()"
      ]
    },
    {
      "cell_type": "code",
      "execution_count": null,
      "metadata": {
        "id": "Y32oEJI_6MzQ",
        "outputId": "e709e79a-7e2e-4758-8902-be1caf830a81",
        "colab": {
          "base_uri": "https://localhost:8080/",
          "height": 207
        }
      },
      "outputs": [
        {
          "output_type": "execute_result",
          "data": {
            "text/plain": [
              "                        names  admission number  balance    english  \\\n",
              "82           Bin Amin, Ng'eno           13159.0      0.0  58.000000   \n",
              "83    Catherine Ndung'u, Kate           13187.0      0.0  84.000000   \n",
              "84      Daisy Machoka, Daniel           13168.0  18161.0  73.465909   \n",
              "85     Daniel Karanja, Wambui           13133.0  33619.0  78.000000   \n",
              "86  Densel Esekon, Washington               NaN      0.0  73.465909   \n",
              "\n",
              "    kiswahili  mathematics    science    sst/cre  Creative Arts  music  \n",
              "82  77.811765    76.477273  69.952381  74.079545             51     44  \n",
              "83  77.811765    68.000000  69.952381  48.000000             91     64  \n",
              "84  77.811765    76.477273  69.952381  74.079545             78     86  \n",
              "85  77.811765    78.000000  69.952381  29.000000             80     84  \n",
              "86  77.811765    76.477273  69.952381  74.079545             46     78  "
            ],
            "text/html": [
              "\n",
              "  <div id=\"df-771df449-f7f0-4ece-aceb-01dc527f5a68\">\n",
              "    <div class=\"colab-df-container\">\n",
              "      <div>\n",
              "<style scoped>\n",
              "    .dataframe tbody tr th:only-of-type {\n",
              "        vertical-align: middle;\n",
              "    }\n",
              "\n",
              "    .dataframe tbody tr th {\n",
              "        vertical-align: top;\n",
              "    }\n",
              "\n",
              "    .dataframe thead th {\n",
              "        text-align: right;\n",
              "    }\n",
              "</style>\n",
              "<table border=\"1\" class=\"dataframe\">\n",
              "  <thead>\n",
              "    <tr style=\"text-align: right;\">\n",
              "      <th></th>\n",
              "      <th>names</th>\n",
              "      <th>admission number</th>\n",
              "      <th>balance</th>\n",
              "      <th>english</th>\n",
              "      <th>kiswahili</th>\n",
              "      <th>mathematics</th>\n",
              "      <th>science</th>\n",
              "      <th>sst/cre</th>\n",
              "      <th>Creative Arts</th>\n",
              "      <th>music</th>\n",
              "    </tr>\n",
              "  </thead>\n",
              "  <tbody>\n",
              "    <tr>\n",
              "      <th>82</th>\n",
              "      <td>Bin Amin, Ng'eno</td>\n",
              "      <td>13159.0</td>\n",
              "      <td>0.0</td>\n",
              "      <td>58.000000</td>\n",
              "      <td>77.811765</td>\n",
              "      <td>76.477273</td>\n",
              "      <td>69.952381</td>\n",
              "      <td>74.079545</td>\n",
              "      <td>51</td>\n",
              "      <td>44</td>\n",
              "    </tr>\n",
              "    <tr>\n",
              "      <th>83</th>\n",
              "      <td>Catherine Ndung'u, Kate</td>\n",
              "      <td>13187.0</td>\n",
              "      <td>0.0</td>\n",
              "      <td>84.000000</td>\n",
              "      <td>77.811765</td>\n",
              "      <td>68.000000</td>\n",
              "      <td>69.952381</td>\n",
              "      <td>48.000000</td>\n",
              "      <td>91</td>\n",
              "      <td>64</td>\n",
              "    </tr>\n",
              "    <tr>\n",
              "      <th>84</th>\n",
              "      <td>Daisy Machoka, Daniel</td>\n",
              "      <td>13168.0</td>\n",
              "      <td>18161.0</td>\n",
              "      <td>73.465909</td>\n",
              "      <td>77.811765</td>\n",
              "      <td>76.477273</td>\n",
              "      <td>69.952381</td>\n",
              "      <td>74.079545</td>\n",
              "      <td>78</td>\n",
              "      <td>86</td>\n",
              "    </tr>\n",
              "    <tr>\n",
              "      <th>85</th>\n",
              "      <td>Daniel Karanja, Wambui</td>\n",
              "      <td>13133.0</td>\n",
              "      <td>33619.0</td>\n",
              "      <td>78.000000</td>\n",
              "      <td>77.811765</td>\n",
              "      <td>78.000000</td>\n",
              "      <td>69.952381</td>\n",
              "      <td>29.000000</td>\n",
              "      <td>80</td>\n",
              "      <td>84</td>\n",
              "    </tr>\n",
              "    <tr>\n",
              "      <th>86</th>\n",
              "      <td>Densel Esekon, Washington</td>\n",
              "      <td>NaN</td>\n",
              "      <td>0.0</td>\n",
              "      <td>73.465909</td>\n",
              "      <td>77.811765</td>\n",
              "      <td>76.477273</td>\n",
              "      <td>69.952381</td>\n",
              "      <td>74.079545</td>\n",
              "      <td>46</td>\n",
              "      <td>78</td>\n",
              "    </tr>\n",
              "  </tbody>\n",
              "</table>\n",
              "</div>\n",
              "      <button class=\"colab-df-convert\" onclick=\"convertToInteractive('df-771df449-f7f0-4ece-aceb-01dc527f5a68')\"\n",
              "              title=\"Convert this dataframe to an interactive table.\"\n",
              "              style=\"display:none;\">\n",
              "        \n",
              "  <svg xmlns=\"http://www.w3.org/2000/svg\" height=\"24px\"viewBox=\"0 0 24 24\"\n",
              "       width=\"24px\">\n",
              "    <path d=\"M0 0h24v24H0V0z\" fill=\"none\"/>\n",
              "    <path d=\"M18.56 5.44l.94 2.06.94-2.06 2.06-.94-2.06-.94-.94-2.06-.94 2.06-2.06.94zm-11 1L8.5 8.5l.94-2.06 2.06-.94-2.06-.94L8.5 2.5l-.94 2.06-2.06.94zm10 10l.94 2.06.94-2.06 2.06-.94-2.06-.94-.94-2.06-.94 2.06-2.06.94z\"/><path d=\"M17.41 7.96l-1.37-1.37c-.4-.4-.92-.59-1.43-.59-.52 0-1.04.2-1.43.59L10.3 9.45l-7.72 7.72c-.78.78-.78 2.05 0 2.83L4 21.41c.39.39.9.59 1.41.59.51 0 1.02-.2 1.41-.59l7.78-7.78 2.81-2.81c.8-.78.8-2.07 0-2.86zM5.41 20L4 18.59l7.72-7.72 1.47 1.35L5.41 20z\"/>\n",
              "  </svg>\n",
              "      </button>\n",
              "      \n",
              "  <style>\n",
              "    .colab-df-container {\n",
              "      display:flex;\n",
              "      flex-wrap:wrap;\n",
              "      gap: 12px;\n",
              "    }\n",
              "\n",
              "    .colab-df-convert {\n",
              "      background-color: #E8F0FE;\n",
              "      border: none;\n",
              "      border-radius: 50%;\n",
              "      cursor: pointer;\n",
              "      display: none;\n",
              "      fill: #1967D2;\n",
              "      height: 32px;\n",
              "      padding: 0 0 0 0;\n",
              "      width: 32px;\n",
              "    }\n",
              "\n",
              "    .colab-df-convert:hover {\n",
              "      background-color: #E2EBFA;\n",
              "      box-shadow: 0px 1px 2px rgba(60, 64, 67, 0.3), 0px 1px 3px 1px rgba(60, 64, 67, 0.15);\n",
              "      fill: #174EA6;\n",
              "    }\n",
              "\n",
              "    [theme=dark] .colab-df-convert {\n",
              "      background-color: #3B4455;\n",
              "      fill: #D2E3FC;\n",
              "    }\n",
              "\n",
              "    [theme=dark] .colab-df-convert:hover {\n",
              "      background-color: #434B5C;\n",
              "      box-shadow: 0px 1px 3px 1px rgba(0, 0, 0, 0.15);\n",
              "      filter: drop-shadow(0px 1px 2px rgba(0, 0, 0, 0.3));\n",
              "      fill: #FFFFFF;\n",
              "    }\n",
              "  </style>\n",
              "\n",
              "      <script>\n",
              "        const buttonEl =\n",
              "          document.querySelector('#df-771df449-f7f0-4ece-aceb-01dc527f5a68 button.colab-df-convert');\n",
              "        buttonEl.style.display =\n",
              "          google.colab.kernel.accessAllowed ? 'block' : 'none';\n",
              "\n",
              "        async function convertToInteractive(key) {\n",
              "          const element = document.querySelector('#df-771df449-f7f0-4ece-aceb-01dc527f5a68');\n",
              "          const dataTable =\n",
              "            await google.colab.kernel.invokeFunction('convertToInteractive',\n",
              "                                                     [key], {});\n",
              "          if (!dataTable) return;\n",
              "\n",
              "          const docLinkHtml = 'Like what you see? Visit the ' +\n",
              "            '<a target=\"_blank\" href=https://colab.research.google.com/notebooks/data_table.ipynb>data table notebook</a>'\n",
              "            + ' to learn more about interactive tables.';\n",
              "          element.innerHTML = '';\n",
              "          dataTable['output_type'] = 'display_data';\n",
              "          await google.colab.output.renderOutput(dataTable, element);\n",
              "          const docLink = document.createElement('div');\n",
              "          docLink.innerHTML = docLinkHtml;\n",
              "          element.appendChild(docLink);\n",
              "        }\n",
              "      </script>\n",
              "    </div>\n",
              "  </div>\n",
              "  "
            ]
          },
          "metadata": {},
          "execution_count": 80
        }
      ],
      "source": [
        "# preview last 5 columns\n",
        "students_data.tail()"
      ]
    },
    {
      "cell_type": "markdown",
      "metadata": {
        "id": "FIlc2kWT6MzQ"
      },
      "source": [
        "## Using Lambda functions\n",
        "\n",
        "What is a lambda function?\n",
        "\n",
        "Refers to an anonymous function (ie a function definition that is not bound to an identifier unless assigned one) intended as a shorthand function. \n",
        "\n",
        "They come in handy since one doesn't have to write multiple lines of code defining a function, and they are written inline."
      ]
    },
    {
      "cell_type": "markdown",
      "metadata": {
        "id": "fr8FPLZJ6MzR"
      },
      "source": [
        "### using ```.apply()```"
      ]
    },
    {
      "cell_type": "code",
      "execution_count": null,
      "metadata": {
        "id": "6x24_6I06MzR",
        "outputId": "e6aca04b-3c32-4032-d459-1be958135c54",
        "colab": {
          "base_uri": "https://localhost:8080/",
          "height": 207
        }
      },
      "outputs": [
        {
          "output_type": "execute_result",
          "data": {
            "text/plain": [
              "                        names  admission number  balance  english  kiswahili  \\\n",
              "82           Bin Amin, Ng'eno           13159.0      0.0     58.0       77.0   \n",
              "83    Catherine Ndung'u, Kate           13187.0      0.0     84.0       77.0   \n",
              "84      Daisy Machoka, Daniel           13168.0  18161.0     73.0       77.0   \n",
              "85     Daniel Karanja, Wambui           13133.0  33619.0     78.0       77.0   \n",
              "86  Densel Esekon, Washington               NaN      0.0     73.0       77.0   \n",
              "\n",
              "    mathematics  science  sst/cre  Creative Arts  music  \n",
              "82         76.0     69.0     74.0             51     44  \n",
              "83         68.0     69.0     48.0             91     64  \n",
              "84         76.0     69.0     74.0             78     86  \n",
              "85         78.0     69.0     29.0             80     84  \n",
              "86         76.0     69.0     74.0             46     78  "
            ],
            "text/html": [
              "\n",
              "  <div id=\"df-c3c77ccd-d1ed-4baa-88eb-0ab1fc846f2a\">\n",
              "    <div class=\"colab-df-container\">\n",
              "      <div>\n",
              "<style scoped>\n",
              "    .dataframe tbody tr th:only-of-type {\n",
              "        vertical-align: middle;\n",
              "    }\n",
              "\n",
              "    .dataframe tbody tr th {\n",
              "        vertical-align: top;\n",
              "    }\n",
              "\n",
              "    .dataframe thead th {\n",
              "        text-align: right;\n",
              "    }\n",
              "</style>\n",
              "<table border=\"1\" class=\"dataframe\">\n",
              "  <thead>\n",
              "    <tr style=\"text-align: right;\">\n",
              "      <th></th>\n",
              "      <th>names</th>\n",
              "      <th>admission number</th>\n",
              "      <th>balance</th>\n",
              "      <th>english</th>\n",
              "      <th>kiswahili</th>\n",
              "      <th>mathematics</th>\n",
              "      <th>science</th>\n",
              "      <th>sst/cre</th>\n",
              "      <th>Creative Arts</th>\n",
              "      <th>music</th>\n",
              "    </tr>\n",
              "  </thead>\n",
              "  <tbody>\n",
              "    <tr>\n",
              "      <th>82</th>\n",
              "      <td>Bin Amin, Ng'eno</td>\n",
              "      <td>13159.0</td>\n",
              "      <td>0.0</td>\n",
              "      <td>58.0</td>\n",
              "      <td>77.0</td>\n",
              "      <td>76.0</td>\n",
              "      <td>69.0</td>\n",
              "      <td>74.0</td>\n",
              "      <td>51</td>\n",
              "      <td>44</td>\n",
              "    </tr>\n",
              "    <tr>\n",
              "      <th>83</th>\n",
              "      <td>Catherine Ndung'u, Kate</td>\n",
              "      <td>13187.0</td>\n",
              "      <td>0.0</td>\n",
              "      <td>84.0</td>\n",
              "      <td>77.0</td>\n",
              "      <td>68.0</td>\n",
              "      <td>69.0</td>\n",
              "      <td>48.0</td>\n",
              "      <td>91</td>\n",
              "      <td>64</td>\n",
              "    </tr>\n",
              "    <tr>\n",
              "      <th>84</th>\n",
              "      <td>Daisy Machoka, Daniel</td>\n",
              "      <td>13168.0</td>\n",
              "      <td>18161.0</td>\n",
              "      <td>73.0</td>\n",
              "      <td>77.0</td>\n",
              "      <td>76.0</td>\n",
              "      <td>69.0</td>\n",
              "      <td>74.0</td>\n",
              "      <td>78</td>\n",
              "      <td>86</td>\n",
              "    </tr>\n",
              "    <tr>\n",
              "      <th>85</th>\n",
              "      <td>Daniel Karanja, Wambui</td>\n",
              "      <td>13133.0</td>\n",
              "      <td>33619.0</td>\n",
              "      <td>78.0</td>\n",
              "      <td>77.0</td>\n",
              "      <td>78.0</td>\n",
              "      <td>69.0</td>\n",
              "      <td>29.0</td>\n",
              "      <td>80</td>\n",
              "      <td>84</td>\n",
              "    </tr>\n",
              "    <tr>\n",
              "      <th>86</th>\n",
              "      <td>Densel Esekon, Washington</td>\n",
              "      <td>NaN</td>\n",
              "      <td>0.0</td>\n",
              "      <td>73.0</td>\n",
              "      <td>77.0</td>\n",
              "      <td>76.0</td>\n",
              "      <td>69.0</td>\n",
              "      <td>74.0</td>\n",
              "      <td>46</td>\n",
              "      <td>78</td>\n",
              "    </tr>\n",
              "  </tbody>\n",
              "</table>\n",
              "</div>\n",
              "      <button class=\"colab-df-convert\" onclick=\"convertToInteractive('df-c3c77ccd-d1ed-4baa-88eb-0ab1fc846f2a')\"\n",
              "              title=\"Convert this dataframe to an interactive table.\"\n",
              "              style=\"display:none;\">\n",
              "        \n",
              "  <svg xmlns=\"http://www.w3.org/2000/svg\" height=\"24px\"viewBox=\"0 0 24 24\"\n",
              "       width=\"24px\">\n",
              "    <path d=\"M0 0h24v24H0V0z\" fill=\"none\"/>\n",
              "    <path d=\"M18.56 5.44l.94 2.06.94-2.06 2.06-.94-2.06-.94-.94-2.06-.94 2.06-2.06.94zm-11 1L8.5 8.5l.94-2.06 2.06-.94-2.06-.94L8.5 2.5l-.94 2.06-2.06.94zm10 10l.94 2.06.94-2.06 2.06-.94-2.06-.94-.94-2.06-.94 2.06-2.06.94z\"/><path d=\"M17.41 7.96l-1.37-1.37c-.4-.4-.92-.59-1.43-.59-.52 0-1.04.2-1.43.59L10.3 9.45l-7.72 7.72c-.78.78-.78 2.05 0 2.83L4 21.41c.39.39.9.59 1.41.59.51 0 1.02-.2 1.41-.59l7.78-7.78 2.81-2.81c.8-.78.8-2.07 0-2.86zM5.41 20L4 18.59l7.72-7.72 1.47 1.35L5.41 20z\"/>\n",
              "  </svg>\n",
              "      </button>\n",
              "      \n",
              "  <style>\n",
              "    .colab-df-container {\n",
              "      display:flex;\n",
              "      flex-wrap:wrap;\n",
              "      gap: 12px;\n",
              "    }\n",
              "\n",
              "    .colab-df-convert {\n",
              "      background-color: #E8F0FE;\n",
              "      border: none;\n",
              "      border-radius: 50%;\n",
              "      cursor: pointer;\n",
              "      display: none;\n",
              "      fill: #1967D2;\n",
              "      height: 32px;\n",
              "      padding: 0 0 0 0;\n",
              "      width: 32px;\n",
              "    }\n",
              "\n",
              "    .colab-df-convert:hover {\n",
              "      background-color: #E2EBFA;\n",
              "      box-shadow: 0px 1px 2px rgba(60, 64, 67, 0.3), 0px 1px 3px 1px rgba(60, 64, 67, 0.15);\n",
              "      fill: #174EA6;\n",
              "    }\n",
              "\n",
              "    [theme=dark] .colab-df-convert {\n",
              "      background-color: #3B4455;\n",
              "      fill: #D2E3FC;\n",
              "    }\n",
              "\n",
              "    [theme=dark] .colab-df-convert:hover {\n",
              "      background-color: #434B5C;\n",
              "      box-shadow: 0px 1px 3px 1px rgba(0, 0, 0, 0.15);\n",
              "      filter: drop-shadow(0px 1px 2px rgba(0, 0, 0, 0.3));\n",
              "      fill: #FFFFFF;\n",
              "    }\n",
              "  </style>\n",
              "\n",
              "      <script>\n",
              "        const buttonEl =\n",
              "          document.querySelector('#df-c3c77ccd-d1ed-4baa-88eb-0ab1fc846f2a button.colab-df-convert');\n",
              "        buttonEl.style.display =\n",
              "          google.colab.kernel.accessAllowed ? 'block' : 'none';\n",
              "\n",
              "        async function convertToInteractive(key) {\n",
              "          const element = document.querySelector('#df-c3c77ccd-d1ed-4baa-88eb-0ab1fc846f2a');\n",
              "          const dataTable =\n",
              "            await google.colab.kernel.invokeFunction('convertToInteractive',\n",
              "                                                     [key], {});\n",
              "          if (!dataTable) return;\n",
              "\n",
              "          const docLinkHtml = 'Like what you see? Visit the ' +\n",
              "            '<a target=\"_blank\" href=https://colab.research.google.com/notebooks/data_table.ipynb>data table notebook</a>'\n",
              "            + ' to learn more about interactive tables.';\n",
              "          element.innerHTML = '';\n",
              "          dataTable['output_type'] = 'display_data';\n",
              "          await google.colab.output.renderOutput(dataTable, element);\n",
              "          const docLink = document.createElement('div');\n",
              "          docLink.innerHTML = docLinkHtml;\n",
              "          element.appendChild(docLink);\n",
              "        }\n",
              "      </script>\n",
              "    </div>\n",
              "  </div>\n",
              "  "
            ]
          },
          "metadata": {},
          "execution_count": 81
        }
      ],
      "source": [
        "# using lamda function to remove the decimals in the scores that resulted from replacing with mean\n",
        "deci_columns = [\"english\", \"kiswahili\", \"mathematics\",\"science\", \"sst/cre\"]\n",
        "\n",
        "for col in deci_columns:\n",
        "    students_data[col] = students_data[col].apply(lambda x: np.trunc(x))\n",
        "\n",
        "# preview the data\n",
        "students_data.tail()"
      ]
    },
    {
      "cell_type": "markdown",
      "metadata": {
        "id": "ta0NxNai6MzR"
      },
      "source": [
        "### using ```.assign()```"
      ]
    },
    {
      "cell_type": "code",
      "execution_count": null,
      "metadata": {
        "id": "OwJ_lYJ46MzS"
      },
      "outputs": [],
      "source": [
        "# lets find the students total\n",
        "students_data = students_data.assign(Total = lambda x: x[\"english\"] + x[\"kiswahili\"] + x[\"mathematics\"] + x[\"science\"] + x[\"sst/cre\"] + x[\"Creative Arts\"] + x[\"music\"])"
      ]
    },
    {
      "cell_type": "code",
      "execution_count": null,
      "metadata": {
        "id": "3sgsxEg66MzS",
        "outputId": "aa4c7c13-8a73-434c-8474-c72d6086dc67",
        "colab": {
          "base_uri": "https://localhost:8080/",
          "height": 207
        }
      },
      "outputs": [
        {
          "output_type": "execute_result",
          "data": {
            "text/plain": [
              "                   names  admission number  balance  english  kiswahili  \\\n",
              "0    JERIEL NDEDA, OBURA           13259.0      0.0     81.0       39.0   \n",
              "1  MUKUHA TIMOTHY, KAMAU           13243.0      0.0     85.0       74.0   \n",
              "2             JOB, NGARA           13307.0      0.0     54.0       49.0   \n",
              "3     CHEGE DAVID, KAMAU           13258.0      0.0     71.0       97.0   \n",
              "4    RAMADHAN MUSA, TEPO           13363.0      0.0     40.0       84.0   \n",
              "\n",
              "   mathematics  science  sst/cre  Creative Arts  music  Total  \n",
              "0         50.0     30.0     59.0             99     80  438.0  \n",
              "1         68.0     49.0     78.0             38     86  478.0  \n",
              "2         53.0     59.0     72.0             86     62  435.0  \n",
              "3         92.0     41.0     81.0             77     80  539.0  \n",
              "4         74.0     82.0     89.0             64     46  479.0  "
            ],
            "text/html": [
              "\n",
              "  <div id=\"df-66da0083-4956-436f-844d-227f4c28553c\">\n",
              "    <div class=\"colab-df-container\">\n",
              "      <div>\n",
              "<style scoped>\n",
              "    .dataframe tbody tr th:only-of-type {\n",
              "        vertical-align: middle;\n",
              "    }\n",
              "\n",
              "    .dataframe tbody tr th {\n",
              "        vertical-align: top;\n",
              "    }\n",
              "\n",
              "    .dataframe thead th {\n",
              "        text-align: right;\n",
              "    }\n",
              "</style>\n",
              "<table border=\"1\" class=\"dataframe\">\n",
              "  <thead>\n",
              "    <tr style=\"text-align: right;\">\n",
              "      <th></th>\n",
              "      <th>names</th>\n",
              "      <th>admission number</th>\n",
              "      <th>balance</th>\n",
              "      <th>english</th>\n",
              "      <th>kiswahili</th>\n",
              "      <th>mathematics</th>\n",
              "      <th>science</th>\n",
              "      <th>sst/cre</th>\n",
              "      <th>Creative Arts</th>\n",
              "      <th>music</th>\n",
              "      <th>Total</th>\n",
              "    </tr>\n",
              "  </thead>\n",
              "  <tbody>\n",
              "    <tr>\n",
              "      <th>0</th>\n",
              "      <td>JERIEL NDEDA, OBURA</td>\n",
              "      <td>13259.0</td>\n",
              "      <td>0.0</td>\n",
              "      <td>81.0</td>\n",
              "      <td>39.0</td>\n",
              "      <td>50.0</td>\n",
              "      <td>30.0</td>\n",
              "      <td>59.0</td>\n",
              "      <td>99</td>\n",
              "      <td>80</td>\n",
              "      <td>438.0</td>\n",
              "    </tr>\n",
              "    <tr>\n",
              "      <th>1</th>\n",
              "      <td>MUKUHA TIMOTHY, KAMAU</td>\n",
              "      <td>13243.0</td>\n",
              "      <td>0.0</td>\n",
              "      <td>85.0</td>\n",
              "      <td>74.0</td>\n",
              "      <td>68.0</td>\n",
              "      <td>49.0</td>\n",
              "      <td>78.0</td>\n",
              "      <td>38</td>\n",
              "      <td>86</td>\n",
              "      <td>478.0</td>\n",
              "    </tr>\n",
              "    <tr>\n",
              "      <th>2</th>\n",
              "      <td>JOB, NGARA</td>\n",
              "      <td>13307.0</td>\n",
              "      <td>0.0</td>\n",
              "      <td>54.0</td>\n",
              "      <td>49.0</td>\n",
              "      <td>53.0</td>\n",
              "      <td>59.0</td>\n",
              "      <td>72.0</td>\n",
              "      <td>86</td>\n",
              "      <td>62</td>\n",
              "      <td>435.0</td>\n",
              "    </tr>\n",
              "    <tr>\n",
              "      <th>3</th>\n",
              "      <td>CHEGE DAVID, KAMAU</td>\n",
              "      <td>13258.0</td>\n",
              "      <td>0.0</td>\n",
              "      <td>71.0</td>\n",
              "      <td>97.0</td>\n",
              "      <td>92.0</td>\n",
              "      <td>41.0</td>\n",
              "      <td>81.0</td>\n",
              "      <td>77</td>\n",
              "      <td>80</td>\n",
              "      <td>539.0</td>\n",
              "    </tr>\n",
              "    <tr>\n",
              "      <th>4</th>\n",
              "      <td>RAMADHAN MUSA, TEPO</td>\n",
              "      <td>13363.0</td>\n",
              "      <td>0.0</td>\n",
              "      <td>40.0</td>\n",
              "      <td>84.0</td>\n",
              "      <td>74.0</td>\n",
              "      <td>82.0</td>\n",
              "      <td>89.0</td>\n",
              "      <td>64</td>\n",
              "      <td>46</td>\n",
              "      <td>479.0</td>\n",
              "    </tr>\n",
              "  </tbody>\n",
              "</table>\n",
              "</div>\n",
              "      <button class=\"colab-df-convert\" onclick=\"convertToInteractive('df-66da0083-4956-436f-844d-227f4c28553c')\"\n",
              "              title=\"Convert this dataframe to an interactive table.\"\n",
              "              style=\"display:none;\">\n",
              "        \n",
              "  <svg xmlns=\"http://www.w3.org/2000/svg\" height=\"24px\"viewBox=\"0 0 24 24\"\n",
              "       width=\"24px\">\n",
              "    <path d=\"M0 0h24v24H0V0z\" fill=\"none\"/>\n",
              "    <path d=\"M18.56 5.44l.94 2.06.94-2.06 2.06-.94-2.06-.94-.94-2.06-.94 2.06-2.06.94zm-11 1L8.5 8.5l.94-2.06 2.06-.94-2.06-.94L8.5 2.5l-.94 2.06-2.06.94zm10 10l.94 2.06.94-2.06 2.06-.94-2.06-.94-.94-2.06-.94 2.06-2.06.94z\"/><path d=\"M17.41 7.96l-1.37-1.37c-.4-.4-.92-.59-1.43-.59-.52 0-1.04.2-1.43.59L10.3 9.45l-7.72 7.72c-.78.78-.78 2.05 0 2.83L4 21.41c.39.39.9.59 1.41.59.51 0 1.02-.2 1.41-.59l7.78-7.78 2.81-2.81c.8-.78.8-2.07 0-2.86zM5.41 20L4 18.59l7.72-7.72 1.47 1.35L5.41 20z\"/>\n",
              "  </svg>\n",
              "      </button>\n",
              "      \n",
              "  <style>\n",
              "    .colab-df-container {\n",
              "      display:flex;\n",
              "      flex-wrap:wrap;\n",
              "      gap: 12px;\n",
              "    }\n",
              "\n",
              "    .colab-df-convert {\n",
              "      background-color: #E8F0FE;\n",
              "      border: none;\n",
              "      border-radius: 50%;\n",
              "      cursor: pointer;\n",
              "      display: none;\n",
              "      fill: #1967D2;\n",
              "      height: 32px;\n",
              "      padding: 0 0 0 0;\n",
              "      width: 32px;\n",
              "    }\n",
              "\n",
              "    .colab-df-convert:hover {\n",
              "      background-color: #E2EBFA;\n",
              "      box-shadow: 0px 1px 2px rgba(60, 64, 67, 0.3), 0px 1px 3px 1px rgba(60, 64, 67, 0.15);\n",
              "      fill: #174EA6;\n",
              "    }\n",
              "\n",
              "    [theme=dark] .colab-df-convert {\n",
              "      background-color: #3B4455;\n",
              "      fill: #D2E3FC;\n",
              "    }\n",
              "\n",
              "    [theme=dark] .colab-df-convert:hover {\n",
              "      background-color: #434B5C;\n",
              "      box-shadow: 0px 1px 3px 1px rgba(0, 0, 0, 0.15);\n",
              "      filter: drop-shadow(0px 1px 2px rgba(0, 0, 0, 0.3));\n",
              "      fill: #FFFFFF;\n",
              "    }\n",
              "  </style>\n",
              "\n",
              "      <script>\n",
              "        const buttonEl =\n",
              "          document.querySelector('#df-66da0083-4956-436f-844d-227f4c28553c button.colab-df-convert');\n",
              "        buttonEl.style.display =\n",
              "          google.colab.kernel.accessAllowed ? 'block' : 'none';\n",
              "\n",
              "        async function convertToInteractive(key) {\n",
              "          const element = document.querySelector('#df-66da0083-4956-436f-844d-227f4c28553c');\n",
              "          const dataTable =\n",
              "            await google.colab.kernel.invokeFunction('convertToInteractive',\n",
              "                                                     [key], {});\n",
              "          if (!dataTable) return;\n",
              "\n",
              "          const docLinkHtml = 'Like what you see? Visit the ' +\n",
              "            '<a target=\"_blank\" href=https://colab.research.google.com/notebooks/data_table.ipynb>data table notebook</a>'\n",
              "            + ' to learn more about interactive tables.';\n",
              "          element.innerHTML = '';\n",
              "          dataTable['output_type'] = 'display_data';\n",
              "          await google.colab.output.renderOutput(dataTable, element);\n",
              "          const docLink = document.createElement('div');\n",
              "          docLink.innerHTML = docLinkHtml;\n",
              "          element.appendChild(docLink);\n",
              "        }\n",
              "      </script>\n",
              "    </div>\n",
              "  </div>\n",
              "  "
            ]
          },
          "metadata": {},
          "execution_count": 83
        }
      ],
      "source": [
        "students_data.head()"
      ]
    },
    {
      "cell_type": "markdown",
      "source": [
        "## Icing on the cake"
      ],
      "metadata": {
        "id": "mhwv0cUpId5X"
      }
    },
    {
      "cell_type": "markdown",
      "source": [
        "## Univariate analysis\n",
        "\n",
        "Univariate analysis is the simplest form of analyzing data. It involves studying one variable at a time. Examples of univariate analysis include finding the mean, median, mode, and standard deviation of a single variable. In Python, you can use the Pandas library to perform univariate analysis on a DataFrame. For example, you can use the df.describe() method to get summary statistics for all numerical columns in a DataFrame, or you can use the df.value_counts() method to get the frequency counts for a single categorical column."
      ],
      "metadata": {
        "id": "RvGBbKCYIh-T"
      }
    },
    {
      "cell_type": "code",
      "source": [],
      "metadata": {
        "id": "RVIDa4RkIg0G"
      },
      "execution_count": null,
      "outputs": []
    },
    {
      "cell_type": "markdown",
      "source": [
        "## Bivariate analysis\n",
        "\n",
        "Bivariate analysis is the simultaneous analysis of two variables. It explores the relationship between two variables and can help identify any correlations or patterns. Examples of bivariate analysis include a scatter plot to show the relationship between two numerical variables or a stacked bar chart to show the relationship between a categorical variable and a numerical variable. In Python, you can use the Pandas library to create scatter plots, line plots, and other visualizations to perform bivariate analysis on a DataFrame. You can also use the df.corr() method to calculate the correlation coefficient between any two numerical columns in a DataFrame."
      ],
      "metadata": {
        "id": "BZxoJpDPImET"
      }
    },
    {
      "cell_type": "code",
      "source": [],
      "metadata": {
        "id": "su1UFsA8IgI8"
      },
      "execution_count": null,
      "outputs": []
    }
  ]
}